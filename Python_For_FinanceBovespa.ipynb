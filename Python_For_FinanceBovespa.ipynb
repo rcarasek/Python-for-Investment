{
  "nbformat": 4,
  "nbformat_minor": 0,
  "metadata": {
    "colab": {
      "name": "Python For FinanceBovespa.ipynb",
      "provenance": [],
      "authorship_tag": "ABX9TyOG0eHh8UV2KZdDPJMnNF/I",
      "include_colab_link": true
    },
    "kernelspec": {
      "name": "python3",
      "display_name": "Python 3"
    },
    "language_info": {
      "name": "python"
    }
  },
  "cells": [
    {
      "cell_type": "markdown",
      "metadata": {
        "id": "view-in-github",
        "colab_type": "text"
      },
      "source": [
        "<a href=\"https://colab.research.google.com/github/rcarasek/Python-for-Investment/blob/main/Python_For_FinanceBovespa.ipynb\" target=\"_parent\"><img src=\"https://colab.research.google.com/assets/colab-badge.svg\" alt=\"Open In Colab\"/></a>"
      ]
    },
    {
      "cell_type": "code",
      "metadata": {
        "id": "EbyXGxwEnP_N"
      },
      "source": [
        "# import libraries\n",
        "from datetime import datetime\n",
        "import numpy as np\n",
        "import pandas as pd\n",
        "import pandas_datareader as web\n",
        "import matplotlib.pyplot as plt\n",
        "plt.style.use('fivethirtyeight')\n"
      ],
      "execution_count": 20,
      "outputs": []
    },
    {
      "cell_type": "code",
      "metadata": {
        "colab": {
          "base_uri": "https://localhost:8080/"
        },
        "id": "DgZU0umArGkw",
        "outputId": "28ed7825-32f0-40f6-d62b-a639a7f8a673"
      },
      "source": [
        "ativosCod = ['ITSA4.SA', 'BBAS3.SA' ]\n",
        "stockStartDate = '2013-01-01'\n",
        "today = datetime.today().strftime('%Y-%m-%d')\n",
        "print(today)\n",
        "print(type(ativosCod))"
      ],
      "execution_count": 21,
      "outputs": [
        {
          "output_type": "stream",
          "text": [
            "2021-05-17\n",
            "<class 'list'>\n"
          ],
          "name": "stdout"
        }
      ]
    },
    {
      "cell_type": "code",
      "metadata": {
        "colab": {
          "base_uri": "https://localhost:8080/"
        },
        "id": "18_ELhxvrYvi",
        "outputId": "4ac88c77-cbbe-462c-fea7-10062dad4e07"
      },
      "source": [
        "# pegar a quantidade de ativos na lista ativosCod\n",
        "numAtivos = len(ativosCod)\n",
        "if numAtivos == 0:\n",
        "  print('não temos ativos na lista')\n",
        "elif numAtivos == 1:\n",
        "  print('temos 1 ativo na lista')\n",
        "else:\n",
        "  print('Temos ' + str(numAtivos) + ' ativos na lista')\n",
        "\n",
        "ativosCod"
      ],
      "execution_count": 23,
      "outputs": [
        {
          "output_type": "stream",
          "text": [
            "Temos 2 ativos na lista\n"
          ],
          "name": "stdout"
        },
        {
          "output_type": "execute_result",
          "data": {
            "text/plain": [
              "['ITSA4.SA', 'BBAS3.SA']"
            ]
          },
          "metadata": {
            "tags": []
          },
          "execution_count": 23
        }
      ]
    },
    {
      "cell_type": "code",
      "metadata": {
        "id": "AynswV8Rrg8t"
      },
      "source": [
        "# criando uma função para pegar os preços dos ativos\n",
        "def getMyPortfolio(stocks = ativosCod , start = stockStartDate , end = today, col = 'Adj Close'):\n",
        "  data = web.DataReader(stocks, data_source='yahoo', start=start, end=end )[col]\n",
        "  return data"
      ],
      "execution_count": 25,
      "outputs": []
    },
    {
      "cell_type": "code",
      "metadata": {
        "colab": {
          "base_uri": "https://localhost:8080/",
          "height": 450
        },
        "id": "Lf1G7TqMtSId",
        "outputId": "d4abcaa7-0028-4034-dc4d-2bfc196db5a7"
      },
      "source": [
        "# pegando informações do portfolio de ativos\n",
        "meusAtivos = getMyPortfolio(ativosCod)\n",
        "meusAtivos"
      ],
      "execution_count": 26,
      "outputs": [
        {
          "output_type": "execute_result",
          "data": {
            "text/html": [
              "<div>\n",
              "<style scoped>\n",
              "    .dataframe tbody tr th:only-of-type {\n",
              "        vertical-align: middle;\n",
              "    }\n",
              "\n",
              "    .dataframe tbody tr th {\n",
              "        vertical-align: top;\n",
              "    }\n",
              "\n",
              "    .dataframe thead th {\n",
              "        text-align: right;\n",
              "    }\n",
              "</style>\n",
              "<table border=\"1\" class=\"dataframe\">\n",
              "  <thead>\n",
              "    <tr style=\"text-align: right;\">\n",
              "      <th>Symbols</th>\n",
              "      <th>ITSA4.SA</th>\n",
              "      <th>BBAS3.SA</th>\n",
              "    </tr>\n",
              "    <tr>\n",
              "      <th>Date</th>\n",
              "      <th></th>\n",
              "      <th></th>\n",
              "    </tr>\n",
              "  </thead>\n",
              "  <tbody>\n",
              "    <tr>\n",
              "      <th>2013-01-02</th>\n",
              "      <td>3.974614</td>\n",
              "      <td>15.510180</td>\n",
              "    </tr>\n",
              "    <tr>\n",
              "      <th>2013-01-03</th>\n",
              "      <td>4.101423</td>\n",
              "      <td>15.816780</td>\n",
              "    </tr>\n",
              "    <tr>\n",
              "      <th>2013-01-04</th>\n",
              "      <td>4.081606</td>\n",
              "      <td>15.624401</td>\n",
              "    </tr>\n",
              "    <tr>\n",
              "      <th>2013-01-07</th>\n",
              "      <td>4.030092</td>\n",
              "      <td>15.720593</td>\n",
              "    </tr>\n",
              "    <tr>\n",
              "      <th>2013-01-08</th>\n",
              "      <td>4.057832</td>\n",
              "      <td>15.900935</td>\n",
              "    </tr>\n",
              "    <tr>\n",
              "      <th>...</th>\n",
              "      <td>...</td>\n",
              "      <td>...</td>\n",
              "    </tr>\n",
              "    <tr>\n",
              "      <th>2021-05-11</th>\n",
              "      <td>10.450000</td>\n",
              "      <td>30.549999</td>\n",
              "    </tr>\n",
              "    <tr>\n",
              "      <th>2021-05-12</th>\n",
              "      <td>10.250000</td>\n",
              "      <td>30.350000</td>\n",
              "    </tr>\n",
              "    <tr>\n",
              "      <th>2021-05-13</th>\n",
              "      <td>10.430000</td>\n",
              "      <td>31.160000</td>\n",
              "    </tr>\n",
              "    <tr>\n",
              "      <th>2021-05-14</th>\n",
              "      <td>10.640000</td>\n",
              "      <td>31.160000</td>\n",
              "    </tr>\n",
              "    <tr>\n",
              "      <th>2021-05-17</th>\n",
              "      <td>10.600000</td>\n",
              "      <td>31.730000</td>\n",
              "    </tr>\n",
              "  </tbody>\n",
              "</table>\n",
              "<p>2074 rows × 2 columns</p>\n",
              "</div>"
            ],
            "text/plain": [
              "Symbols      ITSA4.SA   BBAS3.SA\n",
              "Date                            \n",
              "2013-01-02   3.974614  15.510180\n",
              "2013-01-03   4.101423  15.816780\n",
              "2013-01-04   4.081606  15.624401\n",
              "2013-01-07   4.030092  15.720593\n",
              "2013-01-08   4.057832  15.900935\n",
              "...               ...        ...\n",
              "2021-05-11  10.450000  30.549999\n",
              "2021-05-12  10.250000  30.350000\n",
              "2021-05-13  10.430000  31.160000\n",
              "2021-05-14  10.640000  31.160000\n",
              "2021-05-17  10.600000  31.730000\n",
              "\n",
              "[2074 rows x 2 columns]"
            ]
          },
          "metadata": {
            "tags": []
          },
          "execution_count": 26
        }
      ]
    },
    {
      "cell_type": "code",
      "metadata": {
        "id": "DPMk9Ybctn2Z"
      },
      "source": [
        ""
      ],
      "execution_count": null,
      "outputs": []
    }
  ]
}