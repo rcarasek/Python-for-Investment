{
  "nbformat": 4,
  "nbformat_minor": 0,
  "metadata": {
    "colab": {
      "name": "PyForInvest_Colab_aula07.ipynb",
      "provenance": [],
      "authorship_tag": "ABX9TyNwsokZ0TbMPWRsUNc/WfNL",
      "include_colab_link": true
    },
    "kernelspec": {
      "name": "python3",
      "display_name": "Python 3"
    },
    "language_info": {
      "name": "python"
    }
  },
  "cells": [
    {
      "cell_type": "markdown",
      "metadata": {
        "id": "view-in-github",
        "colab_type": "text"
      },
      "source": [
        "<a href=\"https://colab.research.google.com/github/rcarasek/Python-for-Investment/blob/main/PyForInvest_Colab_aula07.ipynb\" target=\"_parent\"><img src=\"https://colab.research.google.com/assets/colab-badge.svg\" alt=\"Open In Colab\"/></a>"
      ]
    },
    {
      "cell_type": "code",
      "metadata": {
        "colab": {
          "base_uri": "https://localhost:8080/"
        },
        "id": "2zsk5mcO-Qvl",
        "outputId": "a3cc3548-b4b2-4b40-e2b7-4b3ee4c4cee7"
      },
      "source": [
        "# CONFIGURANDO YAHOO FINANCE\n",
        "!pip install yfinance --upgrade --no-cache-dir\n",
        "import yfinance as yf"
      ],
      "execution_count": 3,
      "outputs": [
        {
          "output_type": "stream",
          "text": [
            "Requirement already up-to-date: yfinance in /usr/local/lib/python3.7/dist-packages (0.1.59)\n",
            "Requirement already satisfied, skipping upgrade: numpy>=1.15 in /usr/local/lib/python3.7/dist-packages (from yfinance) (1.19.5)\n",
            "Requirement already satisfied, skipping upgrade: multitasking>=0.0.7 in /usr/local/lib/python3.7/dist-packages (from yfinance) (0.0.9)\n",
            "Requirement already satisfied, skipping upgrade: lxml>=4.5.1 in /usr/local/lib/python3.7/dist-packages (from yfinance) (4.6.3)\n",
            "Requirement already satisfied, skipping upgrade: pandas>=0.24 in /usr/local/lib/python3.7/dist-packages (from yfinance) (1.1.5)\n",
            "Requirement already satisfied, skipping upgrade: requests>=2.20 in /usr/local/lib/python3.7/dist-packages (from yfinance) (2.23.0)\n",
            "Requirement already satisfied, skipping upgrade: python-dateutil>=2.7.3 in /usr/local/lib/python3.7/dist-packages (from pandas>=0.24->yfinance) (2.8.1)\n",
            "Requirement already satisfied, skipping upgrade: pytz>=2017.2 in /usr/local/lib/python3.7/dist-packages (from pandas>=0.24->yfinance) (2018.9)\n",
            "Requirement already satisfied, skipping upgrade: certifi>=2017.4.17 in /usr/local/lib/python3.7/dist-packages (from requests>=2.20->yfinance) (2020.12.5)\n",
            "Requirement already satisfied, skipping upgrade: idna<3,>=2.5 in /usr/local/lib/python3.7/dist-packages (from requests>=2.20->yfinance) (2.10)\n",
            "Requirement already satisfied, skipping upgrade: chardet<4,>=3.0.2 in /usr/local/lib/python3.7/dist-packages (from requests>=2.20->yfinance) (3.0.4)\n",
            "Requirement already satisfied, skipping upgrade: urllib3!=1.25.0,!=1.25.1,<1.26,>=1.21.1 in /usr/local/lib/python3.7/dist-packages (from requests>=2.20->yfinance) (1.24.3)\n",
            "Requirement already satisfied, skipping upgrade: six>=1.5 in /usr/local/lib/python3.7/dist-packages (from python-dateutil>=2.7.3->pandas>=0.24->yfinance) (1.15.0)\n"
          ],
          "name": "stdout"
        }
      ]
    },
    {
      "cell_type": "code",
      "metadata": {
        "id": "hOqn46qF-cPa"
      },
      "source": [
        "import numpy as np\n",
        "import pandas as pd\n",
        "import matplotlib.pyplot as plt\n",
        "import seaborn as sns\n",
        "sns.set()\n",
        "\n",
        "import matplotlib\n",
        "matplotlib.rcParams['figure.figsize'] = (16,8)\n",
        "matplotlib.rcParams.update({'font.size': 22})\n",
        "\n",
        "import warnings\n",
        "warnings.filterwarnings('ignore')\n",
        "\n",
        "from scipy.stats import norm, t"
      ],
      "execution_count": 7,
      "outputs": []
    },
    {
      "cell_type": "markdown",
      "metadata": {
        "id": "ToUcMJoB_7x9"
      },
      "source": [
        "### análise estatistica iBov"
      ]
    },
    {
      "cell_type": "code",
      "metadata": {
        "colab": {
          "base_uri": "https://localhost:8080/"
        },
        "id": "fiKCtQnf_6KG",
        "outputId": "e233c246-cec2-4102-adf1-f28cd2fc5e7a"
      },
      "source": [
        "ibov = yf.download('^BVSP')[['Adj Close']]"
      ],
      "execution_count": 8,
      "outputs": [
        {
          "output_type": "stream",
          "text": [
            "\r[*********************100%***********************]  1 of 1 completed\n"
          ],
          "name": "stdout"
        }
      ]
    },
    {
      "cell_type": "code",
      "metadata": {
        "colab": {
          "base_uri": "https://localhost:8080/",
          "height": 450
        },
        "id": "ipeQXIXwAaak",
        "outputId": "9d53e6ee-cb2d-44d3-c571-493035734761"
      },
      "source": [
        "ibov"
      ],
      "execution_count": 11,
      "outputs": [
        {
          "output_type": "execute_result",
          "data": {
            "text/html": [
              "<div>\n",
              "<style scoped>\n",
              "    .dataframe tbody tr th:only-of-type {\n",
              "        vertical-align: middle;\n",
              "    }\n",
              "\n",
              "    .dataframe tbody tr th {\n",
              "        vertical-align: top;\n",
              "    }\n",
              "\n",
              "    .dataframe thead th {\n",
              "        text-align: right;\n",
              "    }\n",
              "</style>\n",
              "<table border=\"1\" class=\"dataframe\">\n",
              "  <thead>\n",
              "    <tr style=\"text-align: right;\">\n",
              "      <th></th>\n",
              "      <th>Adj Close</th>\n",
              "    </tr>\n",
              "    <tr>\n",
              "      <th>Date</th>\n",
              "      <th></th>\n",
              "    </tr>\n",
              "  </thead>\n",
              "  <tbody>\n",
              "    <tr>\n",
              "      <th>1993-04-27</th>\n",
              "      <td>24.500000</td>\n",
              "    </tr>\n",
              "    <tr>\n",
              "      <th>1993-04-28</th>\n",
              "      <td>24.299999</td>\n",
              "    </tr>\n",
              "    <tr>\n",
              "      <th>1993-04-29</th>\n",
              "      <td>23.700001</td>\n",
              "    </tr>\n",
              "    <tr>\n",
              "      <th>1993-04-30</th>\n",
              "      <td>24.100000</td>\n",
              "    </tr>\n",
              "    <tr>\n",
              "      <th>1993-05-03</th>\n",
              "      <td>24.100000</td>\n",
              "    </tr>\n",
              "    <tr>\n",
              "      <th>...</th>\n",
              "      <td>...</td>\n",
              "    </tr>\n",
              "    <tr>\n",
              "      <th>2021-04-30</th>\n",
              "      <td>118894.000000</td>\n",
              "    </tr>\n",
              "    <tr>\n",
              "      <th>2021-05-03</th>\n",
              "      <td>119209.000000</td>\n",
              "    </tr>\n",
              "    <tr>\n",
              "      <th>2021-05-04</th>\n",
              "      <td>117712.000000</td>\n",
              "    </tr>\n",
              "    <tr>\n",
              "      <th>2021-05-05</th>\n",
              "      <td>119564.000000</td>\n",
              "    </tr>\n",
              "    <tr>\n",
              "      <th>2021-05-06</th>\n",
              "      <td>119619.976562</td>\n",
              "    </tr>\n",
              "  </tbody>\n",
              "</table>\n",
              "<p>6930 rows × 1 columns</p>\n",
              "</div>"
            ],
            "text/plain": [
              "                Adj Close\n",
              "Date                     \n",
              "1993-04-27      24.500000\n",
              "1993-04-28      24.299999\n",
              "1993-04-29      23.700001\n",
              "1993-04-30      24.100000\n",
              "1993-05-03      24.100000\n",
              "...                   ...\n",
              "2021-04-30  118894.000000\n",
              "2021-05-03  119209.000000\n",
              "2021-05-04  117712.000000\n",
              "2021-05-05  119564.000000\n",
              "2021-05-06  119619.976562\n",
              "\n",
              "[6930 rows x 1 columns]"
            ]
          },
          "metadata": {
            "tags": []
          },
          "execution_count": 11
        }
      ]
    },
    {
      "cell_type": "code",
      "metadata": {
        "id": "X0ud9Uk7Adta"
      },
      "source": [
        "ibov['retorno'] = ibov['Adj Close'].pct_change()\n",
        "ibov.dropna(inplace=True)"
      ],
      "execution_count": 12,
      "outputs": []
    },
    {
      "cell_type": "code",
      "metadata": {
        "colab": {
          "base_uri": "https://localhost:8080/",
          "height": 450
        },
        "id": "8lyGPTYDA0Jp",
        "outputId": "cde586c0-8e19-424c-e50c-86d1da5285fb"
      },
      "source": [
        "ibov"
      ],
      "execution_count": 13,
      "outputs": [
        {
          "output_type": "execute_result",
          "data": {
            "text/html": [
              "<div>\n",
              "<style scoped>\n",
              "    .dataframe tbody tr th:only-of-type {\n",
              "        vertical-align: middle;\n",
              "    }\n",
              "\n",
              "    .dataframe tbody tr th {\n",
              "        vertical-align: top;\n",
              "    }\n",
              "\n",
              "    .dataframe thead th {\n",
              "        text-align: right;\n",
              "    }\n",
              "</style>\n",
              "<table border=\"1\" class=\"dataframe\">\n",
              "  <thead>\n",
              "    <tr style=\"text-align: right;\">\n",
              "      <th></th>\n",
              "      <th>Adj Close</th>\n",
              "      <th>retorno</th>\n",
              "    </tr>\n",
              "    <tr>\n",
              "      <th>Date</th>\n",
              "      <th></th>\n",
              "      <th></th>\n",
              "    </tr>\n",
              "  </thead>\n",
              "  <tbody>\n",
              "    <tr>\n",
              "      <th>1993-04-28</th>\n",
              "      <td>24.299999</td>\n",
              "      <td>-0.008163</td>\n",
              "    </tr>\n",
              "    <tr>\n",
              "      <th>1993-04-29</th>\n",
              "      <td>23.700001</td>\n",
              "      <td>-0.024691</td>\n",
              "    </tr>\n",
              "    <tr>\n",
              "      <th>1993-04-30</th>\n",
              "      <td>24.100000</td>\n",
              "      <td>0.016878</td>\n",
              "    </tr>\n",
              "    <tr>\n",
              "      <th>1993-05-03</th>\n",
              "      <td>24.100000</td>\n",
              "      <td>0.000000</td>\n",
              "    </tr>\n",
              "    <tr>\n",
              "      <th>1993-05-04</th>\n",
              "      <td>24.900000</td>\n",
              "      <td>0.033195</td>\n",
              "    </tr>\n",
              "    <tr>\n",
              "      <th>...</th>\n",
              "      <td>...</td>\n",
              "      <td>...</td>\n",
              "    </tr>\n",
              "    <tr>\n",
              "      <th>2021-04-30</th>\n",
              "      <td>118894.000000</td>\n",
              "      <td>-0.009761</td>\n",
              "    </tr>\n",
              "    <tr>\n",
              "      <th>2021-05-03</th>\n",
              "      <td>119209.000000</td>\n",
              "      <td>0.002649</td>\n",
              "    </tr>\n",
              "    <tr>\n",
              "      <th>2021-05-04</th>\n",
              "      <td>117712.000000</td>\n",
              "      <td>-0.012558</td>\n",
              "    </tr>\n",
              "    <tr>\n",
              "      <th>2021-05-05</th>\n",
              "      <td>119564.000000</td>\n",
              "      <td>0.015733</td>\n",
              "    </tr>\n",
              "    <tr>\n",
              "      <th>2021-05-06</th>\n",
              "      <td>119619.976562</td>\n",
              "      <td>0.000468</td>\n",
              "    </tr>\n",
              "  </tbody>\n",
              "</table>\n",
              "<p>6929 rows × 2 columns</p>\n",
              "</div>"
            ],
            "text/plain": [
              "                Adj Close   retorno\n",
              "Date                               \n",
              "1993-04-28      24.299999 -0.008163\n",
              "1993-04-29      23.700001 -0.024691\n",
              "1993-04-30      24.100000  0.016878\n",
              "1993-05-03      24.100000  0.000000\n",
              "1993-05-04      24.900000  0.033195\n",
              "...                   ...       ...\n",
              "2021-04-30  118894.000000 -0.009761\n",
              "2021-05-03  119209.000000  0.002649\n",
              "2021-05-04  117712.000000 -0.012558\n",
              "2021-05-05  119564.000000  0.015733\n",
              "2021-05-06  119619.976562  0.000468\n",
              "\n",
              "[6929 rows x 2 columns]"
            ]
          },
          "metadata": {
            "tags": []
          },
          "execution_count": 13
        }
      ]
    },
    {
      "cell_type": "markdown",
      "metadata": {
        "id": "ayGogGSEDgAq"
      },
      "source": [
        "Pandas **dataframe.pct_change() **function calculates the percentage change between the current and a prior element. This function by default calculates the percentage change from the immediately previous row.\n",
        "\n",
        "Note : This function is mostly useful in the time-series data.\n",
        "\n",
        "Syntax: DataFrame.pct_change(periods=1, fill_method=’pad’, limit=None, freq=None, **kwargs)"
      ]
    },
    {
      "cell_type": "code",
      "metadata": {
        "id": "m3VHFzydA2EB"
      },
      "source": [
        "ibov['retorno'] = ibov['Adj Close'].pct_change()\n",
        "ibov.dropna(inplace=True)"
      ],
      "execution_count": 15,
      "outputs": []
    },
    {
      "cell_type": "code",
      "metadata": {
        "colab": {
          "base_uri": "https://localhost:8080/"
        },
        "id": "Nnnn7FNlC9Uh",
        "outputId": "d53abea6-c237-42c3-b891-a00ff20fa080"
      },
      "source": [
        "media_ibov = ibov['retorno'].mean()\n",
        "print('Retorno médio = {:.2f}%'.format(media_ibov*100))"
      ],
      "execution_count": 17,
      "outputs": [
        {
          "output_type": "stream",
          "text": [
            "Retorno médio = 0.15%\n"
          ],
          "name": "stdout"
        }
      ]
    },
    {
      "cell_type": "code",
      "metadata": {
        "colab": {
          "base_uri": "https://localhost:8080/"
        },
        "id": "mvBddTRHRtpo",
        "outputId": "945aea2c-265e-4e07-fc81-f1746ec01688"
      },
      "source": [
        "desvio_padrao_ibov = ibov['retorno'].std()\n",
        "print('Desvio Padrão = {:.2f}%'.format(desvio_padrao_ibov*100))"
      ],
      "execution_count": 18,
      "outputs": [
        {
          "output_type": "stream",
          "text": [
            "Desvio Padrão = 2.25%\n"
          ],
          "name": "stdout"
        }
      ]
    },
    {
      "cell_type": "code",
      "metadata": {
        "colab": {
          "base_uri": "https://localhost:8080/",
          "height": 235
        },
        "id": "0hDnk2-3Scb8",
        "outputId": "f2b4c496-5013-4126-b8a8-9154c150edc9"
      },
      "source": [
        "ibov[ibov['retorno'] < -0.12]"
      ],
      "execution_count": 19,
      "outputs": [
        {
          "output_type": "execute_result",
          "data": {
            "text/html": [
              "<div>\n",
              "<style scoped>\n",
              "    .dataframe tbody tr th:only-of-type {\n",
              "        vertical-align: middle;\n",
              "    }\n",
              "\n",
              "    .dataframe tbody tr th {\n",
              "        vertical-align: top;\n",
              "    }\n",
              "\n",
              "    .dataframe thead th {\n",
              "        text-align: right;\n",
              "    }\n",
              "</style>\n",
              "<table border=\"1\" class=\"dataframe\">\n",
              "  <thead>\n",
              "    <tr style=\"text-align: right;\">\n",
              "      <th></th>\n",
              "      <th>Adj Close</th>\n",
              "      <th>retorno</th>\n",
              "    </tr>\n",
              "    <tr>\n",
              "      <th>Date</th>\n",
              "      <th></th>\n",
              "      <th></th>\n",
              "    </tr>\n",
              "  </thead>\n",
              "  <tbody>\n",
              "    <tr>\n",
              "      <th>1997-10-27</th>\n",
              "      <td>9817.0</td>\n",
              "      <td>-0.149675</td>\n",
              "    </tr>\n",
              "    <tr>\n",
              "      <th>1998-09-10</th>\n",
              "      <td>4761.0</td>\n",
              "      <td>-0.158090</td>\n",
              "    </tr>\n",
              "    <tr>\n",
              "      <th>2020-03-09</th>\n",
              "      <td>86067.0</td>\n",
              "      <td>-0.121738</td>\n",
              "    </tr>\n",
              "    <tr>\n",
              "      <th>2020-03-12</th>\n",
              "      <td>72583.0</td>\n",
              "      <td>-0.147797</td>\n",
              "    </tr>\n",
              "    <tr>\n",
              "      <th>2020-03-16</th>\n",
              "      <td>71168.0</td>\n",
              "      <td>-0.139215</td>\n",
              "    </tr>\n",
              "  </tbody>\n",
              "</table>\n",
              "</div>"
            ],
            "text/plain": [
              "            Adj Close   retorno\n",
              "Date                           \n",
              "1997-10-27     9817.0 -0.149675\n",
              "1998-09-10     4761.0 -0.158090\n",
              "2020-03-09    86067.0 -0.121738\n",
              "2020-03-12    72583.0 -0.147797\n",
              "2020-03-16    71168.0 -0.139215"
            ]
          },
          "metadata": {
            "tags": []
          },
          "execution_count": 19
        }
      ]
    },
    {
      "cell_type": "markdown",
      "metadata": {
        "id": "O7plVxgkSw59"
      },
      "source": [
        "Qual a probabilidade do ibov cair mais que 12% considerando que os retornos seguem uma distribuição normal?"
      ]
    },
    {
      "cell_type": "code",
      "metadata": {
        "colab": {
          "base_uri": "https://localhost:8080/"
        },
        "id": "Mj6ZvYcUSpCE",
        "outputId": "eb417d91-d05e-4d83-eb63-67f30250587f"
      },
      "source": [
        "probabilidade_teorica = norm.cdf(-0.12, loc=media_ibov, scale=desvio_padrao_ibov)\n",
        "print('{:.8f}%'.format(probabilidade_teorica*100))"
      ],
      "execution_count": 20,
      "outputs": [
        {
          "output_type": "stream",
          "text": [
            "0.00000353%\n"
          ],
          "name": "stdout"
        }
      ]
    },
    {
      "cell_type": "code",
      "metadata": {
        "colab": {
          "base_uri": "https://localhost:8080/"
        },
        "id": "Qf1gQYhnTItN",
        "outputId": "8bf34439-9725-4d2d-96d4-8d5f5f5755cd"
      },
      "source": [
        "frequencia_teorica = 1 / probabilidade_teorica\n",
        "print('Uma vez a cada {} dias'.format(int(round(frequencia_teorica, 5))))\n",
        "print('Ou uma vez a cada {} anos'.format(int(round(frequencia_teorica/252, 5))))"
      ],
      "execution_count": 21,
      "outputs": [
        {
          "output_type": "stream",
          "text": [
            "Uma vez a cada 28340009 dias\n",
            "Ou uma vez a cada 112460 anos\n"
          ],
          "name": "stdout"
        }
      ]
    },
    {
      "cell_type": "code",
      "metadata": {
        "colab": {
          "base_uri": "https://localhost:8080/",
          "height": 332
        },
        "id": "iMh4wUbbTOxE",
        "outputId": "a6125f05-d877-4227-ec9c-48b9cf05fe24"
      },
      "source": [
        "ibov['retorno'].plot(title=\"Retorno Diário do Índice Bovespa\");\n"
      ],
      "execution_count": 22,
      "outputs": [
        {
          "output_type": "display_data",
          "data": {
            "image/png": "[encoded data removed]",
            "text/plain": [
              "<Figure size 1152x576 with 1 Axes>"
            ]
          },
          "metadata": {
            "tags": []
          }
        }
      ]
    },
    {
      "cell_type": "code",
      "metadata": {
        "id": "Eel6KvrHTW8z"
      },
      "source": [
        "ibov['retorno_teorico'] = norm.rvs(size=ibov['retorno'].size,  loc=media_ibov, scale=desvio_padrao_ibov)"
      ],
      "execution_count": 24,
      "outputs": []
    },
    {
      "cell_type": "code",
      "metadata": {
        "colab": {
          "base_uri": "https://localhost:8080/",
          "height": 348
        },
        "id": "-DP8qqlhTdLc",
        "outputId": "83d68d70-57ad-4192-86df-801944a3ca95"
      },
      "source": [
        "\n",
        "ax = ibov['retorno_teorico'].plot(title=\"Retorno Normal Simulado\");\n",
        "ax.set_ylim(-0.2, 0.4)"
      ],
      "execution_count": 25,
      "outputs": [
        {
          "output_type": "execute_result",
          "data": {
            "text/plain": [
              "(-0.2, 0.4)"
            ]
          },
          "metadata": {
            "tags": []
          },
          "execution_count": 25
        },
        {
          "output_type": "display_data",
          "data": {
            "image/png": "[encoded data removed]",
            "text/plain": [
              "<Figure size 1152x576 with 1 Axes>"
            ]
          },
          "metadata": {
            "tags": []
          }
        }
      ]
    },
    {
      "cell_type": "code",
      "metadata": {
        "colab": {
          "base_uri": "https://localhost:8080/",
          "height": 345
        },
        "id": "sUvcI1iNTiGj",
        "outputId": "78209099-cf38-4d54-ab8b-964894332345"
      },
      "source": [
        "sns.distplot(ibov['retorno'], bins=100, kde=False, fit=t);\n"
      ],
      "execution_count": 26,
      "outputs": [
        {
          "output_type": "display_data",
          "data": {
            "image/png": "[encoded data removed]",
            "text/plain": [
              "<Figure size 1152x576 with 1 Axes>"
            ]
          },
          "metadata": {
            "tags": []
          }
        }
      ]
    },
    {
      "cell_type": "code",
      "metadata": {
        "colab": {
          "base_uri": "https://localhost:8080/"
        },
        "id": "rWK-Kcw-Trv6",
        "outputId": "8fab6aae-09b4-44ed-da4b-5866ea3c6c3c"
      },
      "source": [
        "(graus_de_liberdade,  media_t, desvio_padrao_t) = t.fit(ibov['retorno'])\n",
        "print('Distribuição T-Student\\nGraus de liberdade={:.2f} \\nMédia={:.4f} \\nDesvio padrão={:.5f}'.format(graus_de_liberdade, media_t, desvio_padrao_t))"
      ],
      "execution_count": 27,
      "outputs": [
        {
          "output_type": "stream",
          "text": [
            "Distribuição T-Student\n",
            "Graus de liberdade=3.27 \n",
            "Média=0.0012 \n",
            "Desvio padrão=0.01440\n"
          ],
          "name": "stdout"
        }
      ]
    },
    {
      "cell_type": "code",
      "metadata": {
        "colab": {
          "base_uri": "https://localhost:8080/"
        },
        "id": "u5YFGeN1Tuc6",
        "outputId": "1fd8793c-4d9c-4e12-b038-2ae9f99dde7d"
      },
      "source": [
        "probabilidade_teorica_t = t.cdf(-0.12, graus_de_liberdade,  loc=media_t, scale=desvio_padrao_t)\n",
        "print('{:.8f}%'.format(probabilidade_teorica_t*100))"
      ],
      "execution_count": 28,
      "outputs": [
        {
          "output_type": "stream",
          "text": [
            "0.12581355%\n"
          ],
          "name": "stdout"
        }
      ]
    },
    {
      "cell_type": "code",
      "metadata": {
        "colab": {
          "base_uri": "https://localhost:8080/"
        },
        "id": "6VYzjJXiTz2B",
        "outputId": "67220553-6432-4f0d-b2ac-968a79fdffc6"
      },
      "source": [
        "frequencia_teorica_t = 1 / probabilidade_teorica_t\n",
        "print('Para uma distribuição T-Student: \\nUma vez a cada {} dias'.format(int(round(frequencia_teorica_t, 5))))\n",
        "print('Ou uma vez a cada {} anos'.format(int(round(frequencia_teorica_t/252, 5))))"
      ],
      "execution_count": 29,
      "outputs": [
        {
          "output_type": "stream",
          "text": [
            "Para uma distribuição T-Student: \n",
            "Uma vez a cada 794 dias\n",
            "Ou uma vez a cada 3 anos\n"
          ],
          "name": "stdout"
        }
      ]
    },
    {
      "cell_type": "code",
      "metadata": {
        "colab": {
          "base_uri": "https://localhost:8080/"
        },
        "id": "sQeVo4gyT4Fp",
        "outputId": "0eef092a-1aab-4378-e12d-f81b387dcc8d"
      },
      "source": [
        "frequencia_teorica = 1 / probabilidade_teorica\n",
        "print('Para uma distribuição Normal: \\nUma vez a cada {} dias'.format(int(round(frequencia_teorica, 5))))\n",
        "print('Ou uma vez a cada {} anos'.format(int(round(frequencia_teorica/252, 5))))"
      ],
      "execution_count": 30,
      "outputs": [
        {
          "output_type": "stream",
          "text": [
            "Para uma distribuição Normal: \n",
            "Uma vez a cada 28340009 dias\n",
            "Ou uma vez a cada 112460 anos\n"
          ],
          "name": "stdout"
        }
      ]
    },
    {
      "cell_type": "code",
      "metadata": {
        "colab": {
          "base_uri": "https://localhost:8080/"
        },
        "id": "WzzijjhnT5OG",
        "outputId": "f4613dd2-3686-41dc-bb3d-3917afbc4df8"
      },
      "source": [
        "frequencia_observada = ibov['retorno'].size / ibov[ibov[\"retorno\"] < -0.12].shape[0] \n",
        "print('Na vida real aconteceu: \\nUma vez a cada {} dias'.format(int(round(frequencia_observada, 5))))"
      ],
      "execution_count": 31,
      "outputs": [
        {
          "output_type": "stream",
          "text": [
            "Na vida real aconteceu: \n",
            "Uma vez a cada 1385 dias\n"
          ],
          "name": "stdout"
        }
      ]
    }
  ]
}