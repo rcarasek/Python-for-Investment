{
  "nbformat": 4,
  "nbformat_minor": 0,
  "metadata": {
    "colab": {
      "name": "10_API_BCB_Python.ipynb",
      "provenance": [],
      "authorship_tag": "ABX9TyOleBC6xKUfGIFZFbJ4Kege",
      "include_colab_link": true
    },
    "kernelspec": {
      "name": "python3",
      "display_name": "Python 3"
    },
    "language_info": {
      "name": "python"
    }
  },
  "cells": [
    {
      "cell_type": "markdown",
      "metadata": {
        "id": "view-in-github",
        "colab_type": "text"
      },
      "source": [
        "<a href=\"https://colab.research.google.com/github/rcarasek/Python-for-Investment/blob/main/10_API_BCB_Python.ipynb\" target=\"_parent\"><img src=\"https://colab.research.google.com/assets/colab-badge.svg\" alt=\"Open In Colab\"/></a>"
      ]
    },
    {
      "cell_type": "markdown",
      "metadata": {
        "id": "bZ4p9tLDrOcX"
      },
      "source": [
        "https://dadosabertos.bcb.gov.br/dataset/20542-saldo-da-carteira-de-credito-com-recursos-livres---total/resource/6e2b0c97-afab-4790-b8aa-b9542923cf88\n",
        "\n",
        "json_serie-sgs-20542\n",
        "URL: http://api.bcb.gov.br/dados/serie/bcdata.sgs.20542/dados?formato=json"
      ]
    },
    {
      "cell_type": "code",
      "metadata": {
        "id": "EfLOrL7WqCgE"
      },
      "source": [
        "import pandas as pd\n",
        "import seaborn as sns; sns.set()\n",
        "import matplotlib.pyplot as plt\n",
        "\n",
        "import matplotlib\n",
        "matplotlib.rcParams['figure.figsize'] = (16,8)"
      ],
      "execution_count": 1,
      "outputs": []
    },
    {
      "cell_type": "markdown",
      "metadata": {
        "id": "U9RvB3qJrNg4"
      },
      "source": [
        "Obtendo Dados através da API do Banco Central"
      ]
    },
    {
      "cell_type": "code",
      "metadata": {
        "id": "sbbNGr9Srp_j"
      },
      "source": [
        "url = 'http://api.bcb.gov.br/dados/serie/bcdata.sgs.20542/dados?formato=json'\n",
        "df = pd.read_json(url)"
      ],
      "execution_count": 2,
      "outputs": []
    },
    {
      "cell_type": "code",
      "metadata": {
        "colab": {
          "base_uri": "https://localhost:8080/",
          "height": 419
        },
        "id": "IfTf32p0sA3L",
        "outputId": "f9efe6bc-15c6-46a8-ea35-ba5838ecb8ec"
      },
      "source": [
        "df"
      ],
      "execution_count": 5,
      "outputs": [
        {
          "output_type": "execute_result",
          "data": {
            "text/html": [
              "<div>\n",
              "<style scoped>\n",
              "    .dataframe tbody tr th:only-of-type {\n",
              "        vertical-align: middle;\n",
              "    }\n",
              "\n",
              "    .dataframe tbody tr th {\n",
              "        vertical-align: top;\n",
              "    }\n",
              "\n",
              "    .dataframe thead th {\n",
              "        text-align: right;\n",
              "    }\n",
              "</style>\n",
              "<table border=\"1\" class=\"dataframe\">\n",
              "  <thead>\n",
              "    <tr style=\"text-align: right;\">\n",
              "      <th></th>\n",
              "      <th>data</th>\n",
              "      <th>valor</th>\n",
              "    </tr>\n",
              "  </thead>\n",
              "  <tbody>\n",
              "    <tr>\n",
              "      <th>0</th>\n",
              "      <td>01/03/2007</td>\n",
              "      <td>490460</td>\n",
              "    </tr>\n",
              "    <tr>\n",
              "      <th>1</th>\n",
              "      <td>01/04/2007</td>\n",
              "      <td>505753</td>\n",
              "    </tr>\n",
              "    <tr>\n",
              "      <th>2</th>\n",
              "      <td>01/05/2007</td>\n",
              "      <td>514647</td>\n",
              "    </tr>\n",
              "    <tr>\n",
              "      <th>3</th>\n",
              "      <td>01/06/2007</td>\n",
              "      <td>525046</td>\n",
              "    </tr>\n",
              "    <tr>\n",
              "      <th>4</th>\n",
              "      <td>01/07/2007</td>\n",
              "      <td>541348</td>\n",
              "    </tr>\n",
              "    <tr>\n",
              "      <th>...</th>\n",
              "      <td>...</td>\n",
              "      <td>...</td>\n",
              "    </tr>\n",
              "    <tr>\n",
              "      <th>164</th>\n",
              "      <td>01/11/2020</td>\n",
              "      <td>2279033</td>\n",
              "    </tr>\n",
              "    <tr>\n",
              "      <th>165</th>\n",
              "      <td>01/12/2020</td>\n",
              "      <td>2323131</td>\n",
              "    </tr>\n",
              "    <tr>\n",
              "      <th>166</th>\n",
              "      <td>01/01/2021</td>\n",
              "      <td>2315794</td>\n",
              "    </tr>\n",
              "    <tr>\n",
              "      <th>167</th>\n",
              "      <td>01/02/2021</td>\n",
              "      <td>2335942</td>\n",
              "    </tr>\n",
              "    <tr>\n",
              "      <th>168</th>\n",
              "      <td>01/03/2021</td>\n",
              "      <td>2379921</td>\n",
              "    </tr>\n",
              "  </tbody>\n",
              "</table>\n",
              "<p>169 rows × 2 columns</p>\n",
              "</div>"
            ],
            "text/plain": [
              "           data    valor\n",
              "0    01/03/2007   490460\n",
              "1    01/04/2007   505753\n",
              "2    01/05/2007   514647\n",
              "3    01/06/2007   525046\n",
              "4    01/07/2007   541348\n",
              "..          ...      ...\n",
              "164  01/11/2020  2279033\n",
              "165  01/12/2020  2323131\n",
              "166  01/01/2021  2315794\n",
              "167  01/02/2021  2335942\n",
              "168  01/03/2021  2379921\n",
              "\n",
              "[169 rows x 2 columns]"
            ]
          },
          "metadata": {
            "tags": []
          },
          "execution_count": 5
        }
      ]
    },
    {
      "cell_type": "code",
      "metadata": {
        "id": "ykfjvyK3sb4h"
      },
      "source": [
        ""
      ],
      "execution_count": null,
      "outputs": []
    }
  ]
}