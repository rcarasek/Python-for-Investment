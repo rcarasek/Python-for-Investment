{
  "nbformat": 4,
  "nbformat_minor": 0,
  "metadata": {
    "colab": {
      "name": "pandas&coalas.ipynb",
      "provenance": [],
      "toc_visible": true,
      "authorship_tag": "ABX9TyPw2XTUhDP4e5L38vWq02/Y",
      "include_colab_link": true
    },
    "kernelspec": {
      "name": "python3",
      "display_name": "Python 3"
    },
    "language_info": {
      "name": "python"
    }
  },
  "cells": [
    {
      "cell_type": "markdown",
      "metadata": {
        "id": "view-in-github",
        "colab_type": "text"
      },
      "source": [
        "<a href=\"https://colab.research.google.com/github/rcarasek/Python-for-Investment/blob/main/pandas%26coalas.ipynb\" target=\"_parent\"><img src=\"https://colab.research.google.com/assets/colab-badge.svg\" alt=\"Open In Colab\"/></a>"
      ]
    },
    {
      "cell_type": "markdown",
      "metadata": {
        "id": "f4F0G7L-Xwog"
      },
      "source": [
        "## PANDAS"
      ]
    },
    {
      "cell_type": "code",
      "metadata": {
        "id": "f4Okzu5XXoKa"
      },
      "source": [
        "import pandas as pd"
      ],
      "execution_count": 1,
      "outputs": []
    },
    {
      "cell_type": "code",
      "metadata": {
        "id": "rwmkMLqXXwBo"
      },
      "source": [
        "df = pd.DataFrame()"
      ],
      "execution_count": 2,
      "outputs": []
    },
    {
      "cell_type": "code",
      "metadata": {
        "id": "0jYf5GtyX7st"
      },
      "source": [
        "cofrinho = {'Ativo' : ['BBSE3', 'GGBR4'],\n",
        "            'Close' : [23.42, 32.70]       }"
      ],
      "execution_count": 3,
      "outputs": []
    },
    {
      "cell_type": "code",
      "metadata": {
        "colab": {
          "base_uri": "https://localhost:8080/",
          "height": 34
        },
        "id": "vvabGG8sZaSN",
        "outputId": "65fc165b-ada0-487a-8693-593eeb0a8752"
      },
      "source": [
        "display(cofrinho)"
      ],
      "execution_count": 4,
      "outputs": [
        {
          "output_type": "display_data",
          "data": {
            "text/plain": [
              "{'Ativo': ['BBSE3', 'GGBR4'], 'Close': [23.42, 32.7]}"
            ]
          },
          "metadata": {
            "tags": []
          }
        }
      ]
    },
    {
      "cell_type": "code",
      "metadata": {
        "colab": {
          "base_uri": "https://localhost:8080/"
        },
        "id": "BPAgfARUZh5i",
        "outputId": "fc3a1fb0-f8df-4d9b-fbff-9ed8b2c0ef0a"
      },
      "source": [
        "print(cofrinho)"
      ],
      "execution_count": 5,
      "outputs": [
        {
          "output_type": "stream",
          "text": [
            "{'Ativo': ['BBSE3', 'GGBR4'], 'Close': [23.42, 32.7]}\n"
          ],
          "name": "stdout"
        }
      ]
    },
    {
      "cell_type": "code",
      "metadata": {
        "id": "5VNEEg-hZ-DZ"
      },
      "source": [
        "df_cofrinho = pd.DataFrame(cofrinho)"
      ],
      "execution_count": 6,
      "outputs": []
    },
    {
      "cell_type": "code",
      "metadata": {
        "colab": {
          "base_uri": "https://localhost:8080/"
        },
        "id": "CQAykofUak4H",
        "outputId": "6f3abd40-16e7-48e4-9417-ac561f508440"
      },
      "source": [
        "print(df_cofrinho)"
      ],
      "execution_count": 7,
      "outputs": [
        {
          "output_type": "stream",
          "text": [
            "   Ativo  Close\n",
            "0  BBSE3  23.42\n",
            "1  GGBR4  32.70\n"
          ],
          "name": "stdout"
        }
      ]
    },
    {
      "cell_type": "code",
      "metadata": {
        "colab": {
          "base_uri": "https://localhost:8080/",
          "height": 111
        },
        "id": "tqb8cD0Ka4OH",
        "outputId": "9dbc04c8-73aa-436d-d4ae-4e2381d66a3b"
      },
      "source": [
        "display(df_cofrinho)"
      ],
      "execution_count": 8,
      "outputs": [
        {
          "output_type": "display_data",
          "data": {
            "text/html": [
              "<div>\n",
              "<style scoped>\n",
              "    .dataframe tbody tr th:only-of-type {\n",
              "        vertical-align: middle;\n",
              "    }\n",
              "\n",
              "    .dataframe tbody tr th {\n",
              "        vertical-align: top;\n",
              "    }\n",
              "\n",
              "    .dataframe thead th {\n",
              "        text-align: right;\n",
              "    }\n",
              "</style>\n",
              "<table border=\"1\" class=\"dataframe\">\n",
              "  <thead>\n",
              "    <tr style=\"text-align: right;\">\n",
              "      <th></th>\n",
              "      <th>Ativo</th>\n",
              "      <th>Close</th>\n",
              "    </tr>\n",
              "  </thead>\n",
              "  <tbody>\n",
              "    <tr>\n",
              "      <th>0</th>\n",
              "      <td>BBSE3</td>\n",
              "      <td>23.42</td>\n",
              "    </tr>\n",
              "    <tr>\n",
              "      <th>1</th>\n",
              "      <td>GGBR4</td>\n",
              "      <td>32.70</td>\n",
              "    </tr>\n",
              "  </tbody>\n",
              "</table>\n",
              "</div>"
            ],
            "text/plain": [
              "   Ativo  Close\n",
              "0  BBSE3  23.42\n",
              "1  GGBR4  32.70"
            ]
          },
          "metadata": {
            "tags": []
          }
        }
      ]
    },
    {
      "cell_type": "code",
      "metadata": {
        "id": "PxM2vYega7IG"
      },
      "source": [
        "df_ativosDoExcel = pd.read_excel('/content/AtivosRCTestePy.xlsx')"
      ],
      "execution_count": 10,
      "outputs": []
    },
    {
      "cell_type": "code",
      "metadata": {
        "colab": {
          "base_uri": "https://localhost:8080/",
          "height": 669
        },
        "id": "BTJaGfrflHIP",
        "outputId": "a238f8a1-5b5d-41ab-c6aa-e3048b80ecba"
      },
      "source": [
        "display(df_ativosDoExcel)"
      ],
      "execution_count": 12,
      "outputs": [
        {
          "output_type": "display_data",
          "data": {
            "text/html": [
              "<div>\n",
              "<style scoped>\n",
              "    .dataframe tbody tr th:only-of-type {\n",
              "        vertical-align: middle;\n",
              "    }\n",
              "\n",
              "    .dataframe tbody tr th {\n",
              "        vertical-align: top;\n",
              "    }\n",
              "\n",
              "    .dataframe thead th {\n",
              "        text-align: right;\n",
              "    }\n",
              "</style>\n",
              "<table border=\"1\" class=\"dataframe\">\n",
              "  <thead>\n",
              "    <tr style=\"text-align: right;\">\n",
              "      <th></th>\n",
              "      <th>CÓDIGO</th>\n",
              "      <th>VAL. ATUAL</th>\n",
              "    </tr>\n",
              "  </thead>\n",
              "  <tbody>\n",
              "    <tr>\n",
              "      <th>0</th>\n",
              "      <td>BBAS3</td>\n",
              "      <td>33.40</td>\n",
              "    </tr>\n",
              "    <tr>\n",
              "      <th>1</th>\n",
              "      <td>BBSE3</td>\n",
              "      <td>23.40</td>\n",
              "    </tr>\n",
              "    <tr>\n",
              "      <th>2</th>\n",
              "      <td>CMIG4</td>\n",
              "      <td>13.66</td>\n",
              "    </tr>\n",
              "    <tr>\n",
              "      <th>3</th>\n",
              "      <td>COCE5</td>\n",
              "      <td>56.41</td>\n",
              "    </tr>\n",
              "    <tr>\n",
              "      <th>4</th>\n",
              "      <td>COGN3</td>\n",
              "      <td>4.31</td>\n",
              "    </tr>\n",
              "    <tr>\n",
              "      <th>5</th>\n",
              "      <td>CSAN3</td>\n",
              "      <td>21.85</td>\n",
              "    </tr>\n",
              "    <tr>\n",
              "      <th>6</th>\n",
              "      <td>DIRR3</td>\n",
              "      <td>13.07</td>\n",
              "    </tr>\n",
              "    <tr>\n",
              "      <th>7</th>\n",
              "      <td>ELET3</td>\n",
              "      <td>42.96</td>\n",
              "    </tr>\n",
              "    <tr>\n",
              "      <th>8</th>\n",
              "      <td>GGBR4</td>\n",
              "      <td>33.08</td>\n",
              "    </tr>\n",
              "    <tr>\n",
              "      <th>9</th>\n",
              "      <td>GGBR4</td>\n",
              "      <td>33.08</td>\n",
              "    </tr>\n",
              "    <tr>\n",
              "      <th>10</th>\n",
              "      <td>IRBR3</td>\n",
              "      <td>6.23</td>\n",
              "    </tr>\n",
              "    <tr>\n",
              "      <th>11</th>\n",
              "      <td>ITSA4</td>\n",
              "      <td>10.74</td>\n",
              "    </tr>\n",
              "    <tr>\n",
              "      <th>12</th>\n",
              "      <td>ITSA4</td>\n",
              "      <td>10.74</td>\n",
              "    </tr>\n",
              "    <tr>\n",
              "      <th>13</th>\n",
              "      <td>JPSA3</td>\n",
              "      <td>29.18</td>\n",
              "    </tr>\n",
              "    <tr>\n",
              "      <th>14</th>\n",
              "      <td>MTRE3</td>\n",
              "      <td>12.00</td>\n",
              "    </tr>\n",
              "    <tr>\n",
              "      <th>15</th>\n",
              "      <td>OIBR3</td>\n",
              "      <td>1.54</td>\n",
              "    </tr>\n",
              "    <tr>\n",
              "      <th>16</th>\n",
              "      <td>RRRP3</td>\n",
              "      <td>40.90</td>\n",
              "    </tr>\n",
              "    <tr>\n",
              "      <th>17</th>\n",
              "      <td>SAPR11</td>\n",
              "      <td>20.68</td>\n",
              "    </tr>\n",
              "    <tr>\n",
              "      <th>18</th>\n",
              "      <td>SAPR4</td>\n",
              "      <td>4.15</td>\n",
              "    </tr>\n",
              "    <tr>\n",
              "      <th>19</th>\n",
              "      <td>VALE3</td>\n",
              "      <td>111.00</td>\n",
              "    </tr>\n",
              "  </tbody>\n",
              "</table>\n",
              "</div>"
            ],
            "text/plain": [
              "    CÓDIGO  VAL. ATUAL\n",
              "0    BBAS3       33.40\n",
              "1    BBSE3       23.40\n",
              "2    CMIG4       13.66\n",
              "3    COCE5       56.41\n",
              "4    COGN3        4.31\n",
              "5    CSAN3       21.85\n",
              "6    DIRR3       13.07\n",
              "7    ELET3       42.96\n",
              "8    GGBR4       33.08\n",
              "9    GGBR4       33.08\n",
              "10   IRBR3        6.23\n",
              "11   ITSA4       10.74\n",
              "12   ITSA4       10.74\n",
              "13   JPSA3       29.18\n",
              "14   MTRE3       12.00\n",
              "15   OIBR3        1.54\n",
              "16   RRRP3       40.90\n",
              "17  SAPR11       20.68\n",
              "18   SAPR4        4.15\n",
              "19   VALE3      111.00"
            ]
          },
          "metadata": {
            "tags": []
          }
        }
      ]
    },
    {
      "cell_type": "code",
      "metadata": {
        "id": "ILbAwuq0lJIj"
      },
      "source": [
        "display(df_ativosDoExcel['CÓDIGO'])"
      ],
      "execution_count": null,
      "outputs": []
    },
    {
      "cell_type": "code",
      "metadata": {
        "colab": {
          "base_uri": "https://localhost:8080/"
        },
        "id": "dcIcOntSEr8S",
        "outputId": "5b695ba5-1660-4a28-84fd-174379d18577"
      },
      "source": [
        "from google.colab import drive\n",
        "drive.mount('/content/drive')"
      ],
      "execution_count": 13,
      "outputs": [
        {
          "output_type": "stream",
          "text": [
            "Mounted at /content/drive\n"
          ],
          "name": "stdout"
        }
      ]
    },
    {
      "cell_type": "code",
      "metadata": {
        "id": "AI8MlYTEFTRG"
      },
      "source": [
        "df_orders = pd.read_csv('/content/orders-2021.05.28-19_04_16.csv')"
      ],
      "execution_count": 15,
      "outputs": []
    },
    {
      "cell_type": "code",
      "metadata": {
        "colab": {
          "base_uri": "https://localhost:8080/",
          "height": 717
        },
        "id": "tszS_-HHGBdS",
        "outputId": "9c1fdc35-9147-49e3-eef9-d8a4d63afee6"
      },
      "source": [
        "display(df_orders)"
      ],
      "execution_count": 21,
      "outputs": [
        {
          "output_type": "display_data",
          "data": {
            "text/html": [
              "<div>\n",
              "<style scoped>\n",
              "    .dataframe tbody tr th:only-of-type {\n",
              "        vertical-align: middle;\n",
              "    }\n",
              "\n",
              "    .dataframe tbody tr th {\n",
              "        vertical-align: top;\n",
              "    }\n",
              "\n",
              "    .dataframe thead th {\n",
              "        text-align: right;\n",
              "    }\n",
              "</style>\n",
              "<table border=\"1\" class=\"dataframe\">\n",
              "  <thead>\n",
              "    <tr style=\"text-align: right;\">\n",
              "      <th></th>\n",
              "      <th>Código;Ativo;Tipo;Natureza;Status;Preço;Stop;Gain;Quantidade;Qtd. Executada;Preço Médio;Criado em;Módulo;Estratégia;Criado por;Validade;Cancelada em;Cancelada por;Atualizado em;</th>\n",
              "    </tr>\n",
              "  </thead>\n",
              "  <tbody>\n",
              "    <tr>\n",
              "      <th>0</th>\n",
              "      <td>561826311;BBSER230;Limitada;Compra;Executada;0...</td>\n",
              "    </tr>\n",
              "    <tr>\n",
              "      <th>1</th>\n",
              "      <td>561821722;BBSETAR220R230;Limitada;Venda;P. Exe...</td>\n",
              "    </tr>\n",
              "    <tr>\n",
              "      <th>2</th>\n",
              "      <td>561816756;ITSAF110;Limitada;Venda;Executada;0....</td>\n",
              "    </tr>\n",
              "    <tr>\n",
              "      <th>3</th>\n",
              "      <td>561812046;BBSER230;Limitada;Compra;Cancelada;0...</td>\n",
              "    </tr>\n",
              "    <tr>\n",
              "      <th>4</th>\n",
              "      <td>561802786;BBSER230;Limitada;Compra;Executada;0...</td>\n",
              "    </tr>\n",
              "    <tr>\n",
              "      <th>5</th>\n",
              "      <td>561716272;BBSER230;Limitada;Compra;Cancelada;0...</td>\n",
              "    </tr>\n",
              "    <tr>\n",
              "      <th>6</th>\n",
              "      <td>561685297;GGBRG363;Limitada;Venda;Executada;0....</td>\n",
              "    </tr>\n",
              "    <tr>\n",
              "      <th>7</th>\n",
              "      <td>561683052;GGBRG363;Limitada;Venda;Aberta;0.85;...</td>\n",
              "    </tr>\n",
              "    <tr>\n",
              "      <th>8</th>\n",
              "      <td>561669864;BBSER230;Limitada;Compra;Executada;0...</td>\n",
              "    </tr>\n",
              "    <tr>\n",
              "      <th>9</th>\n",
              "      <td>561654025;BBSETAS210S230;Limitada;Venda;Execut...</td>\n",
              "    </tr>\n",
              "    <tr>\n",
              "      <th>10</th>\n",
              "      <td>561652860;BBSETAS210S230;Limitada;Venda;Cancel...</td>\n",
              "    </tr>\n",
              "    <tr>\n",
              "      <th>11</th>\n",
              "      <td>561445417;BBSETAS230S240;Limitada;Venda;Execut...</td>\n",
              "    </tr>\n",
              "    <tr>\n",
              "      <th>12</th>\n",
              "      <td>561435293;BBSEF245;Limitada;Venda;Aberta;0.22;...</td>\n",
              "    </tr>\n",
              "    <tr>\n",
              "      <th>13</th>\n",
              "      <td>561425106;ITSAF110;Limitada;Venda;Executada;0....</td>\n",
              "    </tr>\n",
              "    <tr>\n",
              "      <th>14</th>\n",
              "      <td>561422949;ITSAF110;Limitada;Venda;Cancelada;0....</td>\n",
              "    </tr>\n",
              "    <tr>\n",
              "      <th>15</th>\n",
              "      <td>561363752;GGBRG353;Limitada;Compra;Executada;1...</td>\n",
              "    </tr>\n",
              "    <tr>\n",
              "      <th>16</th>\n",
              "      <td>561339390;BBSER210;Limitada;Venda;Cancelada;0....</td>\n",
              "    </tr>\n",
              "    <tr>\n",
              "      <th>17</th>\n",
              "      <td>561326811;BBSES235;Limitada;Venda;Executada;0....</td>\n",
              "    </tr>\n",
              "    <tr>\n",
              "      <th>18</th>\n",
              "      <td>561324477;BBSES235;Limitada;Venda;Cancelada;0....</td>\n",
              "    </tr>\n",
              "    <tr>\n",
              "      <th>19</th>\n",
              "      <td>561318657;BBSER235;Limitada;Compra;Executada;0...</td>\n",
              "    </tr>\n",
              "    <tr>\n",
              "      <th>20</th>\n",
              "      <td>561313212;BBSER235;Limitada;Compra;Cancelada;0...</td>\n",
              "    </tr>\n",
              "  </tbody>\n",
              "</table>\n",
              "</div>"
            ],
            "text/plain": [
              "   Código;Ativo;Tipo;Natureza;Status;Preço;Stop;Gain;Quantidade;Qtd. Executada;Preço Médio;Criado em;Módulo;Estratégia;Criado por;Validade;Cancelada em;Cancelada por;Atualizado em;\n",
              "0   561826311;BBSER230;Limitada;Compra;Executada;0...                                                                                                                               \n",
              "1   561821722;BBSETAR220R230;Limitada;Venda;P. Exe...                                                                                                                               \n",
              "2   561816756;ITSAF110;Limitada;Venda;Executada;0....                                                                                                                               \n",
              "3   561812046;BBSER230;Limitada;Compra;Cancelada;0...                                                                                                                               \n",
              "4   561802786;BBSER230;Limitada;Compra;Executada;0...                                                                                                                               \n",
              "5   561716272;BBSER230;Limitada;Compra;Cancelada;0...                                                                                                                               \n",
              "6   561685297;GGBRG363;Limitada;Venda;Executada;0....                                                                                                                               \n",
              "7   561683052;GGBRG363;Limitada;Venda;Aberta;0.85;...                                                                                                                               \n",
              "8   561669864;BBSER230;Limitada;Compra;Executada;0...                                                                                                                               \n",
              "9   561654025;BBSETAS210S230;Limitada;Venda;Execut...                                                                                                                               \n",
              "10  561652860;BBSETAS210S230;Limitada;Venda;Cancel...                                                                                                                               \n",
              "11  561445417;BBSETAS230S240;Limitada;Venda;Execut...                                                                                                                               \n",
              "12  561435293;BBSEF245;Limitada;Venda;Aberta;0.22;...                                                                                                                               \n",
              "13  561425106;ITSAF110;Limitada;Venda;Executada;0....                                                                                                                               \n",
              "14  561422949;ITSAF110;Limitada;Venda;Cancelada;0....                                                                                                                               \n",
              "15  561363752;GGBRG353;Limitada;Compra;Executada;1...                                                                                                                               \n",
              "16  561339390;BBSER210;Limitada;Venda;Cancelada;0....                                                                                                                               \n",
              "17  561326811;BBSES235;Limitada;Venda;Executada;0....                                                                                                                               \n",
              "18  561324477;BBSES235;Limitada;Venda;Cancelada;0....                                                                                                                               \n",
              "19  561318657;BBSER235;Limitada;Compra;Executada;0...                                                                                                                               \n",
              "20  561313212;BBSER235;Limitada;Compra;Cancelada;0...                                                                                                                               "
            ]
          },
          "metadata": {
            "tags": []
          }
        }
      ]
    },
    {
      "cell_type": "code",
      "metadata": {
        "colab": {
          "base_uri": "https://localhost:8080/"
        },
        "id": "gpmv_q9eGFsI",
        "outputId": "66d40b7f-57fe-4adc-f06d-d3c56cc2f143"
      },
      "source": [
        "type(df_orders)"
      ],
      "execution_count": 22,
      "outputs": [
        {
          "output_type": "execute_result",
          "data": {
            "text/plain": [
              "pandas.core.frame.DataFrame"
            ]
          },
          "metadata": {
            "tags": []
          },
          "execution_count": 22
        }
      ]
    },
    {
      "cell_type": "code",
      "metadata": {
        "id": "6_67TWGGGjEI"
      },
      "source": [
        ""
      ],
      "execution_count": null,
      "outputs": []
    }
  ]
}