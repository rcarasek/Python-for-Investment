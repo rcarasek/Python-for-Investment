{
  "nbformat": 4,
  "nbformat_minor": 0,
  "metadata": {
    "colab": {
      "name": "pandas&coalas.ipynb",
      "provenance": [],
      "toc_visible": true,
      "authorship_tag": "ABX9TyNQP39Dna9qO8OWHKexDGNd",
      "include_colab_link": true
    },
    "kernelspec": {
      "name": "python3",
      "display_name": "Python 3"
    },
    "language_info": {
      "name": "python"
    }
  },
  "cells": [
    {
      "cell_type": "markdown",
      "metadata": {
        "id": "view-in-github",
        "colab_type": "text"
      },
      "source": [
        "<a href=\"https://colab.research.google.com/github/rcarasek/Python-for-Investment/blob/main/pandas%26coalas.ipynb\" target=\"_parent\"><img src=\"https://colab.research.google.com/assets/colab-badge.svg\" alt=\"Open In Colab\"/></a>"
      ]
    },
    {
      "cell_type": "markdown",
      "metadata": {
        "id": "f4F0G7L-Xwog"
      },
      "source": [
        "## PANDAS"
      ]
    },
    {
      "cell_type": "code",
      "metadata": {
        "id": "f4Okzu5XXoKa"
      },
      "source": [
        "import pandas as pd"
      ],
      "execution_count": 48,
      "outputs": []
    },
    {
      "cell_type": "code",
      "metadata": {
        "id": "rwmkMLqXXwBo"
      },
      "source": [
        "df = pd.DataFrame()"
      ],
      "execution_count": 49,
      "outputs": []
    },
    {
      "cell_type": "code",
      "metadata": {
        "id": "0jYf5GtyX7st"
      },
      "source": [
        "cofrinho = {'Ativo' : ['BBSE3', 'GGBR4'],\n",
        "            'Close' : [23.42, 32.70]       }"
      ],
      "execution_count": 50,
      "outputs": []
    },
    {
      "cell_type": "code",
      "metadata": {
        "colab": {
          "base_uri": "https://localhost:8080/"
        },
        "id": "piuNXXfPYFHE",
        "outputId": "fe83efa3-ee37-422d-c263-6aa30f3d4a09"
      },
      "source": [
        "cofrinho"
      ],
      "execution_count": 51,
      "outputs": [
        {
          "output_type": "execute_result",
          "data": {
            "text/plain": [
              "{'Ativo': ['BBSE3', 'GGBR4'], 'Close': [23.42, 32.7]}"
            ]
          },
          "metadata": {
            "tags": []
          },
          "execution_count": 51
        }
      ]
    },
    {
      "cell_type": "code",
      "metadata": {
        "colab": {
          "base_uri": "https://localhost:8080/",
          "height": 34
        },
        "id": "vvabGG8sZaSN",
        "outputId": "30114d53-472c-4786-c939-9590b2c1c6a6"
      },
      "source": [
        "display(cofrinho)"
      ],
      "execution_count": 52,
      "outputs": [
        {
          "output_type": "display_data",
          "data": {
            "text/plain": [
              "{'Ativo': ['BBSE3', 'GGBR4'], 'Close': [23.42, 32.7]}"
            ]
          },
          "metadata": {
            "tags": []
          }
        }
      ]
    },
    {
      "cell_type": "code",
      "metadata": {
        "colab": {
          "base_uri": "https://localhost:8080/"
        },
        "id": "BPAgfARUZh5i",
        "outputId": "97fd4738-3181-4acd-a8c8-934edd7a14b8"
      },
      "source": [
        "print(cofrinho)"
      ],
      "execution_count": 53,
      "outputs": [
        {
          "output_type": "stream",
          "text": [
            "{'Ativo': ['BBSE3', 'GGBR4'], 'Close': [23.42, 32.7]}\n"
          ],
          "name": "stdout"
        }
      ]
    },
    {
      "cell_type": "code",
      "metadata": {
        "id": "5VNEEg-hZ-DZ"
      },
      "source": [
        "df_cofrinho = pd.DataFrame(cofrinho)"
      ],
      "execution_count": 54,
      "outputs": []
    },
    {
      "cell_type": "code",
      "metadata": {
        "colab": {
          "base_uri": "https://localhost:8080/"
        },
        "id": "CQAykofUak4H",
        "outputId": "9f3a3426-4c03-4abf-f3fe-f1706de3e924"
      },
      "source": [
        "print(df_cofrinho)"
      ],
      "execution_count": 55,
      "outputs": [
        {
          "output_type": "stream",
          "text": [
            "   Ativo  Close\n",
            "0  BBSE3  23.42\n",
            "1  GGBR4  32.70\n"
          ],
          "name": "stdout"
        }
      ]
    },
    {
      "cell_type": "code",
      "metadata": {
        "colab": {
          "base_uri": "https://localhost:8080/",
          "height": 111
        },
        "id": "tqb8cD0Ka4OH",
        "outputId": "59d5a1c0-1f70-4208-dd5f-d15fe0042e18"
      },
      "source": [
        "display(df_cofrinho)"
      ],
      "execution_count": 56,
      "outputs": [
        {
          "output_type": "display_data",
          "data": {
            "text/html": [
              "<div>\n",
              "<style scoped>\n",
              "    .dataframe tbody tr th:only-of-type {\n",
              "        vertical-align: middle;\n",
              "    }\n",
              "\n",
              "    .dataframe tbody tr th {\n",
              "        vertical-align: top;\n",
              "    }\n",
              "\n",
              "    .dataframe thead th {\n",
              "        text-align: right;\n",
              "    }\n",
              "</style>\n",
              "<table border=\"1\" class=\"dataframe\">\n",
              "  <thead>\n",
              "    <tr style=\"text-align: right;\">\n",
              "      <th></th>\n",
              "      <th>Ativo</th>\n",
              "      <th>Close</th>\n",
              "    </tr>\n",
              "  </thead>\n",
              "  <tbody>\n",
              "    <tr>\n",
              "      <th>0</th>\n",
              "      <td>BBSE3</td>\n",
              "      <td>23.42</td>\n",
              "    </tr>\n",
              "    <tr>\n",
              "      <th>1</th>\n",
              "      <td>GGBR4</td>\n",
              "      <td>32.70</td>\n",
              "    </tr>\n",
              "  </tbody>\n",
              "</table>\n",
              "</div>"
            ],
            "text/plain": [
              "   Ativo  Close\n",
              "0  BBSE3  23.42\n",
              "1  GGBR4  32.70"
            ]
          },
          "metadata": {
            "tags": []
          }
        }
      ]
    },
    {
      "cell_type": "code",
      "metadata": {
        "id": "PxM2vYega7IG"
      },
      "source": [
        "df_ativosDoExcel = pd.read_excel('/content/AtivosRCTestePy.xlsx')"
      ],
      "execution_count": 57,
      "outputs": []
    },
    {
      "cell_type": "code",
      "metadata": {
        "colab": {
          "base_uri": "https://localhost:8080/",
          "height": 669
        },
        "id": "BTJaGfrflHIP",
        "outputId": "e88e699e-6932-4f1f-afb1-9c6fb813fbf0"
      },
      "source": [
        "display(df_ativosDoExcel)"
      ],
      "execution_count": 58,
      "outputs": [
        {
          "output_type": "display_data",
          "data": {
            "text/html": [
              "<div>\n",
              "<style scoped>\n",
              "    .dataframe tbody tr th:only-of-type {\n",
              "        vertical-align: middle;\n",
              "    }\n",
              "\n",
              "    .dataframe tbody tr th {\n",
              "        vertical-align: top;\n",
              "    }\n",
              "\n",
              "    .dataframe thead th {\n",
              "        text-align: right;\n",
              "    }\n",
              "</style>\n",
              "<table border=\"1\" class=\"dataframe\">\n",
              "  <thead>\n",
              "    <tr style=\"text-align: right;\">\n",
              "      <th></th>\n",
              "      <th>CÓDIGO</th>\n",
              "      <th>VAL. ATUAL</th>\n",
              "    </tr>\n",
              "  </thead>\n",
              "  <tbody>\n",
              "    <tr>\n",
              "      <th>0</th>\n",
              "      <td>BBAS3</td>\n",
              "      <td>33.40</td>\n",
              "    </tr>\n",
              "    <tr>\n",
              "      <th>1</th>\n",
              "      <td>BBSE3</td>\n",
              "      <td>23.40</td>\n",
              "    </tr>\n",
              "    <tr>\n",
              "      <th>2</th>\n",
              "      <td>CMIG4</td>\n",
              "      <td>13.66</td>\n",
              "    </tr>\n",
              "    <tr>\n",
              "      <th>3</th>\n",
              "      <td>COCE5</td>\n",
              "      <td>56.41</td>\n",
              "    </tr>\n",
              "    <tr>\n",
              "      <th>4</th>\n",
              "      <td>COGN3</td>\n",
              "      <td>4.31</td>\n",
              "    </tr>\n",
              "    <tr>\n",
              "      <th>5</th>\n",
              "      <td>CSAN3</td>\n",
              "      <td>21.85</td>\n",
              "    </tr>\n",
              "    <tr>\n",
              "      <th>6</th>\n",
              "      <td>DIRR3</td>\n",
              "      <td>13.07</td>\n",
              "    </tr>\n",
              "    <tr>\n",
              "      <th>7</th>\n",
              "      <td>ELET3</td>\n",
              "      <td>42.96</td>\n",
              "    </tr>\n",
              "    <tr>\n",
              "      <th>8</th>\n",
              "      <td>GGBR4</td>\n",
              "      <td>33.08</td>\n",
              "    </tr>\n",
              "    <tr>\n",
              "      <th>9</th>\n",
              "      <td>GGBR4</td>\n",
              "      <td>33.08</td>\n",
              "    </tr>\n",
              "    <tr>\n",
              "      <th>10</th>\n",
              "      <td>IRBR3</td>\n",
              "      <td>6.23</td>\n",
              "    </tr>\n",
              "    <tr>\n",
              "      <th>11</th>\n",
              "      <td>ITSA4</td>\n",
              "      <td>10.74</td>\n",
              "    </tr>\n",
              "    <tr>\n",
              "      <th>12</th>\n",
              "      <td>ITSA4</td>\n",
              "      <td>10.74</td>\n",
              "    </tr>\n",
              "    <tr>\n",
              "      <th>13</th>\n",
              "      <td>JPSA3</td>\n",
              "      <td>29.18</td>\n",
              "    </tr>\n",
              "    <tr>\n",
              "      <th>14</th>\n",
              "      <td>MTRE3</td>\n",
              "      <td>12.00</td>\n",
              "    </tr>\n",
              "    <tr>\n",
              "      <th>15</th>\n",
              "      <td>OIBR3</td>\n",
              "      <td>1.54</td>\n",
              "    </tr>\n",
              "    <tr>\n",
              "      <th>16</th>\n",
              "      <td>RRRP3</td>\n",
              "      <td>40.90</td>\n",
              "    </tr>\n",
              "    <tr>\n",
              "      <th>17</th>\n",
              "      <td>SAPR11</td>\n",
              "      <td>20.68</td>\n",
              "    </tr>\n",
              "    <tr>\n",
              "      <th>18</th>\n",
              "      <td>SAPR4</td>\n",
              "      <td>4.15</td>\n",
              "    </tr>\n",
              "    <tr>\n",
              "      <th>19</th>\n",
              "      <td>VALE3</td>\n",
              "      <td>111.00</td>\n",
              "    </tr>\n",
              "  </tbody>\n",
              "</table>\n",
              "</div>"
            ],
            "text/plain": [
              "    CÓDIGO  VAL. ATUAL\n",
              "0    BBAS3       33.40\n",
              "1    BBSE3       23.40\n",
              "2    CMIG4       13.66\n",
              "3    COCE5       56.41\n",
              "4    COGN3        4.31\n",
              "5    CSAN3       21.85\n",
              "6    DIRR3       13.07\n",
              "7    ELET3       42.96\n",
              "8    GGBR4       33.08\n",
              "9    GGBR4       33.08\n",
              "10   IRBR3        6.23\n",
              "11   ITSA4       10.74\n",
              "12   ITSA4       10.74\n",
              "13   JPSA3       29.18\n",
              "14   MTRE3       12.00\n",
              "15   OIBR3        1.54\n",
              "16   RRRP3       40.90\n",
              "17  SAPR11       20.68\n",
              "18   SAPR4        4.15\n",
              "19   VALE3      111.00"
            ]
          },
          "metadata": {
            "tags": []
          }
        }
      ]
    },
    {
      "cell_type": "code",
      "metadata": {
        "colab": {
          "base_uri": "https://localhost:8080/",
          "height": 374
        },
        "id": "ILbAwuq0lJIj",
        "outputId": "5ebedacf-1681-4f06-f7f5-709a0c118b80"
      },
      "source": [
        "display(df_ativosDoExcel['CÓDIGO'])"
      ],
      "execution_count": 59,
      "outputs": [
        {
          "output_type": "display_data",
          "data": {
            "text/plain": [
              "0      BBAS3\n",
              "1      BBSE3\n",
              "2      CMIG4\n",
              "3      COCE5\n",
              "4      COGN3\n",
              "5      CSAN3\n",
              "6      DIRR3\n",
              "7      ELET3\n",
              "8      GGBR4\n",
              "9      GGBR4\n",
              "10     IRBR3\n",
              "11     ITSA4\n",
              "12     ITSA4\n",
              "13     JPSA3\n",
              "14     MTRE3\n",
              "15     OIBR3\n",
              "16     RRRP3\n",
              "17    SAPR11\n",
              "18     SAPR4\n",
              "19     VALE3\n",
              "Name: CÓDIGO, dtype: object"
            ]
          },
          "metadata": {
            "tags": []
          }
        }
      ]
    },
    {
      "cell_type": "code",
      "metadata": {
        "id": "iPvzmOjalyA-"
      },
      "source": [
        ""
      ],
      "execution_count": 59,
      "outputs": []
    }
  ]
}