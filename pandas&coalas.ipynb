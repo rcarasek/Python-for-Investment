{
  "nbformat": 4,
  "nbformat_minor": 0,
  "metadata": {
    "colab": {
      "name": "pandas&coalas.ipynb",
      "provenance": [],
      "toc_visible": true,
      "authorship_tag": "ABX9TyNQP39Dna9qO8OWHKexDGNd",
      "include_colab_link": true
    },
    "kernelspec": {
      "name": "python3",
      "display_name": "Python 3"
    },
    "language_info": {
      "name": "python"
    }
  },
  "cells": [
    {
      "cell_type": "markdown",
      "metadata": {
        "id": "view-in-github",
        "colab_type": "text"
      },
      "source": [
        "<a href=\"https://colab.research.google.com/github/rcarasek/Python-for-Investment/blob/main/pandas%26coalas.ipynb\" target=\"_parent\"><img src=\"https://colab.research.google.com/assets/colab-badge.svg\" alt=\"Open In Colab\"/></a>"
      ]
    },
    {
      "cell_type": "markdown",
      "metadata": {
        "id": "f4F0G7L-Xwog"
      },
      "source": [
        "## PANDAS"
      ]
    },
    {
      "cell_type": "code",
      "metadata": {
        "id": "f4Okzu5XXoKa"
      },
      "source": [
        "import pandas as pd"
      ],
      "execution_count": 3,
      "outputs": []
    },
    {
      "cell_type": "code",
      "metadata": {
        "id": "rwmkMLqXXwBo"
      },
      "source": [
        "df = pd.DataFrame()"
      ],
      "execution_count": 4,
      "outputs": []
    },
    {
      "cell_type": "code",
      "metadata": {
        "id": "0jYf5GtyX7st"
      },
      "source": [
        "cofrinho = {'Ativo' : ['BBSE3', 'GGBR4'],\n",
        "            'Close' : [23.42, 32.70]       }"
      ],
      "execution_count": 16,
      "outputs": []
    },
    {
      "cell_type": "code",
      "metadata": {
        "colab": {
          "base_uri": "https://localhost:8080/"
        },
        "id": "piuNXXfPYFHE",
        "outputId": "547c6023-5c62-4ad2-98a2-c3a7a62e406e"
      },
      "source": [
        "cofrinho"
      ],
      "execution_count": 17,
      "outputs": [
        {
          "output_type": "execute_result",
          "data": {
            "text/plain": [
              "{'Ativo': ['BBSE3', 'GGBR4'], 'Close': [23.42, 32.7]}"
            ]
          },
          "metadata": {
            "tags": []
          },
          "execution_count": 17
        }
      ]
    },
    {
      "cell_type": "code",
      "metadata": {
        "colab": {
          "base_uri": "https://localhost:8080/",
          "height": 34
        },
        "id": "vvabGG8sZaSN",
        "outputId": "e280f9e3-8526-4155-b32f-7c178c7b1af3"
      },
      "source": [
        "display(cofrinho)"
      ],
      "execution_count": 18,
      "outputs": [
        {
          "output_type": "display_data",
          "data": {
            "text/plain": [
              "{'Ativo': ['BBSE3', 'GGBR4'], 'Close': [23.42, 32.7]}"
            ]
          },
          "metadata": {
            "tags": []
          }
        }
      ]
    },
    {
      "cell_type": "code",
      "metadata": {
        "colab": {
          "base_uri": "https://localhost:8080/"
        },
        "id": "BPAgfARUZh5i",
        "outputId": "b8667bda-1494-436e-8ad9-e10c27ebb1c0"
      },
      "source": [
        "print(cofrinho)"
      ],
      "execution_count": 19,
      "outputs": [
        {
          "output_type": "stream",
          "text": [
            "{'Ativo': ['BBSE3', 'GGBR4'], 'Close': [23.42, 32.7]}\n"
          ],
          "name": "stdout"
        }
      ]
    },
    {
      "cell_type": "code",
      "metadata": {
        "id": "5VNEEg-hZ-DZ"
      },
      "source": [
        "df_cofrinho = pd.DataFrame(cofrinho)"
      ],
      "execution_count": 20,
      "outputs": []
    },
    {
      "cell_type": "code",
      "metadata": {
        "colab": {
          "base_uri": "https://localhost:8080/"
        },
        "id": "CQAykofUak4H",
        "outputId": "fe9f81a6-e3bd-4ce5-bc2e-fd57f4bc1b50"
      },
      "source": [
        "print(df_cofrinho)"
      ],
      "execution_count": 21,
      "outputs": [
        {
          "output_type": "stream",
          "text": [
            "   Ativo  Close\n",
            "0  BBSE3  23.42\n",
            "1  GGBR4  32.70\n"
          ],
          "name": "stdout"
        }
      ]
    },
    {
      "cell_type": "code",
      "metadata": {
        "colab": {
          "base_uri": "https://localhost:8080/",
          "height": 111
        },
        "id": "tqb8cD0Ka4OH",
        "outputId": "c4ea5538-eee8-42cd-9e66-d4a0973c637e"
      },
      "source": [
        "display(df_cofrinho)"
      ],
      "execution_count": 22,
      "outputs": [
        {
          "output_type": "display_data",
          "data": {
            "text/html": [
              "<div>\n",
              "<style scoped>\n",
              "    .dataframe tbody tr th:only-of-type {\n",
              "        vertical-align: middle;\n",
              "    }\n",
              "\n",
              "    .dataframe tbody tr th {\n",
              "        vertical-align: top;\n",
              "    }\n",
              "\n",
              "    .dataframe thead th {\n",
              "        text-align: right;\n",
              "    }\n",
              "</style>\n",
              "<table border=\"1\" class=\"dataframe\">\n",
              "  <thead>\n",
              "    <tr style=\"text-align: right;\">\n",
              "      <th></th>\n",
              "      <th>Ativo</th>\n",
              "      <th>Close</th>\n",
              "    </tr>\n",
              "  </thead>\n",
              "  <tbody>\n",
              "    <tr>\n",
              "      <th>0</th>\n",
              "      <td>BBSE3</td>\n",
              "      <td>23.42</td>\n",
              "    </tr>\n",
              "    <tr>\n",
              "      <th>1</th>\n",
              "      <td>GGBR4</td>\n",
              "      <td>32.70</td>\n",
              "    </tr>\n",
              "  </tbody>\n",
              "</table>\n",
              "</div>"
            ],
            "text/plain": [
              "   Ativo  Close\n",
              "0  BBSE3  23.42\n",
              "1  GGBR4  32.70"
            ]
          },
          "metadata": {
            "tags": []
          }
        }
      ]
    },
    {
      "cell_type": "code",
      "metadata": {
        "id": "PxM2vYega7IG"
      },
      "source": [
        "df_ativosDoExcel = pd.read_excel('/content/AtivosRCTestePy.xlsx')"
      ],
      "execution_count": 25,
      "outputs": []
    },
    {
      "cell_type": "code",
      "metadata": {
        "colab": {
          "base_uri": "https://localhost:8080/",
          "height": 669
        },
        "id": "BTJaGfrflHIP",
        "outputId": "77b87d5b-1524-48d2-be3b-6f8b083622a8"
      },
      "source": [
        "display(df_ativosDoExcel)"
      ],
      "execution_count": 32,
      "outputs": [
        {
          "output_type": "display_data",
          "data": {
            "text/html": [
              "<div>\n",
              "<style scoped>\n",
              "    .dataframe tbody tr th:only-of-type {\n",
              "        vertical-align: middle;\n",
              "    }\n",
              "\n",
              "    .dataframe tbody tr th {\n",
              "        vertical-align: top;\n",
              "    }\n",
              "\n",
              "    .dataframe thead th {\n",
              "        text-align: right;\n",
              "    }\n",
              "</style>\n",
              "<table border=\"1\" class=\"dataframe\">\n",
              "  <thead>\n",
              "    <tr style=\"text-align: right;\">\n",
              "      <th></th>\n",
              "      <th>CÓDIGO</th>\n",
              "      <th>QTD</th>\n",
              "      <th>COMPRA</th>\n",
              "      <th>VAL.COMPRA</th>\n",
              "      <th>TOTAL COMPRA</th>\n",
              "      <th>VAL. ATUAL</th>\n",
              "    </tr>\n",
              "  </thead>\n",
              "  <tbody>\n",
              "    <tr>\n",
              "      <th>0</th>\n",
              "      <td>BBAS3</td>\n",
              "      <td>500</td>\n",
              "      <td>2020-10-16</td>\n",
              "      <td>30.560</td>\n",
              "      <td>15280.0</td>\n",
              "      <td>33.40</td>\n",
              "    </tr>\n",
              "    <tr>\n",
              "      <th>1</th>\n",
              "      <td>BBSE3</td>\n",
              "      <td>100</td>\n",
              "      <td>2020-07-21</td>\n",
              "      <td>28.440</td>\n",
              "      <td>2844.0</td>\n",
              "      <td>23.40</td>\n",
              "    </tr>\n",
              "    <tr>\n",
              "      <th>2</th>\n",
              "      <td>CMIG4</td>\n",
              "      <td>1200</td>\n",
              "      <td>2020-07-06</td>\n",
              "      <td>8.793</td>\n",
              "      <td>10551.6</td>\n",
              "      <td>13.66</td>\n",
              "    </tr>\n",
              "    <tr>\n",
              "      <th>3</th>\n",
              "      <td>COCE5</td>\n",
              "      <td>600</td>\n",
              "      <td>2020-07-20</td>\n",
              "      <td>59.530</td>\n",
              "      <td>35718.0</td>\n",
              "      <td>56.41</td>\n",
              "    </tr>\n",
              "    <tr>\n",
              "      <th>4</th>\n",
              "      <td>COGN3</td>\n",
              "      <td>700</td>\n",
              "      <td>2020-12-22</td>\n",
              "      <td>4.550</td>\n",
              "      <td>3185.0</td>\n",
              "      <td>4.31</td>\n",
              "    </tr>\n",
              "    <tr>\n",
              "      <th>5</th>\n",
              "      <td>CSAN3</td>\n",
              "      <td>800</td>\n",
              "      <td>2021-03-25</td>\n",
              "      <td>22.400</td>\n",
              "      <td>17920.0</td>\n",
              "      <td>21.85</td>\n",
              "    </tr>\n",
              "    <tr>\n",
              "      <th>6</th>\n",
              "      <td>DIRR3</td>\n",
              "      <td>500</td>\n",
              "      <td>2021-04-13</td>\n",
              "      <td>13.490</td>\n",
              "      <td>6745.0</td>\n",
              "      <td>13.07</td>\n",
              "    </tr>\n",
              "    <tr>\n",
              "      <th>7</th>\n",
              "      <td>ELET3</td>\n",
              "      <td>200</td>\n",
              "      <td>2021-03-15</td>\n",
              "      <td>32.570</td>\n",
              "      <td>6514.0</td>\n",
              "      <td>42.96</td>\n",
              "    </tr>\n",
              "    <tr>\n",
              "      <th>8</th>\n",
              "      <td>GGBR4</td>\n",
              "      <td>100</td>\n",
              "      <td>2020-09-24</td>\n",
              "      <td>20.680</td>\n",
              "      <td>2068.0</td>\n",
              "      <td>33.08</td>\n",
              "    </tr>\n",
              "    <tr>\n",
              "      <th>9</th>\n",
              "      <td>GGBR4</td>\n",
              "      <td>700</td>\n",
              "      <td>2020-09-24</td>\n",
              "      <td>20.680</td>\n",
              "      <td>14476.0</td>\n",
              "      <td>33.08</td>\n",
              "    </tr>\n",
              "    <tr>\n",
              "      <th>10</th>\n",
              "      <td>IRBR3</td>\n",
              "      <td>600</td>\n",
              "      <td>2020-06-16</td>\n",
              "      <td>9.860</td>\n",
              "      <td>5916.0</td>\n",
              "      <td>6.23</td>\n",
              "    </tr>\n",
              "    <tr>\n",
              "      <th>11</th>\n",
              "      <td>ITSA4</td>\n",
              "      <td>1800</td>\n",
              "      <td>2020-06-03</td>\n",
              "      <td>10.230</td>\n",
              "      <td>18414.0</td>\n",
              "      <td>10.74</td>\n",
              "    </tr>\n",
              "    <tr>\n",
              "      <th>12</th>\n",
              "      <td>ITSA4</td>\n",
              "      <td>1000</td>\n",
              "      <td>2021-04-23</td>\n",
              "      <td>10.230</td>\n",
              "      <td>10230.0</td>\n",
              "      <td>10.74</td>\n",
              "    </tr>\n",
              "    <tr>\n",
              "      <th>13</th>\n",
              "      <td>JPSA3</td>\n",
              "      <td>300</td>\n",
              "      <td>2021-04-05</td>\n",
              "      <td>26.730</td>\n",
              "      <td>8019.0</td>\n",
              "      <td>29.18</td>\n",
              "    </tr>\n",
              "    <tr>\n",
              "      <th>14</th>\n",
              "      <td>MTRE3</td>\n",
              "      <td>2100</td>\n",
              "      <td>2020-12-28</td>\n",
              "      <td>13.560</td>\n",
              "      <td>28476.0</td>\n",
              "      <td>12.00</td>\n",
              "    </tr>\n",
              "    <tr>\n",
              "      <th>15</th>\n",
              "      <td>OIBR3</td>\n",
              "      <td>2800</td>\n",
              "      <td>2020-12-14</td>\n",
              "      <td>2.110</td>\n",
              "      <td>5908.0</td>\n",
              "      <td>1.54</td>\n",
              "    </tr>\n",
              "    <tr>\n",
              "      <th>16</th>\n",
              "      <td>RRRP3</td>\n",
              "      <td>200</td>\n",
              "      <td>2021-03-25</td>\n",
              "      <td>39.770</td>\n",
              "      <td>7954.0</td>\n",
              "      <td>40.90</td>\n",
              "    </tr>\n",
              "    <tr>\n",
              "      <th>17</th>\n",
              "      <td>SAPR11</td>\n",
              "      <td>30</td>\n",
              "      <td>2020-06-23</td>\n",
              "      <td>28.320</td>\n",
              "      <td>849.6</td>\n",
              "      <td>20.68</td>\n",
              "    </tr>\n",
              "    <tr>\n",
              "      <th>18</th>\n",
              "      <td>SAPR4</td>\n",
              "      <td>5000</td>\n",
              "      <td>2021-05-13</td>\n",
              "      <td>4.060</td>\n",
              "      <td>20300.0</td>\n",
              "      <td>4.15</td>\n",
              "    </tr>\n",
              "    <tr>\n",
              "      <th>19</th>\n",
              "      <td>VALE3</td>\n",
              "      <td>400</td>\n",
              "      <td>2021-03-03</td>\n",
              "      <td>95.210</td>\n",
              "      <td>38084.0</td>\n",
              "      <td>111.00</td>\n",
              "    </tr>\n",
              "  </tbody>\n",
              "</table>\n",
              "</div>"
            ],
            "text/plain": [
              "    CÓDIGO   QTD     COMPRA  VAL.COMPRA  TOTAL COMPRA  VAL. ATUAL\n",
              "0    BBAS3   500 2020-10-16      30.560       15280.0       33.40\n",
              "1    BBSE3   100 2020-07-21      28.440        2844.0       23.40\n",
              "2    CMIG4  1200 2020-07-06       8.793       10551.6       13.66\n",
              "3    COCE5   600 2020-07-20      59.530       35718.0       56.41\n",
              "4    COGN3   700 2020-12-22       4.550        3185.0        4.31\n",
              "5    CSAN3   800 2021-03-25      22.400       17920.0       21.85\n",
              "6    DIRR3   500 2021-04-13      13.490        6745.0       13.07\n",
              "7    ELET3   200 2021-03-15      32.570        6514.0       42.96\n",
              "8    GGBR4   100 2020-09-24      20.680        2068.0       33.08\n",
              "9    GGBR4   700 2020-09-24      20.680       14476.0       33.08\n",
              "10   IRBR3   600 2020-06-16       9.860        5916.0        6.23\n",
              "11   ITSA4  1800 2020-06-03      10.230       18414.0       10.74\n",
              "12   ITSA4  1000 2021-04-23      10.230       10230.0       10.74\n",
              "13   JPSA3   300 2021-04-05      26.730        8019.0       29.18\n",
              "14   MTRE3  2100 2020-12-28      13.560       28476.0       12.00\n",
              "15   OIBR3  2800 2020-12-14       2.110        5908.0        1.54\n",
              "16   RRRP3   200 2021-03-25      39.770        7954.0       40.90\n",
              "17  SAPR11    30 2020-06-23      28.320         849.6       20.68\n",
              "18   SAPR4  5000 2021-05-13       4.060       20300.0        4.15\n",
              "19   VALE3   400 2021-03-03      95.210       38084.0      111.00"
            ]
          },
          "metadata": {
            "tags": []
          }
        }
      ]
    },
    {
      "cell_type": "code",
      "metadata": {
        "colab": {
          "base_uri": "https://localhost:8080/",
          "height": 374
        },
        "id": "ILbAwuq0lJIj",
        "outputId": "b69efc5e-baac-41e8-ef8c-9457ced9a10c"
      },
      "source": [
        "display(df_ativosDoExcel['CÓDIGO'])"
      ],
      "execution_count": 35,
      "outputs": [
        {
          "output_type": "display_data",
          "data": {
            "text/plain": [
              "0      BBAS3\n",
              "1      BBSE3\n",
              "2      CMIG4\n",
              "3      COCE5\n",
              "4      COGN3\n",
              "5      CSAN3\n",
              "6      DIRR3\n",
              "7      ELET3\n",
              "8      GGBR4\n",
              "9      GGBR4\n",
              "10     IRBR3\n",
              "11     ITSA4\n",
              "12     ITSA4\n",
              "13     JPSA3\n",
              "14     MTRE3\n",
              "15     OIBR3\n",
              "16     RRRP3\n",
              "17    SAPR11\n",
              "18     SAPR4\n",
              "19     VALE3\n",
              "Name: CÓDIGO, dtype: object"
            ]
          },
          "metadata": {
            "tags": []
          }
        }
      ]
    },
    {
      "cell_type": "code",
      "metadata": {
        "id": "iPvzmOjalyA-"
      },
      "source": [
        ""
      ],
      "execution_count": null,
      "outputs": []
    }
  ]
}