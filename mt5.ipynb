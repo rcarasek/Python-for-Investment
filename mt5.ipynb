{
 "metadata": {
  "language_info": {
   "codemirror_mode": {
    "name": "ipython",
    "version": 3
   },
   "file_extension": ".py",
   "mimetype": "text/x-python",
   "name": "python",
   "nbconvert_exporter": "python",
   "pygments_lexer": "ipython3",
   "version": "3.9.5"
  },
  "orig_nbformat": 2,
  "kernelspec": {
   "name": "python395jvsc74a57bd063fd5069d213b44bf678585dea6b12cceca9941eaf7f819626cde1f2670de90d",
   "display_name": "Python 3.9.5 64-bit"
  },
  "metadata": {
   "interpreter": {
    "hash": "63fd5069d213b44bf678585dea6b12cceca9941eaf7f819626cde1f2670de90d"
   }
  }
 },
 "nbformat": 4,
 "nbformat_minor": 2,
 "cells": [
  {
   "cell_type": "code",
   "execution_count": 15,
   "metadata": {},
   "outputs": [
    {
     "output_type": "stream",
     "name": "stdout",
     "text": [
      "Requirement already satisfied: MetaTrader5 in c:\\python39\\lib\\site-packages (5.0.34)\n",
      "Requirement already satisfied: numpy>=1.7 in c:\\python39\\lib\\site-packages (from MetaTrader5) (1.20.3)\n",
      "Requirement already satisfied: pandas in c:\\python39\\lib\\site-packages (1.2.4)\n",
      "Requirement already satisfied: numpy>=1.16.5 in c:\\python39\\lib\\site-packages (from pandas) (1.20.3)\n",
      "Requirement already satisfied: pytz>=2017.3 in c:\\python39\\lib\\site-packages (from pandas) (2021.1)\n",
      "Requirement already satisfied: python-dateutil>=2.7.3 in c:\\users\\user\\appdata\\roaming\\python\\python39\\site-packages (from pandas) (2.8.1)\n",
      "Requirement already satisfied: six>=1.5 in c:\\users\\user\\appdata\\roaming\\python\\python39\\site-packages (from python-dateutil>=2.7.3->pandas) (1.15.0)\n"
     ]
    }
   ],
   "source": [
    "!pip install MetaTrader5\n",
    "!pip install pandas\n",
    "\n",
    "import MetaTrader5 as mt5\n",
    "import pandas as pd\n",
    "from datetime import datetime\n"
   ]
  },
  {
   "cell_type": "code",
   "execution_count": 16,
   "metadata": {},
   "outputs": [
    {
     "output_type": "execute_result",
     "data": {
      "text/plain": [
       "True"
      ]
     },
     "metadata": {},
     "execution_count": 16
    }
   ],
   "source": [
    "mt5.initialize()\n",
    "d = mt5.terminal_info()\n",
    "d = d._asdict()\n",
    "\n",
    "# for k in d.keys():\n",
    "#     print(k, ' ----> ', d[k])\n",
    "\n",
    "ativo = 'PETR4'\n",
    "dataIni = datetime(2021,1,2)\n",
    "flag = mt5.COPY_TICKS_ALL\n",
    "count = 10\n",
    "dados = mt5.copy_ticks_from(ativo, dataIni, count, flag)\n",
    "\n",
    "df = pd.DataFrame(dados)\n",
    "\n",
    "mt5.shutdown()"
   ]
  },
  {
   "cell_type": "code",
   "execution_count": 17,
   "metadata": {},
   "outputs": [
    {
     "output_type": "execute_result",
     "data": {
      "text/plain": [
       "'PETR4'"
      ]
     },
     "metadata": {},
     "execution_count": 17
    }
   ],
   "source": [
    "ativo"
   ]
  },
  {
   "cell_type": "code",
   "execution_count": 19,
   "metadata": {},
   "outputs": [
    {
     "output_type": "execute_result",
     "data": {
      "text/plain": [
       "array([(1609743604,  0.  ,  0.  ,  0.  ,     0, 1609743604908,   6,     0.),\n",
       "       (1609743650, 28.22, 28.45,  0.  ,     0, 1609743650000,   6,     0.),\n",
       "       (1609752600, 28.22, 28.45,  0.  ,     0, 1609752600152,   6,     0.),\n",
       "       (1609752694, 28.22, 28.45,  0.  ,     0, 1609752694823,   6,     0.),\n",
       "       (1609752750, 28.22, 28.45,  0.  ,     0, 1609752750227,   2,     0.),\n",
       "       (1609754977, 28.22, 28.45, 28.65, 30700, 1609754977902, 312, 30700.),\n",
       "       (1609754977, 28.22, 28.45, 28.65, 23000, 1609754977902, 312, 23000.),\n",
       "       (1609754977, 28.22, 28.45, 28.65,  9900, 1609754977902, 312,  9900.),\n",
       "       (1609754977, 28.22, 28.45, 28.65, 14300, 1609754977902, 312, 14300.),\n",
       "       (1609754977, 28.22, 28.45, 28.65,  3600, 1609754977902, 312,  3600.)],\n",
       "      dtype=[('time', '<i8'), ('bid', '<f8'), ('ask', '<f8'), ('last', '<f8'), ('volume', '<u8'), ('time_msc', '<i8'), ('flags', '<u4'), ('volume_real', '<f8')])"
      ]
     },
     "metadata": {},
     "execution_count": 19
    }
   ],
   "source": [
    "dados"
   ]
  },
  {
   "cell_type": "code",
   "execution_count": 18,
   "metadata": {},
   "outputs": [
    {
     "output_type": "execute_result",
     "data": {
      "text/plain": [
       "         time    bid    ask   last  volume       time_msc  flags  volume_real\n",
       "0  1609743604   0.00   0.00   0.00       0  1609743604908      6          0.0\n",
       "1  1609743650  28.22  28.45   0.00       0  1609743650000      6          0.0\n",
       "2  1609752600  28.22  28.45   0.00       0  1609752600152      6          0.0\n",
       "3  1609752694  28.22  28.45   0.00       0  1609752694823      6          0.0\n",
       "4  1609752750  28.22  28.45   0.00       0  1609752750227      2          0.0\n",
       "5  1609754977  28.22  28.45  28.65   30700  1609754977902    312      30700.0\n",
       "6  1609754977  28.22  28.45  28.65   23000  1609754977902    312      23000.0\n",
       "7  1609754977  28.22  28.45  28.65    9900  1609754977902    312       9900.0\n",
       "8  1609754977  28.22  28.45  28.65   14300  1609754977902    312      14300.0\n",
       "9  1609754977  28.22  28.45  28.65    3600  1609754977902    312       3600.0"
      ],
      "text/html": "<div>\n<style scoped>\n    .dataframe tbody tr th:only-of-type {\n        vertical-align: middle;\n    }\n\n    .dataframe tbody tr th {\n        vertical-align: top;\n    }\n\n    .dataframe thead th {\n        text-align: right;\n    }\n</style>\n<table border=\"1\" class=\"dataframe\">\n  <thead>\n    <tr style=\"text-align: right;\">\n      <th></th>\n      <th>time</th>\n      <th>bid</th>\n      <th>ask</th>\n      <th>last</th>\n      <th>volume</th>\n      <th>time_msc</th>\n      <th>flags</th>\n      <th>volume_real</th>\n    </tr>\n  </thead>\n  <tbody>\n    <tr>\n      <th>0</th>\n      <td>1609743604</td>\n      <td>0.00</td>\n      <td>0.00</td>\n      <td>0.00</td>\n      <td>0</td>\n      <td>1609743604908</td>\n      <td>6</td>\n      <td>0.0</td>\n    </tr>\n    <tr>\n      <th>1</th>\n      <td>1609743650</td>\n      <td>28.22</td>\n      <td>28.45</td>\n      <td>0.00</td>\n      <td>0</td>\n      <td>1609743650000</td>\n      <td>6</td>\n      <td>0.0</td>\n    </tr>\n    <tr>\n      <th>2</th>\n      <td>1609752600</td>\n      <td>28.22</td>\n      <td>28.45</td>\n      <td>0.00</td>\n      <td>0</td>\n      <td>1609752600152</td>\n      <td>6</td>\n      <td>0.0</td>\n    </tr>\n    <tr>\n      <th>3</th>\n      <td>1609752694</td>\n      <td>28.22</td>\n      <td>28.45</td>\n      <td>0.00</td>\n      <td>0</td>\n      <td>1609752694823</td>\n      <td>6</td>\n      <td>0.0</td>\n    </tr>\n    <tr>\n      <th>4</th>\n      <td>1609752750</td>\n      <td>28.22</td>\n      <td>28.45</td>\n      <td>0.00</td>\n      <td>0</td>\n      <td>1609752750227</td>\n      <td>2</td>\n      <td>0.0</td>\n    </tr>\n    <tr>\n      <th>5</th>\n      <td>1609754977</td>\n      <td>28.22</td>\n      <td>28.45</td>\n      <td>28.65</td>\n      <td>30700</td>\n      <td>1609754977902</td>\n      <td>312</td>\n      <td>30700.0</td>\n    </tr>\n    <tr>\n      <th>6</th>\n      <td>1609754977</td>\n      <td>28.22</td>\n      <td>28.45</td>\n      <td>28.65</td>\n      <td>23000</td>\n      <td>1609754977902</td>\n      <td>312</td>\n      <td>23000.0</td>\n    </tr>\n    <tr>\n      <th>7</th>\n      <td>1609754977</td>\n      <td>28.22</td>\n      <td>28.45</td>\n      <td>28.65</td>\n      <td>9900</td>\n      <td>1609754977902</td>\n      <td>312</td>\n      <td>9900.0</td>\n    </tr>\n    <tr>\n      <th>8</th>\n      <td>1609754977</td>\n      <td>28.22</td>\n      <td>28.45</td>\n      <td>28.65</td>\n      <td>14300</td>\n      <td>1609754977902</td>\n      <td>312</td>\n      <td>14300.0</td>\n    </tr>\n    <tr>\n      <th>9</th>\n      <td>1609754977</td>\n      <td>28.22</td>\n      <td>28.45</td>\n      <td>28.65</td>\n      <td>3600</td>\n      <td>1609754977902</td>\n      <td>312</td>\n      <td>3600.0</td>\n    </tr>\n  </tbody>\n</table>\n</div>"
     },
     "metadata": {},
     "execution_count": 18
    }
   ],
   "source": [
    "df"
   ]
  },
  {
   "cell_type": "code",
   "execution_count": null,
   "metadata": {},
   "outputs": [],
   "source": []
  }
 ]
}