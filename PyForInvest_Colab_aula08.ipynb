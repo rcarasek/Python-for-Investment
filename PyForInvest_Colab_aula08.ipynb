{
  "nbformat": 4,
  "nbformat_minor": 0,
  "metadata": {
    "colab": {
      "name": "PyForInvest_Colab_aula08.ipynb",
      "provenance": [],
      "authorship_tag": "ABX9TyORWUYW72oTUr45hA4k+5hs",
      "include_colab_link": true
    },
    "kernelspec": {
      "name": "python3",
      "display_name": "Python 3"
    },
    "language_info": {
      "name": "python"
    }
  },
  "cells": [
    {
      "cell_type": "markdown",
      "metadata": {
        "id": "view-in-github",
        "colab_type": "text"
      },
      "source": [
        "<a href=\"https://colab.research.google.com/github/rcarasek/Python-for-Investment/blob/main/PyForInvest_Colab_aula08.ipynb\" target=\"_parent\"><img src=\"https://colab.research.google.com/assets/colab-badge.svg\" alt=\"Open In Colab\"/></a>"
      ]
    },
    {
      "cell_type": "code",
      "metadata": {
        "id": "4UBUf2W_FU26"
      },
      "source": [
        "import numpy as np\n",
        "import pandas as pd\n",
        "import string\n",
        "import warnings\n",
        "warnings.filterwarnings('ignore')"
      ],
      "execution_count": 40,
      "outputs": []
    },
    {
      "cell_type": "code",
      "metadata": {
        "id": "KHEMAR1jexXH"
      },
      "source": [
        "import requests\n",
        "\n",
        "#A url que você quer acesssar\n",
        "url = 'http://www.fundamentus.com.br/resultado.php'\n",
        "\n",
        "#Informações para fingir ser um navegador\n",
        "header = {\n",
        "  \"User-Agent\": \"Mozilla/5.0 (X11; Linux x86_64) AppleWebKit/537.36 (KHTML, like Gecko) Chrome/50.0.2661.75 Safari/537.36\",\n",
        "  \"X-Requested-With\": \"XMLHttpRequest\"\n",
        "}\n",
        "#juntamos tudo com a requests\n",
        "r = requests.get(url, headers=header)\n",
        "#E finalmente usamos a função read_html do pandas\n"
      ],
      "execution_count": 41,
      "outputs": []
    },
    {
      "cell_type": "code",
      "metadata": {
        "id": "qVb7KAjwdkWq"
      },
      "source": [
        "df = pd.read_html(r.text,  decimal=',', thousands='.')"
      ],
      "execution_count": 42,
      "outputs": []
    },
    {
      "cell_type": "code",
      "metadata": {
        "colab": {
          "base_uri": "https://localhost:8080/"
        },
        "id": "YGhuR_g8fFqt",
        "outputId": "9b7a0f3a-a216-41c5-cdc7-4cc2ac317482"
      },
      "source": [
        "type(df)"
      ],
      "execution_count": 43,
      "outputs": [
        {
          "output_type": "execute_result",
          "data": {
            "text/plain": [
              "list"
            ]
          },
          "metadata": {
            "tags": []
          },
          "execution_count": 43
        }
      ]
    },
    {
      "cell_type": "code",
      "metadata": {
        "id": "EmEt-zM_fGsn"
      },
      "source": [
        "df = pd.read_html(r.text,  decimal=',', thousands='.')[0]"
      ],
      "execution_count": 44,
      "outputs": []
    },
    {
      "cell_type": "code",
      "metadata": {
        "colab": {
          "base_uri": "https://localhost:8080/"
        },
        "id": "V6AlQn4Wk6Wo",
        "outputId": "c69f2c64-25d3-4efa-c0d2-a8c87004f9d8"
      },
      "source": [
        "type(df)"
      ],
      "execution_count": 45,
      "outputs": [
        {
          "output_type": "execute_result",
          "data": {
            "text/plain": [
              "pandas.core.frame.DataFrame"
            ]
          },
          "metadata": {
            "tags": []
          },
          "execution_count": 45
        }
      ]
    },
    {
      "cell_type": "code",
      "metadata": {
        "colab": {
          "base_uri": "https://localhost:8080/",
          "height": 456
        },
        "id": "Rhrdgg_5k9On",
        "outputId": "9914dbd4-ad0a-400d-fa0d-3f2adf98b9b2"
      },
      "source": [
        "df"
      ],
      "execution_count": 46,
      "outputs": [
        {
          "output_type": "execute_result",
          "data": {
            "text/html": [
              "<div>\n",
              "<style scoped>\n",
              "    .dataframe tbody tr th:only-of-type {\n",
              "        vertical-align: middle;\n",
              "    }\n",
              "\n",
              "    .dataframe tbody tr th {\n",
              "        vertical-align: top;\n",
              "    }\n",
              "\n",
              "    .dataframe thead th {\n",
              "        text-align: right;\n",
              "    }\n",
              "</style>\n",
              "<table border=\"1\" class=\"dataframe\">\n",
              "  <thead>\n",
              "    <tr style=\"text-align: right;\">\n",
              "      <th></th>\n",
              "      <th>Papel</th>\n",
              "      <th>Cotação</th>\n",
              "      <th>P/L</th>\n",
              "      <th>P/VP</th>\n",
              "      <th>PSR</th>\n",
              "      <th>Div.Yield</th>\n",
              "      <th>P/Ativo</th>\n",
              "      <th>P/Cap.Giro</th>\n",
              "      <th>P/EBIT</th>\n",
              "      <th>P/Ativ Circ.Liq</th>\n",
              "      <th>EV/EBIT</th>\n",
              "      <th>EV/EBITDA</th>\n",
              "      <th>Mrg Ebit</th>\n",
              "      <th>Mrg. Líq.</th>\n",
              "      <th>Liq. Corr.</th>\n",
              "      <th>ROIC</th>\n",
              "      <th>ROE</th>\n",
              "      <th>Liq.2meses</th>\n",
              "      <th>Patrim. Líq</th>\n",
              "      <th>Dív.Brut/ Patrim.</th>\n",
              "      <th>Cresc. Rec.5a</th>\n",
              "    </tr>\n",
              "  </thead>\n",
              "  <tbody>\n",
              "    <tr>\n",
              "      <th>0</th>\n",
              "      <td>PMET3</td>\n",
              "      <td>0.00</td>\n",
              "      <td>0.00</td>\n",
              "      <td>0.00</td>\n",
              "      <td>0.000</td>\n",
              "      <td>0,00%</td>\n",
              "      <td>0.000</td>\n",
              "      <td>0.00</td>\n",
              "      <td>0.00</td>\n",
              "      <td>0.00</td>\n",
              "      <td>0.00</td>\n",
              "      <td>0.00</td>\n",
              "      <td>0,00%</td>\n",
              "      <td>0,00%</td>\n",
              "      <td>0.00</td>\n",
              "      <td>0,00%</td>\n",
              "      <td>4,10%</td>\n",
              "      <td>0.0</td>\n",
              "      <td>-2.908630e+08</td>\n",
              "      <td>0.00</td>\n",
              "      <td>37,74%</td>\n",
              "    </tr>\n",
              "    <tr>\n",
              "      <th>1</th>\n",
              "      <td>CLAN3</td>\n",
              "      <td>0.00</td>\n",
              "      <td>0.00</td>\n",
              "      <td>0.00</td>\n",
              "      <td>0.000</td>\n",
              "      <td>0,00%</td>\n",
              "      <td>0.000</td>\n",
              "      <td>0.00</td>\n",
              "      <td>0.00</td>\n",
              "      <td>0.00</td>\n",
              "      <td>0.00</td>\n",
              "      <td>0.00</td>\n",
              "      <td>0,00%</td>\n",
              "      <td>0,00%</td>\n",
              "      <td>0.00</td>\n",
              "      <td>0,00%</td>\n",
              "      <td>-1,05%</td>\n",
              "      <td>0.0</td>\n",
              "      <td>1.012240e+09</td>\n",
              "      <td>0.00</td>\n",
              "      <td>-63,96%</td>\n",
              "    </tr>\n",
              "    <tr>\n",
              "      <th>2</th>\n",
              "      <td>PORP4</td>\n",
              "      <td>2.40</td>\n",
              "      <td>0.00</td>\n",
              "      <td>0.00</td>\n",
              "      <td>0.000</td>\n",
              "      <td>0,00%</td>\n",
              "      <td>0.000</td>\n",
              "      <td>0.00</td>\n",
              "      <td>0.00</td>\n",
              "      <td>0.00</td>\n",
              "      <td>0.00</td>\n",
              "      <td>0.00</td>\n",
              "      <td>0,00%</td>\n",
              "      <td>0,00%</td>\n",
              "      <td>0.00</td>\n",
              "      <td>0,00%</td>\n",
              "      <td>-2,08%</td>\n",
              "      <td>0.0</td>\n",
              "      <td>2.239900e+07</td>\n",
              "      <td>0.00</td>\n",
              "      <td>13,66%</td>\n",
              "    </tr>\n",
              "    <tr>\n",
              "      <th>3</th>\n",
              "      <td>MNSA4</td>\n",
              "      <td>0.47</td>\n",
              "      <td>0.00</td>\n",
              "      <td>0.00</td>\n",
              "      <td>0.000</td>\n",
              "      <td>0,00%</td>\n",
              "      <td>0.000</td>\n",
              "      <td>0.00</td>\n",
              "      <td>0.00</td>\n",
              "      <td>0.00</td>\n",
              "      <td>0.00</td>\n",
              "      <td>0.00</td>\n",
              "      <td>-208,15%</td>\n",
              "      <td>-362,66%</td>\n",
              "      <td>3.63</td>\n",
              "      <td>-13,50%</td>\n",
              "      <td>145,70%</td>\n",
              "      <td>0.0</td>\n",
              "      <td>-9.105000e+06</td>\n",
              "      <td>-6.52</td>\n",
              "      <td>-41,11%</td>\n",
              "    </tr>\n",
              "    <tr>\n",
              "      <th>4</th>\n",
              "      <td>CSTB3</td>\n",
              "      <td>150.00</td>\n",
              "      <td>0.00</td>\n",
              "      <td>0.00</td>\n",
              "      <td>0.000</td>\n",
              "      <td>0,00%</td>\n",
              "      <td>0.000</td>\n",
              "      <td>0.00</td>\n",
              "      <td>0.00</td>\n",
              "      <td>0.00</td>\n",
              "      <td>0.00</td>\n",
              "      <td>0.00</td>\n",
              "      <td>40,85%</td>\n",
              "      <td>28,98%</td>\n",
              "      <td>2.60</td>\n",
              "      <td>22,40%</td>\n",
              "      <td>20,11%</td>\n",
              "      <td>0.0</td>\n",
              "      <td>8.420670e+09</td>\n",
              "      <td>0.14</td>\n",
              "      <td>31,91%</td>\n",
              "    </tr>\n",
              "    <tr>\n",
              "      <th>...</th>\n",
              "      <td>...</td>\n",
              "      <td>...</td>\n",
              "      <td>...</td>\n",
              "      <td>...</td>\n",
              "      <td>...</td>\n",
              "      <td>...</td>\n",
              "      <td>...</td>\n",
              "      <td>...</td>\n",
              "      <td>...</td>\n",
              "      <td>...</td>\n",
              "      <td>...</td>\n",
              "      <td>...</td>\n",
              "      <td>...</td>\n",
              "      <td>...</td>\n",
              "      <td>...</td>\n",
              "      <td>...</td>\n",
              "      <td>...</td>\n",
              "      <td>...</td>\n",
              "      <td>...</td>\n",
              "      <td>...</td>\n",
              "      <td>...</td>\n",
              "    </tr>\n",
              "    <tr>\n",
              "      <th>948</th>\n",
              "      <td>LWSA3</td>\n",
              "      <td>24.81</td>\n",
              "      <td>735.83</td>\n",
              "      <td>21.55</td>\n",
              "      <td>29.752</td>\n",
              "      <td>0,11%</td>\n",
              "      <td>10.001</td>\n",
              "      <td>40.70</td>\n",
              "      <td>335.64</td>\n",
              "      <td>499.08</td>\n",
              "      <td>329.36</td>\n",
              "      <td>142.72</td>\n",
              "      <td>8,86%</td>\n",
              "      <td>4,04%</td>\n",
              "      <td>1.79</td>\n",
              "      <td>4,30%</td>\n",
              "      <td>2,93%</td>\n",
              "      <td>240037000.0</td>\n",
              "      <td>6.739730e+08</td>\n",
              "      <td>0.23</td>\n",
              "      <td>24,50%</td>\n",
              "    </tr>\n",
              "    <tr>\n",
              "      <th>949</th>\n",
              "      <td>PRBC4</td>\n",
              "      <td>14.54</td>\n",
              "      <td>808.37</td>\n",
              "      <td>39.12</td>\n",
              "      <td>0.000</td>\n",
              "      <td>0,00%</td>\n",
              "      <td>0.000</td>\n",
              "      <td>0.00</td>\n",
              "      <td>0.00</td>\n",
              "      <td>0.00</td>\n",
              "      <td>0.00</td>\n",
              "      <td>0.00</td>\n",
              "      <td>0,00%</td>\n",
              "      <td>0,00%</td>\n",
              "      <td>0.00</td>\n",
              "      <td>0,00%</td>\n",
              "      <td>4,84%</td>\n",
              "      <td>0.0</td>\n",
              "      <td>1.210880e+09</td>\n",
              "      <td>0.00</td>\n",
              "      <td>11,60%</td>\n",
              "    </tr>\n",
              "    <tr>\n",
              "      <th>950</th>\n",
              "      <td>UBBR11</td>\n",
              "      <td>14.75</td>\n",
              "      <td>1201.81</td>\n",
              "      <td>3.91</td>\n",
              "      <td>0.000</td>\n",
              "      <td>0,00%</td>\n",
              "      <td>0.000</td>\n",
              "      <td>0.00</td>\n",
              "      <td>0.00</td>\n",
              "      <td>0.00</td>\n",
              "      <td>0.00</td>\n",
              "      <td>0.00</td>\n",
              "      <td>0,00%</td>\n",
              "      <td>0,00%</td>\n",
              "      <td>0.00</td>\n",
              "      <td>0,00%</td>\n",
              "      <td>0,33%</td>\n",
              "      <td>0.0</td>\n",
              "      <td>1.031720e+10</td>\n",
              "      <td>0.00</td>\n",
              "      <td>10,58%</td>\n",
              "    </tr>\n",
              "    <tr>\n",
              "      <th>951</th>\n",
              "      <td>UBBR3</td>\n",
              "      <td>18.00</td>\n",
              "      <td>1466.61</td>\n",
              "      <td>4.77</td>\n",
              "      <td>0.000</td>\n",
              "      <td>0,00%</td>\n",
              "      <td>0.000</td>\n",
              "      <td>0.00</td>\n",
              "      <td>0.00</td>\n",
              "      <td>0.00</td>\n",
              "      <td>0.00</td>\n",
              "      <td>0.00</td>\n",
              "      <td>0,00%</td>\n",
              "      <td>0,00%</td>\n",
              "      <td>0.00</td>\n",
              "      <td>0,00%</td>\n",
              "      <td>0,33%</td>\n",
              "      <td>0.0</td>\n",
              "      <td>1.031720e+10</td>\n",
              "      <td>0.00</td>\n",
              "      <td>10,58%</td>\n",
              "    </tr>\n",
              "    <tr>\n",
              "      <th>952</th>\n",
              "      <td>DMVF3</td>\n",
              "      <td>9.89</td>\n",
              "      <td>4068.81</td>\n",
              "      <td>0.60</td>\n",
              "      <td>0.498</td>\n",
              "      <td>0,00%</td>\n",
              "      <td>0.344</td>\n",
              "      <td>3.03</td>\n",
              "      <td>8.54</td>\n",
              "      <td>-3.69</td>\n",
              "      <td>7.26</td>\n",
              "      <td>3.14</td>\n",
              "      <td>5,83%</td>\n",
              "      <td>0,01%</td>\n",
              "      <td>1.52</td>\n",
              "      <td>5,25%</td>\n",
              "      <td>0,01%</td>\n",
              "      <td>2941910.0</td>\n",
              "      <td>8.361590e+08</td>\n",
              "      <td>0.16</td>\n",
              "      <td>-11,29%</td>\n",
              "    </tr>\n",
              "  </tbody>\n",
              "</table>\n",
              "<p>953 rows × 21 columns</p>\n",
              "</div>"
            ],
            "text/plain": [
              "      Papel  Cotação      P/L  ...   Patrim. Líq  Dív.Brut/ Patrim. Cresc. Rec.5a\n",
              "0     PMET3     0.00     0.00  ... -2.908630e+08               0.00        37,74%\n",
              "1     CLAN3     0.00     0.00  ...  1.012240e+09               0.00       -63,96%\n",
              "2     PORP4     2.40     0.00  ...  2.239900e+07               0.00        13,66%\n",
              "3     MNSA4     0.47     0.00  ... -9.105000e+06              -6.52       -41,11%\n",
              "4     CSTB3   150.00     0.00  ...  8.420670e+09               0.14        31,91%\n",
              "..      ...      ...      ...  ...           ...                ...           ...\n",
              "948   LWSA3    24.81   735.83  ...  6.739730e+08               0.23        24,50%\n",
              "949   PRBC4    14.54   808.37  ...  1.210880e+09               0.00        11,60%\n",
              "950  UBBR11    14.75  1201.81  ...  1.031720e+10               0.00        10,58%\n",
              "951   UBBR3    18.00  1466.61  ...  1.031720e+10               0.00        10,58%\n",
              "952   DMVF3     9.89  4068.81  ...  8.361590e+08               0.16       -11,29%\n",
              "\n",
              "[953 rows x 21 columns]"
            ]
          },
          "metadata": {
            "tags": []
          },
          "execution_count": 46
        }
      ]
    },
    {
      "cell_type": "code",
      "metadata": {
        "id": "NecUreJnxNHm"
      },
      "source": [
        ""
      ],
      "execution_count": null,
      "outputs": []
    }
  ]
}