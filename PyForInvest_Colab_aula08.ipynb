{
  "nbformat": 4,
  "nbformat_minor": 0,
  "metadata": {
    "colab": {
      "name": "PyForInvest_Colab_aula08.ipynb",
      "provenance": [],
      "authorship_tag": "ABX9TyNLQiX4dEln6soHSUuk7ODk",
      "include_colab_link": true
    },
    "kernelspec": {
      "name": "python3",
      "display_name": "Python 3"
    },
    "language_info": {
      "name": "python"
    }
  },
  "cells": [
    {
      "cell_type": "markdown",
      "metadata": {
        "id": "view-in-github",
        "colab_type": "text"
      },
      "source": [
        "<a href=\"https://colab.research.google.com/github/rcarasek/Python-for-Investment/blob/main/PyForInvest_Colab_aula08.ipynb\" target=\"_parent\"><img src=\"https://colab.research.google.com/assets/colab-badge.svg\" alt=\"Open In Colab\"/></a>"
      ]
    },
    {
      "cell_type": "code",
      "metadata": {
        "id": "4UBUf2W_FU26"
      },
      "source": [
        "import numpy as np\n",
        "import pandas as pd\n",
        "import string\n",
        "import warnings\n",
        "warnings.filterwarnings('ignore')"
      ],
      "execution_count": 93,
      "outputs": []
    },
    {
      "cell_type": "code",
      "metadata": {
        "id": "KHEMAR1jexXH"
      },
      "source": [
        "import requests\n",
        "\n",
        "#A url que você quer acesssar\n",
        "url = 'http://www.fundamentus.com.br/resultado.php'\n",
        "\n",
        "#Informações para fingir ser um navegador\n",
        "header = {\n",
        "  \"User-Agent\": \"Mozilla/5.0 (X11; Linux x86_64) AppleWebKit/537.36 (KHTML, like Gecko) Chrome/50.0.2661.75 Safari/537.36\",\n",
        "  \"X-Requested-With\": \"XMLHttpRequest\"\n",
        "}\n",
        "#juntamos tudo com a requests\n",
        "r = requests.get(url, headers=header)\n",
        "#E finalmente usamos a função read_html do pandas\n"
      ],
      "execution_count": 94,
      "outputs": []
    },
    {
      "cell_type": "code",
      "metadata": {
        "id": "qVb7KAjwdkWq"
      },
      "source": [
        "df = pd.read_html(r.text,  decimal=',', thousands='.')"
      ],
      "execution_count": 95,
      "outputs": []
    },
    {
      "cell_type": "code",
      "metadata": {
        "colab": {
          "base_uri": "https://localhost:8080/"
        },
        "id": "YGhuR_g8fFqt",
        "outputId": "b789a8e6-76de-453f-a96c-01a54912e38a"
      },
      "source": [
        "type(df)"
      ],
      "execution_count": 96,
      "outputs": [
        {
          "output_type": "execute_result",
          "data": {
            "text/plain": [
              "list"
            ]
          },
          "metadata": {
            "tags": []
          },
          "execution_count": 96
        }
      ]
    },
    {
      "cell_type": "code",
      "metadata": {
        "id": "EmEt-zM_fGsn"
      },
      "source": [
        "df = pd.read_html(r.text,  decimal=',', thousands='.')[0]"
      ],
      "execution_count": 97,
      "outputs": []
    },
    {
      "cell_type": "code",
      "metadata": {
        "colab": {
          "base_uri": "https://localhost:8080/"
        },
        "id": "V6AlQn4Wk6Wo",
        "outputId": "0fc412a0-06cd-4478-82a2-f54cbc2f3cb1"
      },
      "source": [
        "type(df)"
      ],
      "execution_count": 98,
      "outputs": [
        {
          "output_type": "execute_result",
          "data": {
            "text/plain": [
              "pandas.core.frame.DataFrame"
            ]
          },
          "metadata": {
            "tags": []
          },
          "execution_count": 98
        }
      ]
    },
    {
      "cell_type": "code",
      "metadata": {
        "colab": {
          "base_uri": "https://localhost:8080/",
          "height": 148
        },
        "id": "Rhrdgg_5k9On",
        "outputId": "2108e92f-ea16-432d-daef-cad462cce2db"
      },
      "source": [
        "df.head(2)"
      ],
      "execution_count": 99,
      "outputs": [
        {
          "output_type": "execute_result",
          "data": {
            "text/html": [
              "<div>\n",
              "<style scoped>\n",
              "    .dataframe tbody tr th:only-of-type {\n",
              "        vertical-align: middle;\n",
              "    }\n",
              "\n",
              "    .dataframe tbody tr th {\n",
              "        vertical-align: top;\n",
              "    }\n",
              "\n",
              "    .dataframe thead th {\n",
              "        text-align: right;\n",
              "    }\n",
              "</style>\n",
              "<table border=\"1\" class=\"dataframe\">\n",
              "  <thead>\n",
              "    <tr style=\"text-align: right;\">\n",
              "      <th></th>\n",
              "      <th>Papel</th>\n",
              "      <th>Cotação</th>\n",
              "      <th>P/L</th>\n",
              "      <th>P/VP</th>\n",
              "      <th>PSR</th>\n",
              "      <th>Div.Yield</th>\n",
              "      <th>P/Ativo</th>\n",
              "      <th>P/Cap.Giro</th>\n",
              "      <th>P/EBIT</th>\n",
              "      <th>P/Ativ Circ.Liq</th>\n",
              "      <th>EV/EBIT</th>\n",
              "      <th>EV/EBITDA</th>\n",
              "      <th>Mrg Ebit</th>\n",
              "      <th>Mrg. Líq.</th>\n",
              "      <th>Liq. Corr.</th>\n",
              "      <th>ROIC</th>\n",
              "      <th>ROE</th>\n",
              "      <th>Liq.2meses</th>\n",
              "      <th>Patrim. Líq</th>\n",
              "      <th>Dív.Brut/ Patrim.</th>\n",
              "      <th>Cresc. Rec.5a</th>\n",
              "    </tr>\n",
              "  </thead>\n",
              "  <tbody>\n",
              "    <tr>\n",
              "      <th>0</th>\n",
              "      <td>MNSA3</td>\n",
              "      <td>0.42</td>\n",
              "      <td>0.0</td>\n",
              "      <td>0.0</td>\n",
              "      <td>0.0</td>\n",
              "      <td>0,00%</td>\n",
              "      <td>0.0</td>\n",
              "      <td>0.0</td>\n",
              "      <td>0.0</td>\n",
              "      <td>0.0</td>\n",
              "      <td>0.0</td>\n",
              "      <td>0.0</td>\n",
              "      <td>-208,15%</td>\n",
              "      <td>-362,66%</td>\n",
              "      <td>3.63</td>\n",
              "      <td>-13,50%</td>\n",
              "      <td>145,70%</td>\n",
              "      <td>0.0</td>\n",
              "      <td>-9105000.0</td>\n",
              "      <td>-6.52</td>\n",
              "      <td>-41,11%</td>\n",
              "    </tr>\n",
              "    <tr>\n",
              "      <th>1</th>\n",
              "      <td>POPR4</td>\n",
              "      <td>10.17</td>\n",
              "      <td>0.0</td>\n",
              "      <td>0.0</td>\n",
              "      <td>0.0</td>\n",
              "      <td>0,00%</td>\n",
              "      <td>0.0</td>\n",
              "      <td>0.0</td>\n",
              "      <td>0.0</td>\n",
              "      <td>0.0</td>\n",
              "      <td>0.0</td>\n",
              "      <td>0.0</td>\n",
              "      <td>8,66%</td>\n",
              "      <td>5,65%</td>\n",
              "      <td>1.08</td>\n",
              "      <td>15,25%</td>\n",
              "      <td>19,93%</td>\n",
              "      <td>0.0</td>\n",
              "      <td>545803000.0</td>\n",
              "      <td>0.82</td>\n",
              "      <td>30,93%</td>\n",
              "    </tr>\n",
              "  </tbody>\n",
              "</table>\n",
              "</div>"
            ],
            "text/plain": [
              "   Papel  Cotação  P/L  ...  Patrim. Líq  Dív.Brut/ Patrim. Cresc. Rec.5a\n",
              "0  MNSA3     0.42  0.0  ...   -9105000.0              -6.52       -41,11%\n",
              "1  POPR4    10.17  0.0  ...  545803000.0               0.82        30,93%\n",
              "\n",
              "[2 rows x 21 columns]"
            ]
          },
          "metadata": {
            "tags": []
          },
          "execution_count": 99
        }
      ]
    },
    {
      "cell_type": "code",
      "metadata": {
        "id": "NecUreJnxNHm"
      },
      "source": [
        "for coluna in ['Div.Yield'\t, 'Mrg Ebit', 'Mrg. Líq.' , 'ROIC' , 'ROE', 'Cresc. Rec.5a']:\n",
        "  df[coluna] = df[coluna].str.replace('.','')\n",
        "  df[coluna] = df[coluna].str.replace(',','.')\n",
        "  df[coluna] = df[coluna].str.rstrip('%').astype('float')/100"
      ],
      "execution_count": 100,
      "outputs": []
    },
    {
      "cell_type": "code",
      "metadata": {
        "colab": {
          "base_uri": "https://localhost:8080/",
          "height": 456
        },
        "id": "GnZgO0iS4UKD",
        "outputId": "315f2e1f-2846-4522-e88e-3339aadf7b20"
      },
      "source": [
        "df"
      ],
      "execution_count": 101,
      "outputs": [
        {
          "output_type": "execute_result",
          "data": {
            "text/html": [
              "<div>\n",
              "<style scoped>\n",
              "    .dataframe tbody tr th:only-of-type {\n",
              "        vertical-align: middle;\n",
              "    }\n",
              "\n",
              "    .dataframe tbody tr th {\n",
              "        vertical-align: top;\n",
              "    }\n",
              "\n",
              "    .dataframe thead th {\n",
              "        text-align: right;\n",
              "    }\n",
              "</style>\n",
              "<table border=\"1\" class=\"dataframe\">\n",
              "  <thead>\n",
              "    <tr style=\"text-align: right;\">\n",
              "      <th></th>\n",
              "      <th>Papel</th>\n",
              "      <th>Cotação</th>\n",
              "      <th>P/L</th>\n",
              "      <th>P/VP</th>\n",
              "      <th>PSR</th>\n",
              "      <th>Div.Yield</th>\n",
              "      <th>P/Ativo</th>\n",
              "      <th>P/Cap.Giro</th>\n",
              "      <th>P/EBIT</th>\n",
              "      <th>P/Ativ Circ.Liq</th>\n",
              "      <th>EV/EBIT</th>\n",
              "      <th>EV/EBITDA</th>\n",
              "      <th>Mrg Ebit</th>\n",
              "      <th>Mrg. Líq.</th>\n",
              "      <th>Liq. Corr.</th>\n",
              "      <th>ROIC</th>\n",
              "      <th>ROE</th>\n",
              "      <th>Liq.2meses</th>\n",
              "      <th>Patrim. Líq</th>\n",
              "      <th>Dív.Brut/ Patrim.</th>\n",
              "      <th>Cresc. Rec.5a</th>\n",
              "    </tr>\n",
              "  </thead>\n",
              "  <tbody>\n",
              "    <tr>\n",
              "      <th>0</th>\n",
              "      <td>MNSA3</td>\n",
              "      <td>0.42</td>\n",
              "      <td>0.00</td>\n",
              "      <td>0.00</td>\n",
              "      <td>0.000</td>\n",
              "      <td>0.0000</td>\n",
              "      <td>0.000</td>\n",
              "      <td>0.00</td>\n",
              "      <td>0.00</td>\n",
              "      <td>0.00</td>\n",
              "      <td>0.00</td>\n",
              "      <td>0.00</td>\n",
              "      <td>-2.0815</td>\n",
              "      <td>-3.6266</td>\n",
              "      <td>3.63</td>\n",
              "      <td>-0.1350</td>\n",
              "      <td>1.4570</td>\n",
              "      <td>0.0</td>\n",
              "      <td>-9.105000e+06</td>\n",
              "      <td>-6.52</td>\n",
              "      <td>-0.4111</td>\n",
              "    </tr>\n",
              "    <tr>\n",
              "      <th>1</th>\n",
              "      <td>POPR4</td>\n",
              "      <td>10.17</td>\n",
              "      <td>0.00</td>\n",
              "      <td>0.00</td>\n",
              "      <td>0.000</td>\n",
              "      <td>0.0000</td>\n",
              "      <td>0.000</td>\n",
              "      <td>0.00</td>\n",
              "      <td>0.00</td>\n",
              "      <td>0.00</td>\n",
              "      <td>0.00</td>\n",
              "      <td>0.00</td>\n",
              "      <td>0.0866</td>\n",
              "      <td>0.0565</td>\n",
              "      <td>1.08</td>\n",
              "      <td>0.1525</td>\n",
              "      <td>0.1993</td>\n",
              "      <td>0.0</td>\n",
              "      <td>5.458030e+08</td>\n",
              "      <td>0.82</td>\n",
              "      <td>0.3093</td>\n",
              "    </tr>\n",
              "    <tr>\n",
              "      <th>2</th>\n",
              "      <td>PMET3</td>\n",
              "      <td>0.00</td>\n",
              "      <td>0.00</td>\n",
              "      <td>0.00</td>\n",
              "      <td>0.000</td>\n",
              "      <td>0.0000</td>\n",
              "      <td>0.000</td>\n",
              "      <td>0.00</td>\n",
              "      <td>0.00</td>\n",
              "      <td>0.00</td>\n",
              "      <td>0.00</td>\n",
              "      <td>0.00</td>\n",
              "      <td>0.0000</td>\n",
              "      <td>0.0000</td>\n",
              "      <td>0.00</td>\n",
              "      <td>0.0000</td>\n",
              "      <td>0.0410</td>\n",
              "      <td>0.0</td>\n",
              "      <td>-2.908630e+08</td>\n",
              "      <td>0.00</td>\n",
              "      <td>0.3774</td>\n",
              "    </tr>\n",
              "    <tr>\n",
              "      <th>3</th>\n",
              "      <td>CFLU4</td>\n",
              "      <td>1000.00</td>\n",
              "      <td>0.00</td>\n",
              "      <td>0.00</td>\n",
              "      <td>0.000</td>\n",
              "      <td>0.0000</td>\n",
              "      <td>0.000</td>\n",
              "      <td>0.00</td>\n",
              "      <td>0.00</td>\n",
              "      <td>0.00</td>\n",
              "      <td>0.00</td>\n",
              "      <td>0.00</td>\n",
              "      <td>0.0888</td>\n",
              "      <td>0.1072</td>\n",
              "      <td>1.10</td>\n",
              "      <td>0.1768</td>\n",
              "      <td>0.3215</td>\n",
              "      <td>0.0</td>\n",
              "      <td>6.035100e+07</td>\n",
              "      <td>0.06</td>\n",
              "      <td>0.0814</td>\n",
              "    </tr>\n",
              "    <tr>\n",
              "      <th>4</th>\n",
              "      <td>CSTB4</td>\n",
              "      <td>147.69</td>\n",
              "      <td>0.00</td>\n",
              "      <td>0.00</td>\n",
              "      <td>0.000</td>\n",
              "      <td>0.0000</td>\n",
              "      <td>0.000</td>\n",
              "      <td>0.00</td>\n",
              "      <td>0.00</td>\n",
              "      <td>0.00</td>\n",
              "      <td>0.00</td>\n",
              "      <td>0.00</td>\n",
              "      <td>0.4085</td>\n",
              "      <td>0.2898</td>\n",
              "      <td>2.60</td>\n",
              "      <td>0.2240</td>\n",
              "      <td>0.2011</td>\n",
              "      <td>0.0</td>\n",
              "      <td>8.420670e+09</td>\n",
              "      <td>0.14</td>\n",
              "      <td>0.3191</td>\n",
              "    </tr>\n",
              "    <tr>\n",
              "      <th>...</th>\n",
              "      <td>...</td>\n",
              "      <td>...</td>\n",
              "      <td>...</td>\n",
              "      <td>...</td>\n",
              "      <td>...</td>\n",
              "      <td>...</td>\n",
              "      <td>...</td>\n",
              "      <td>...</td>\n",
              "      <td>...</td>\n",
              "      <td>...</td>\n",
              "      <td>...</td>\n",
              "      <td>...</td>\n",
              "      <td>...</td>\n",
              "      <td>...</td>\n",
              "      <td>...</td>\n",
              "      <td>...</td>\n",
              "      <td>...</td>\n",
              "      <td>...</td>\n",
              "      <td>...</td>\n",
              "      <td>...</td>\n",
              "      <td>...</td>\n",
              "    </tr>\n",
              "    <tr>\n",
              "      <th>948</th>\n",
              "      <td>LWSA3</td>\n",
              "      <td>24.81</td>\n",
              "      <td>735.83</td>\n",
              "      <td>21.55</td>\n",
              "      <td>29.752</td>\n",
              "      <td>0.0011</td>\n",
              "      <td>10.001</td>\n",
              "      <td>40.70</td>\n",
              "      <td>335.64</td>\n",
              "      <td>499.08</td>\n",
              "      <td>329.36</td>\n",
              "      <td>142.72</td>\n",
              "      <td>0.0886</td>\n",
              "      <td>0.0404</td>\n",
              "      <td>1.79</td>\n",
              "      <td>0.0430</td>\n",
              "      <td>0.0293</td>\n",
              "      <td>240037000.0</td>\n",
              "      <td>6.739730e+08</td>\n",
              "      <td>0.23</td>\n",
              "      <td>0.2450</td>\n",
              "    </tr>\n",
              "    <tr>\n",
              "      <th>949</th>\n",
              "      <td>PRBC4</td>\n",
              "      <td>14.54</td>\n",
              "      <td>808.37</td>\n",
              "      <td>39.12</td>\n",
              "      <td>0.000</td>\n",
              "      <td>0.0000</td>\n",
              "      <td>0.000</td>\n",
              "      <td>0.00</td>\n",
              "      <td>0.00</td>\n",
              "      <td>0.00</td>\n",
              "      <td>0.00</td>\n",
              "      <td>0.00</td>\n",
              "      <td>0.0000</td>\n",
              "      <td>0.0000</td>\n",
              "      <td>0.00</td>\n",
              "      <td>0.0000</td>\n",
              "      <td>0.0484</td>\n",
              "      <td>0.0</td>\n",
              "      <td>1.210880e+09</td>\n",
              "      <td>0.00</td>\n",
              "      <td>0.1160</td>\n",
              "    </tr>\n",
              "    <tr>\n",
              "      <th>950</th>\n",
              "      <td>UBBR11</td>\n",
              "      <td>14.75</td>\n",
              "      <td>1201.81</td>\n",
              "      <td>3.91</td>\n",
              "      <td>0.000</td>\n",
              "      <td>0.0000</td>\n",
              "      <td>0.000</td>\n",
              "      <td>0.00</td>\n",
              "      <td>0.00</td>\n",
              "      <td>0.00</td>\n",
              "      <td>0.00</td>\n",
              "      <td>0.00</td>\n",
              "      <td>0.0000</td>\n",
              "      <td>0.0000</td>\n",
              "      <td>0.00</td>\n",
              "      <td>0.0000</td>\n",
              "      <td>0.0033</td>\n",
              "      <td>0.0</td>\n",
              "      <td>1.031720e+10</td>\n",
              "      <td>0.00</td>\n",
              "      <td>0.1058</td>\n",
              "    </tr>\n",
              "    <tr>\n",
              "      <th>951</th>\n",
              "      <td>UBBR3</td>\n",
              "      <td>18.00</td>\n",
              "      <td>1466.61</td>\n",
              "      <td>4.77</td>\n",
              "      <td>0.000</td>\n",
              "      <td>0.0000</td>\n",
              "      <td>0.000</td>\n",
              "      <td>0.00</td>\n",
              "      <td>0.00</td>\n",
              "      <td>0.00</td>\n",
              "      <td>0.00</td>\n",
              "      <td>0.00</td>\n",
              "      <td>0.0000</td>\n",
              "      <td>0.0000</td>\n",
              "      <td>0.00</td>\n",
              "      <td>0.0000</td>\n",
              "      <td>0.0033</td>\n",
              "      <td>0.0</td>\n",
              "      <td>1.031720e+10</td>\n",
              "      <td>0.00</td>\n",
              "      <td>0.1058</td>\n",
              "    </tr>\n",
              "    <tr>\n",
              "      <th>952</th>\n",
              "      <td>DMVF3</td>\n",
              "      <td>9.89</td>\n",
              "      <td>4068.81</td>\n",
              "      <td>0.60</td>\n",
              "      <td>0.498</td>\n",
              "      <td>0.0000</td>\n",
              "      <td>0.344</td>\n",
              "      <td>3.03</td>\n",
              "      <td>8.54</td>\n",
              "      <td>-3.69</td>\n",
              "      <td>7.26</td>\n",
              "      <td>3.14</td>\n",
              "      <td>0.0583</td>\n",
              "      <td>0.0001</td>\n",
              "      <td>1.52</td>\n",
              "      <td>0.0525</td>\n",
              "      <td>0.0001</td>\n",
              "      <td>2941910.0</td>\n",
              "      <td>8.361590e+08</td>\n",
              "      <td>0.16</td>\n",
              "      <td>-0.1129</td>\n",
              "    </tr>\n",
              "  </tbody>\n",
              "</table>\n",
              "<p>953 rows × 21 columns</p>\n",
              "</div>"
            ],
            "text/plain": [
              "      Papel  Cotação      P/L  ...   Patrim. Líq  Dív.Brut/ Patrim.  Cresc. Rec.5a\n",
              "0     MNSA3     0.42     0.00  ... -9.105000e+06              -6.52        -0.4111\n",
              "1     POPR4    10.17     0.00  ...  5.458030e+08               0.82         0.3093\n",
              "2     PMET3     0.00     0.00  ... -2.908630e+08               0.00         0.3774\n",
              "3     CFLU4  1000.00     0.00  ...  6.035100e+07               0.06         0.0814\n",
              "4     CSTB4   147.69     0.00  ...  8.420670e+09               0.14         0.3191\n",
              "..      ...      ...      ...  ...           ...                ...            ...\n",
              "948   LWSA3    24.81   735.83  ...  6.739730e+08               0.23         0.2450\n",
              "949   PRBC4    14.54   808.37  ...  1.210880e+09               0.00         0.1160\n",
              "950  UBBR11    14.75  1201.81  ...  1.031720e+10               0.00         0.1058\n",
              "951   UBBR3    18.00  1466.61  ...  1.031720e+10               0.00         0.1058\n",
              "952   DMVF3     9.89  4068.81  ...  8.361590e+08               0.16        -0.1129\n",
              "\n",
              "[953 rows x 21 columns]"
            ]
          },
          "metadata": {
            "tags": []
          },
          "execution_count": 101
        }
      ]
    },
    {
      "cell_type": "markdown",
      "metadata": {
        "id": "haFnWKEF66Vu"
      },
      "source": [
        ""
      ]
    },
    {
      "cell_type": "markdown",
      "metadata": {
        "id": "FDqXwF2S68Js"
      },
      "source": [
        "### analisar os dados"
      ]
    },
    {
      "cell_type": "code",
      "metadata": {
        "id": "P3iQkjB364M0"
      },
      "source": [
        "df= df[df['Liq.2meses'] > 1000000]"
      ],
      "execution_count": 102,
      "outputs": []
    },
    {
      "cell_type": "code",
      "metadata": {
        "colab": {
          "base_uri": "https://localhost:8080/"
        },
        "id": "7CHtxu6c7cFk",
        "outputId": "841d5784-1c4b-47e7-eafc-ccd5cfba0ab1"
      },
      "source": [
        "df['Liq.2meses']"
      ],
      "execution_count": 103,
      "outputs": [
        {
          "output_type": "execute_result",
          "data": {
            "text/plain": [
              "11     160583000.0\n",
              "12     296857000.0\n",
              "13      18716100.0\n",
              "15      22079900.0\n",
              "17       1480650.0\n",
              "          ...     \n",
              "943      5339110.0\n",
              "944      1654580.0\n",
              "947     32977200.0\n",
              "948    240037000.0\n",
              "952      2941910.0\n",
              "Name: Liq.2meses, Length: 270, dtype: float64"
            ]
          },
          "metadata": {
            "tags": []
          },
          "execution_count": 103
        }
      ]
    },
    {
      "cell_type": "code",
      "metadata": {
        "id": "mTjjYKf-7cwT"
      },
      "source": [
        "df= df[df['Liq.2meses'] > 9000000]"
      ],
      "execution_count": 104,
      "outputs": []
    },
    {
      "cell_type": "code",
      "metadata": {
        "colab": {
          "base_uri": "https://localhost:8080/"
        },
        "id": "M_taEctU7-9T",
        "outputId": "a728eec1-0028-448e-b683-bde524f744b7"
      },
      "source": [
        "df['Liq.2meses']"
      ],
      "execution_count": 105,
      "outputs": [
        {
          "output_type": "execute_result",
          "data": {
            "text/plain": [
              "11     160583000.0\n",
              "12     296857000.0\n",
              "13      18716100.0\n",
              "15      22079900.0\n",
              "18      15939000.0\n",
              "          ...     \n",
              "938     15557600.0\n",
              "940    772924000.0\n",
              "941    115675000.0\n",
              "947     32977200.0\n",
              "948    240037000.0\n",
              "Name: Liq.2meses, Length: 198, dtype: float64"
            ]
          },
          "metadata": {
            "tags": []
          },
          "execution_count": 105
        }
      ]
    },
    {
      "cell_type": "code",
      "metadata": {
        "id": "ihcuSBjY7_qq"
      },
      "source": [
        "ranking = pd.DataFrame()\n",
        "ranking['pos'] = range(1,151)\n",
        "ranking['EV/EBIT'] = df[ df['EV/EBIT'] > 0 ].sort_values(by=['EV/EBIT'])['Papel'][:150].values\n",
        "ranking['ROIC'] = df.sort_values(by=['ROIC'], ascending=False)['Papel'][:150].values"
      ],
      "execution_count": 106,
      "outputs": []
    },
    {
      "cell_type": "code",
      "metadata": {
        "colab": {
          "base_uri": "https://localhost:8080/",
          "height": 419
        },
        "id": "njnQI7me8kxg",
        "outputId": "d712847f-5b53-458b-cd01-21096eb760a3"
      },
      "source": [
        "ranking"
      ],
      "execution_count": 107,
      "outputs": [
        {
          "output_type": "execute_result",
          "data": {
            "text/html": [
              "<div>\n",
              "<style scoped>\n",
              "    .dataframe tbody tr th:only-of-type {\n",
              "        vertical-align: middle;\n",
              "    }\n",
              "\n",
              "    .dataframe tbody tr th {\n",
              "        vertical-align: top;\n",
              "    }\n",
              "\n",
              "    .dataframe thead th {\n",
              "        text-align: right;\n",
              "    }\n",
              "</style>\n",
              "<table border=\"1\" class=\"dataframe\">\n",
              "  <thead>\n",
              "    <tr style=\"text-align: right;\">\n",
              "      <th></th>\n",
              "      <th>pos</th>\n",
              "      <th>EV/EBIT</th>\n",
              "      <th>ROIC</th>\n",
              "    </tr>\n",
              "  </thead>\n",
              "  <tbody>\n",
              "    <tr>\n",
              "      <th>0</th>\n",
              "      <td>1</td>\n",
              "      <td>PSSA3</td>\n",
              "      <td>CMIN3</td>\n",
              "    </tr>\n",
              "    <tr>\n",
              "      <th>1</th>\n",
              "      <td>2</td>\n",
              "      <td>PCAR3</td>\n",
              "      <td>CASH3</td>\n",
              "    </tr>\n",
              "    <tr>\n",
              "      <th>2</th>\n",
              "      <td>3</td>\n",
              "      <td>MRFG3</td>\n",
              "      <td>WIZS3</td>\n",
              "    </tr>\n",
              "    <tr>\n",
              "      <th>3</th>\n",
              "      <td>4</td>\n",
              "      <td>GOAU4</td>\n",
              "      <td>PSSA3</td>\n",
              "    </tr>\n",
              "    <tr>\n",
              "      <th>4</th>\n",
              "      <td>5</td>\n",
              "      <td>WIZS3</td>\n",
              "      <td>ODPV3</td>\n",
              "    </tr>\n",
              "    <tr>\n",
              "      <th>...</th>\n",
              "      <td>...</td>\n",
              "      <td>...</td>\n",
              "      <td>...</td>\n",
              "    </tr>\n",
              "    <tr>\n",
              "      <th>145</th>\n",
              "      <td>146</td>\n",
              "      <td>SEQL3</td>\n",
              "      <td>SQIA3</td>\n",
              "    </tr>\n",
              "    <tr>\n",
              "      <th>146</th>\n",
              "      <td>147</td>\n",
              "      <td>BTOW3</td>\n",
              "      <td>BRML3</td>\n",
              "    </tr>\n",
              "    <tr>\n",
              "      <th>147</th>\n",
              "      <td>148</td>\n",
              "      <td>AMAR3</td>\n",
              "      <td>RRRP3</td>\n",
              "    </tr>\n",
              "    <tr>\n",
              "      <th>148</th>\n",
              "      <td>149</td>\n",
              "      <td>SQIA3</td>\n",
              "      <td>LOGG3</td>\n",
              "    </tr>\n",
              "    <tr>\n",
              "      <th>149</th>\n",
              "      <td>150</td>\n",
              "      <td>HGTX3</td>\n",
              "      <td>GFSA3</td>\n",
              "    </tr>\n",
              "  </tbody>\n",
              "</table>\n",
              "<p>150 rows × 3 columns</p>\n",
              "</div>"
            ],
            "text/plain": [
              "     pos EV/EBIT   ROIC\n",
              "0      1   PSSA3  CMIN3\n",
              "1      2   PCAR3  CASH3\n",
              "2      3   MRFG3  WIZS3\n",
              "3      4   GOAU4  PSSA3\n",
              "4      5   WIZS3  ODPV3\n",
              "..   ...     ...    ...\n",
              "145  146   SEQL3  SQIA3\n",
              "146  147   BTOW3  BRML3\n",
              "147  148   AMAR3  RRRP3\n",
              "148  149   SQIA3  LOGG3\n",
              "149  150   HGTX3  GFSA3\n",
              "\n",
              "[150 rows x 3 columns]"
            ]
          },
          "metadata": {
            "tags": []
          },
          "execution_count": 107
        }
      ]
    },
    {
      "cell_type": "code",
      "metadata": {
        "id": "zTUpgRDM_hr9"
      },
      "source": [
        "a = ranking.pivot_table(columns='EV/EBIT', values='pos')\n",
        "b = ranking.pivot_table(columns='ROIC', values='pos')"
      ],
      "execution_count": 108,
      "outputs": []
    },
    {
      "cell_type": "code",
      "metadata": {
        "colab": {
          "base_uri": "https://localhost:8080/",
          "height": 160
        },
        "id": "q4mSFGFz_mM7",
        "outputId": "4d6906e8-adf4-4d16-f2fc-169d6a6f4158"
      },
      "source": [
        "t = pd.concat([a,b])\n",
        "t"
      ],
      "execution_count": 109,
      "outputs": [
        {
          "output_type": "execute_result",
          "data": {
            "text/html": [
              "<div>\n",
              "<style scoped>\n",
              "    .dataframe tbody tr th:only-of-type {\n",
              "        vertical-align: middle;\n",
              "    }\n",
              "\n",
              "    .dataframe tbody tr th {\n",
              "        vertical-align: top;\n",
              "    }\n",
              "\n",
              "    .dataframe thead th {\n",
              "        text-align: right;\n",
              "    }\n",
              "</style>\n",
              "<table border=\"1\" class=\"dataframe\">\n",
              "  <thead>\n",
              "    <tr style=\"text-align: right;\">\n",
              "      <th></th>\n",
              "      <th>ABEV3</th>\n",
              "      <th>AERI3</th>\n",
              "      <th>AGRO3</th>\n",
              "      <th>ALPA4</th>\n",
              "      <th>ALSO3</th>\n",
              "      <th>ALUP11</th>\n",
              "      <th>AMAR3</th>\n",
              "      <th>AMBP3</th>\n",
              "      <th>ANIM3</th>\n",
              "      <th>ASAI3</th>\n",
              "      <th>AURA33</th>\n",
              "      <th>B3SA3</th>\n",
              "      <th>BEEF3</th>\n",
              "      <th>BMOB3</th>\n",
              "      <th>BOAS3</th>\n",
              "      <th>BRDT3</th>\n",
              "      <th>BRFS3</th>\n",
              "      <th>BRKM5</th>\n",
              "      <th>BRML3</th>\n",
              "      <th>BRPR3</th>\n",
              "      <th>BTOW3</th>\n",
              "      <th>CAML3</th>\n",
              "      <th>CCRO3</th>\n",
              "      <th>CESP6</th>\n",
              "      <th>CIEL3</th>\n",
              "      <th>CMIG3</th>\n",
              "      <th>CMIG4</th>\n",
              "      <th>CMIN3</th>\n",
              "      <th>CPFE3</th>\n",
              "      <th>CPLE3</th>\n",
              "      <th>CPLE6</th>\n",
              "      <th>CRFB3</th>\n",
              "      <th>CSAN3</th>\n",
              "      <th>CSMG3</th>\n",
              "      <th>CSNA3</th>\n",
              "      <th>CURY3</th>\n",
              "      <th>CYRE3</th>\n",
              "      <th>DIRR3</th>\n",
              "      <th>DTEX3</th>\n",
              "      <th>ECOR3</th>\n",
              "      <th>...</th>\n",
              "      <th>ROMI3</th>\n",
              "      <th>SAPR11</th>\n",
              "      <th>SAPR4</th>\n",
              "      <th>SBSP3</th>\n",
              "      <th>SEER3</th>\n",
              "      <th>SEQL3</th>\n",
              "      <th>SIMH3</th>\n",
              "      <th>SLCE3</th>\n",
              "      <th>SMLS3</th>\n",
              "      <th>SMTO3</th>\n",
              "      <th>SQIA3</th>\n",
              "      <th>SUZB3</th>\n",
              "      <th>TAEE11</th>\n",
              "      <th>TASA4</th>\n",
              "      <th>TEND3</th>\n",
              "      <th>TGMA3</th>\n",
              "      <th>TIET11</th>\n",
              "      <th>TIMS3</th>\n",
              "      <th>TOTS3</th>\n",
              "      <th>TRIS3</th>\n",
              "      <th>TRPL4</th>\n",
              "      <th>TUPY3</th>\n",
              "      <th>UGPA3</th>\n",
              "      <th>UNIP6</th>\n",
              "      <th>USIM3</th>\n",
              "      <th>USIM5</th>\n",
              "      <th>VALE3</th>\n",
              "      <th>VAMO3</th>\n",
              "      <th>VIVA3</th>\n",
              "      <th>VIVT3</th>\n",
              "      <th>VVAR3</th>\n",
              "      <th>WEGE3</th>\n",
              "      <th>WIZS3</th>\n",
              "      <th>YDUQ3</th>\n",
              "      <th>ARZZ3</th>\n",
              "      <th>CASH3</th>\n",
              "      <th>LWSA3</th>\n",
              "      <th>MGLU3</th>\n",
              "      <th>RRRP3</th>\n",
              "      <th>SULA11</th>\n",
              "    </tr>\n",
              "  </thead>\n",
              "  <tbody>\n",
              "    <tr>\n",
              "      <th>pos</th>\n",
              "      <td>76</td>\n",
              "      <td>134</td>\n",
              "      <td>43</td>\n",
              "      <td>133</td>\n",
              "      <td>85</td>\n",
              "      <td>7</td>\n",
              "      <td>148.0</td>\n",
              "      <td>99</td>\n",
              "      <td>96</td>\n",
              "      <td>60</td>\n",
              "      <td>35</td>\n",
              "      <td>77</td>\n",
              "      <td>16</td>\n",
              "      <td>114</td>\n",
              "      <td>137</td>\n",
              "      <td>90</td>\n",
              "      <td>53</td>\n",
              "      <td>9</td>\n",
              "      <td>100</td>\n",
              "      <td>113.0</td>\n",
              "      <td>147</td>\n",
              "      <td>37</td>\n",
              "      <td>93</td>\n",
              "      <td>78</td>\n",
              "      <td>84</td>\n",
              "      <td>33</td>\n",
              "      <td>20</td>\n",
              "      <td>17</td>\n",
              "      <td>46</td>\n",
              "      <td>8</td>\n",
              "      <td>12</td>\n",
              "      <td>48</td>\n",
              "      <td>62</td>\n",
              "      <td>26</td>\n",
              "      <td>23</td>\n",
              "      <td>63</td>\n",
              "      <td>92</td>\n",
              "      <td>44</td>\n",
              "      <td>80</td>\n",
              "      <td>40</td>\n",
              "      <td>...</td>\n",
              "      <td>97</td>\n",
              "      <td>10</td>\n",
              "      <td>11</td>\n",
              "      <td>50</td>\n",
              "      <td>38</td>\n",
              "      <td>146</td>\n",
              "      <td>75</td>\n",
              "      <td>69</td>\n",
              "      <td>59</td>\n",
              "      <td>71</td>\n",
              "      <td>149</td>\n",
              "      <td>94</td>\n",
              "      <td>32</td>\n",
              "      <td>15</td>\n",
              "      <td>31</td>\n",
              "      <td>70</td>\n",
              "      <td>22</td>\n",
              "      <td>45</td>\n",
              "      <td>79</td>\n",
              "      <td>58</td>\n",
              "      <td>13</td>\n",
              "      <td>65</td>\n",
              "      <td>95</td>\n",
              "      <td>47</td>\n",
              "      <td>30</td>\n",
              "      <td>28</td>\n",
              "      <td>6</td>\n",
              "      <td>118</td>\n",
              "      <td>119</td>\n",
              "      <td>66</td>\n",
              "      <td>49</td>\n",
              "      <td>130</td>\n",
              "      <td>5</td>\n",
              "      <td>125</td>\n",
              "      <td>NaN</td>\n",
              "      <td>NaN</td>\n",
              "      <td>NaN</td>\n",
              "      <td>NaN</td>\n",
              "      <td>NaN</td>\n",
              "      <td>NaN</td>\n",
              "    </tr>\n",
              "    <tr>\n",
              "      <th>pos</th>\n",
              "      <td>38</td>\n",
              "      <td>67</td>\n",
              "      <td>37</td>\n",
              "      <td>28</td>\n",
              "      <td>141</td>\n",
              "      <td>35</td>\n",
              "      <td>NaN</td>\n",
              "      <td>62</td>\n",
              "      <td>111</td>\n",
              "      <td>18</td>\n",
              "      <td>10</td>\n",
              "      <td>23</td>\n",
              "      <td>20</td>\n",
              "      <td>25</td>\n",
              "      <td>72</td>\n",
              "      <td>109</td>\n",
              "      <td>86</td>\n",
              "      <td>21</td>\n",
              "      <td>147</td>\n",
              "      <td>NaN</td>\n",
              "      <td>137</td>\n",
              "      <td>48</td>\n",
              "      <td>104</td>\n",
              "      <td>136</td>\n",
              "      <td>138</td>\n",
              "      <td>87</td>\n",
              "      <td>88</td>\n",
              "      <td>1</td>\n",
              "      <td>53</td>\n",
              "      <td>82</td>\n",
              "      <td>81</td>\n",
              "      <td>46</td>\n",
              "      <td>123</td>\n",
              "      <td>60</td>\n",
              "      <td>12</td>\n",
              "      <td>24</td>\n",
              "      <td>125</td>\n",
              "      <td>122</td>\n",
              "      <td>70</td>\n",
              "      <td>32</td>\n",
              "      <td>...</td>\n",
              "      <td>100</td>\n",
              "      <td>43</td>\n",
              "      <td>42</td>\n",
              "      <td>94</td>\n",
              "      <td>101</td>\n",
              "      <td>144</td>\n",
              "      <td>110</td>\n",
              "      <td>54</td>\n",
              "      <td>112</td>\n",
              "      <td>83</td>\n",
              "      <td>146</td>\n",
              "      <td>99</td>\n",
              "      <td>27</td>\n",
              "      <td>7</td>\n",
              "      <td>61</td>\n",
              "      <td>45</td>\n",
              "      <td>19</td>\n",
              "      <td>95</td>\n",
              "      <td>14</td>\n",
              "      <td>77</td>\n",
              "      <td>36</td>\n",
              "      <td>106</td>\n",
              "      <td>113</td>\n",
              "      <td>16</td>\n",
              "      <td>31</td>\n",
              "      <td>30</td>\n",
              "      <td>8</td>\n",
              "      <td>63</td>\n",
              "      <td>56</td>\n",
              "      <td>119</td>\n",
              "      <td>64</td>\n",
              "      <td>17</td>\n",
              "      <td>3</td>\n",
              "      <td>131</td>\n",
              "      <td>143.0</td>\n",
              "      <td>2.0</td>\n",
              "      <td>135.0</td>\n",
              "      <td>126.0</td>\n",
              "      <td>148.0</td>\n",
              "      <td>96.0</td>\n",
              "    </tr>\n",
              "  </tbody>\n",
              "</table>\n",
              "<p>2 rows × 156 columns</p>\n",
              "</div>"
            ],
            "text/plain": [
              "     ABEV3  AERI3  AGRO3  ALPA4  ALSO3  ...  CASH3  LWSA3  MGLU3  RRRP3  SULA11\n",
              "pos     76    134     43    133     85  ...    NaN    NaN    NaN    NaN     NaN\n",
              "pos     38     67     37     28    141  ...    2.0  135.0  126.0  148.0    96.0\n",
              "\n",
              "[2 rows x 156 columns]"
            ]
          },
          "metadata": {
            "tags": []
          },
          "execution_count": 109
        }
      ]
    },
    {
      "cell_type": "code",
      "metadata": {
        "colab": {
          "base_uri": "https://localhost:8080/"
        },
        "id": "-St7ObAO_nlN",
        "outputId": "1aa9c5af-e19a-4ef6-b3d4-67441d9e1276"
      },
      "source": [
        "rank = t.dropna(axis=1).sum()\n",
        "rank"
      ],
      "execution_count": 110,
      "outputs": [
        {
          "output_type": "execute_result",
          "data": {
            "text/plain": [
              "ABEV3    114\n",
              "AERI3    201\n",
              "AGRO3     80\n",
              "ALPA4    161\n",
              "ALSO3    226\n",
              "        ... \n",
              "VIVT3    185\n",
              "VVAR3    113\n",
              "WEGE3    147\n",
              "WIZS3      8\n",
              "YDUQ3    256\n",
              "Length: 144, dtype: int64"
            ]
          },
          "metadata": {
            "tags": []
          },
          "execution_count": 110
        }
      ]
    },
    {
      "cell_type": "code",
      "metadata": {
        "colab": {
          "base_uri": "https://localhost:8080/"
        },
        "id": "_aORKZvD_rHy",
        "outputId": "092050b8-3fd6-4180-f5a0-c069b3d8c5c5"
      },
      "source": [
        "rank.sort_values()[:10]"
      ],
      "execution_count": 111,
      "outputs": [
        {
          "output_type": "execute_result",
          "data": {
            "text/plain": [
              "PSSA3      5\n",
              "WIZS3      8\n",
              "MRFG3     12\n",
              "VALE3     14\n",
              "CMIN3     18\n",
              "TASA4     22\n",
              "BRKM5     30\n",
              "CSNA3     35\n",
              "BEEF3     36\n",
              "TIET11    41\n",
              "dtype: int64"
            ]
          },
          "metadata": {
            "tags": []
          },
          "execution_count": 111
        }
      ]
    },
    {
      "cell_type": "code",
      "metadata": {
        "colab": {
          "base_uri": "https://localhost:8080/"
        },
        "id": "fv3Lw0-NAA0x",
        "outputId": "b8d3b5b8-86c7-41b9-9b27-96d52ea74a2d"
      },
      "source": [
        "rank.sort_values()[-10:]"
      ],
      "execution_count": 112,
      "outputs": [
        {
          "output_type": "execute_result",
          "data": {
            "text/plain": [
              "NTCO3    263\n",
              "LINX3    263\n",
              "POSI3    265\n",
              "OPCT3    268\n",
              "ESPA3    270\n",
              "LOGG3    271\n",
              "HBSA3    275\n",
              "BTOW3    284\n",
              "SEQL3    290\n",
              "SQIA3    295\n",
              "dtype: int64"
            ]
          },
          "metadata": {
            "tags": []
          },
          "execution_count": 112
        }
      ]
    }
  ]
}