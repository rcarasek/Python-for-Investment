{
  "nbformat": 4,
  "nbformat_minor": 0,
  "metadata": {
    "colab": {
      "name": "CURVA DE JUROS.ipynb",
      "provenance": [],
      "authorship_tag": "ABX9TyMKVdLi0kmR6Dtv4RhurUgz",
      "include_colab_link": true
    },
    "kernelspec": {
      "name": "python3",
      "display_name": "Python 3"
    },
    "language_info": {
      "name": "python"
    }
  },
  "cells": [
    {
      "cell_type": "markdown",
      "metadata": {
        "id": "view-in-github",
        "colab_type": "text"
      },
      "source": [
        "<a href=\"https://colab.research.google.com/github/rcarasek/Python-for-Investment/blob/main/CURVA_DE_JUROS.ipynb\" target=\"_parent\"><img src=\"https://colab.research.google.com/assets/colab-badge.svg\" alt=\"Open In Colab\"/></a>"
      ]
    },
    {
      "cell_type": "markdown",
      "metadata": {
        "id": "_K7U8AfBE2ud"
      },
      "source": [
        "https://www.youtube.com/watch?v=JmpZQAIDboo\n"
      ]
    },
    {
      "cell_type": "code",
      "metadata": {
        "colab": {
          "base_uri": "https://localhost:8080/"
        },
        "id": "TBJ8QCHz_JsO",
        "outputId": "6b3754d6-5980-4ecf-ac56-a8614d1416db"
      },
      "source": [
        "pip install investpy"
      ],
      "execution_count": 24,
      "outputs": [
        {
          "output_type": "stream",
          "text": [
            "Requirement already satisfied: investpy in /usr/local/lib/python3.7/dist-packages (1.0.6)\n",
            "Requirement already satisfied: setuptools>=41.2.0 in /usr/local/lib/python3.7/dist-packages (from investpy) (56.1.0)\n",
            "Requirement already satisfied: numpy>=1.17.2 in /usr/local/lib/python3.7/dist-packages (from investpy) (1.19.5)\n",
            "Requirement already satisfied: pytz>=2019.3 in /usr/local/lib/python3.7/dist-packages (from investpy) (2021.1)\n",
            "Requirement already satisfied: Unidecode>=1.1.1 in /usr/local/lib/python3.7/dist-packages (from investpy) (1.2.0)\n",
            "Requirement already satisfied: lxml>=4.4.1 in /usr/local/lib/python3.7/dist-packages (from investpy) (4.6.3)\n",
            "Requirement already satisfied: requests>=2.22.0 in /usr/local/lib/python3.7/dist-packages (from investpy) (2.23.0)\n",
            "Requirement already satisfied: pandas>=0.25.1 in /usr/local/lib/python3.7/dist-packages (from investpy) (1.1.5)\n",
            "Requirement already satisfied: idna<3,>=2.5 in /usr/local/lib/python3.7/dist-packages (from requests>=2.22.0->investpy) (2.10)\n",
            "Requirement already satisfied: chardet<4,>=3.0.2 in /usr/local/lib/python3.7/dist-packages (from requests>=2.22.0->investpy) (3.0.4)\n",
            "Requirement already satisfied: urllib3!=1.25.0,!=1.25.1,<1.26,>=1.21.1 in /usr/local/lib/python3.7/dist-packages (from requests>=2.22.0->investpy) (1.24.3)\n",
            "Requirement already satisfied: certifi>=2017.4.17 in /usr/local/lib/python3.7/dist-packages (from requests>=2.22.0->investpy) (2020.12.5)\n",
            "Requirement already satisfied: python-dateutil>=2.7.3 in /usr/local/lib/python3.7/dist-packages (from pandas>=0.25.1->investpy) (2.8.1)\n",
            "Requirement already satisfied: six>=1.5 in /usr/local/lib/python3.7/dist-packages (from python-dateutil>=2.7.3->pandas>=0.25.1->investpy) (1.15.0)\n"
          ],
          "name": "stdout"
        }
      ]
    },
    {
      "cell_type": "code",
      "metadata": {
        "id": "5UpfDl5g_OnP"
      },
      "source": [
        "import investpy as inv\n",
        "import matplotlib.pyplot as plt\n",
        "import matplotlib\n",
        "import pandas as pd\n",
        "import seaborn as sns; sns.set()"
      ],
      "execution_count": 25,
      "outputs": []
    },
    {
      "cell_type": "code",
      "metadata": {
        "id": "khR1tdt-_tRO"
      },
      "source": [
        "matplotlib.rcParams['figure.figsize'] = (16,5)"
      ],
      "execution_count": 34,
      "outputs": []
    },
    {
      "cell_type": "code",
      "metadata": {
        "id": "H8NFfpZ2_30-"
      },
      "source": [
        "fundos_br = inv.get_funds_list('brazil')"
      ],
      "execution_count": 27,
      "outputs": []
    },
    {
      "cell_type": "code",
      "metadata": {
        "id": "FV2CQq-jATvC"
      },
      "source": [
        "bonds_br = inv.get_bonds_list(country='brazil')"
      ],
      "execution_count": 28,
      "outputs": []
    },
    {
      "cell_type": "code",
      "metadata": {
        "colab": {
          "base_uri": "https://localhost:8080/"
        },
        "id": "ibtelQajAg8h",
        "outputId": "b8e2cca6-47f3-4f41-e7f5-5df023e6f0bd"
      },
      "source": [
        "bonds_br"
      ],
      "execution_count": 29,
      "outputs": [
        {
          "output_type": "execute_result",
          "data": {
            "text/plain": [
              "['Brazil 3M',\n",
              " 'Brazil 6M',\n",
              " 'Brazil 9M',\n",
              " 'Brazil 1Y',\n",
              " 'Brazil 2Y',\n",
              " 'Brazil 3Y',\n",
              " 'Brazil 5Y',\n",
              " 'Brazil 8Y',\n",
              " 'Brazil 10Y']"
            ]
          },
          "metadata": {
            "tags": []
          },
          "execution_count": 29
        }
      ]
    },
    {
      "cell_type": "code",
      "metadata": {
        "id": "ksmsqaFiAiKx"
      },
      "source": [
        "bonds_overview = inv.get_bonds_overview('brazil')"
      ],
      "execution_count": 30,
      "outputs": []
    },
    {
      "cell_type": "code",
      "metadata": {
        "colab": {
          "base_uri": "https://localhost:8080/",
          "height": 328
        },
        "id": "jRQU6YOmA0Sa",
        "outputId": "91fc8736-d010-4c9f-9431-a1360e0f4274"
      },
      "source": [
        "bonds_overview"
      ],
      "execution_count": 31,
      "outputs": [
        {
          "output_type": "execute_result",
          "data": {
            "text/html": [
              "<div>\n",
              "<style scoped>\n",
              "    .dataframe tbody tr th:only-of-type {\n",
              "        vertical-align: middle;\n",
              "    }\n",
              "\n",
              "    .dataframe tbody tr th {\n",
              "        vertical-align: top;\n",
              "    }\n",
              "\n",
              "    .dataframe thead th {\n",
              "        text-align: right;\n",
              "    }\n",
              "</style>\n",
              "<table border=\"1\" class=\"dataframe\">\n",
              "  <thead>\n",
              "    <tr style=\"text-align: right;\">\n",
              "      <th></th>\n",
              "      <th>country</th>\n",
              "      <th>name</th>\n",
              "      <th>last</th>\n",
              "      <th>last_close</th>\n",
              "      <th>high</th>\n",
              "      <th>low</th>\n",
              "      <th>change</th>\n",
              "      <th>change_percentage</th>\n",
              "    </tr>\n",
              "  </thead>\n",
              "  <tbody>\n",
              "    <tr>\n",
              "      <th>0</th>\n",
              "      <td>brazil</td>\n",
              "      <td>Brazil 3M</td>\n",
              "      <td>3.845</td>\n",
              "      <td>3.764</td>\n",
              "      <td>3.782</td>\n",
              "      <td>3.757</td>\n",
              "      <td>+0.081</td>\n",
              "      <td>+2.14%</td>\n",
              "    </tr>\n",
              "    <tr>\n",
              "      <th>1</th>\n",
              "      <td>brazil</td>\n",
              "      <td>Brazil 6M</td>\n",
              "      <td>4.478</td>\n",
              "      <td>4.435</td>\n",
              "      <td>4.475</td>\n",
              "      <td>4.430</td>\n",
              "      <td>+0.043</td>\n",
              "      <td>+0.96%</td>\n",
              "    </tr>\n",
              "    <tr>\n",
              "      <th>2</th>\n",
              "      <td>brazil</td>\n",
              "      <td>Brazil 9M</td>\n",
              "      <td>5.148</td>\n",
              "      <td>5.115</td>\n",
              "      <td>5.100</td>\n",
              "      <td>5.060</td>\n",
              "      <td>+0.033</td>\n",
              "      <td>+0.64%</td>\n",
              "    </tr>\n",
              "    <tr>\n",
              "      <th>3</th>\n",
              "      <td>brazil</td>\n",
              "      <td>Brazil 1Y</td>\n",
              "      <td>5.577</td>\n",
              "      <td>5.590</td>\n",
              "      <td>5.685</td>\n",
              "      <td>5.565</td>\n",
              "      <td>-0.013</td>\n",
              "      <td>-0.23%</td>\n",
              "    </tr>\n",
              "    <tr>\n",
              "      <th>4</th>\n",
              "      <td>brazil</td>\n",
              "      <td>Brazil 2Y</td>\n",
              "      <td>7.199</td>\n",
              "      <td>7.575</td>\n",
              "      <td>7.585</td>\n",
              "      <td>7.535</td>\n",
              "      <td>-0.377</td>\n",
              "      <td>-4.97%</td>\n",
              "    </tr>\n",
              "    <tr>\n",
              "      <th>5</th>\n",
              "      <td>brazil</td>\n",
              "      <td>Brazil 3Y</td>\n",
              "      <td>7.426</td>\n",
              "      <td>7.955</td>\n",
              "      <td>7.985</td>\n",
              "      <td>7.930</td>\n",
              "      <td>-0.529</td>\n",
              "      <td>-6.65%</td>\n",
              "    </tr>\n",
              "    <tr>\n",
              "      <th>6</th>\n",
              "      <td>brazil</td>\n",
              "      <td>Brazil 5Y</td>\n",
              "      <td>8.209</td>\n",
              "      <td>8.325</td>\n",
              "      <td>8.235</td>\n",
              "      <td>8.235</td>\n",
              "      <td>-0.116</td>\n",
              "      <td>-1.39%</td>\n",
              "    </tr>\n",
              "    <tr>\n",
              "      <th>7</th>\n",
              "      <td>brazil</td>\n",
              "      <td>Brazil 8Y</td>\n",
              "      <td>8.818</td>\n",
              "      <td>8.910</td>\n",
              "      <td>9.235</td>\n",
              "      <td>8.860</td>\n",
              "      <td>-0.092</td>\n",
              "      <td>-1.03%</td>\n",
              "    </tr>\n",
              "    <tr>\n",
              "      <th>8</th>\n",
              "      <td>brazil</td>\n",
              "      <td>Brazil 10Y</td>\n",
              "      <td>9.417</td>\n",
              "      <td>9.495</td>\n",
              "      <td>9.455</td>\n",
              "      <td>9.455</td>\n",
              "      <td>-0.078</td>\n",
              "      <td>-0.82%</td>\n",
              "    </tr>\n",
              "  </tbody>\n",
              "</table>\n",
              "</div>"
            ],
            "text/plain": [
              "  country        name   last  ...    low  change  change_percentage\n",
              "0  brazil   Brazil 3M  3.845  ...  3.757  +0.081             +2.14%\n",
              "1  brazil   Brazil 6M  4.478  ...  4.430  +0.043             +0.96%\n",
              "2  brazil   Brazil 9M  5.148  ...  5.060  +0.033             +0.64%\n",
              "3  brazil   Brazil 1Y  5.577  ...  5.565  -0.013             -0.23%\n",
              "4  brazil   Brazil 2Y  7.199  ...  7.535  -0.377             -4.97%\n",
              "5  brazil   Brazil 3Y  7.426  ...  7.930  -0.529             -6.65%\n",
              "6  brazil   Brazil 5Y  8.209  ...  8.235  -0.116             -1.39%\n",
              "7  brazil   Brazil 8Y  8.818  ...  8.860  -0.092             -1.03%\n",
              "8  brazil  Brazil 10Y  9.417  ...  9.455  -0.078             -0.82%\n",
              "\n",
              "[9 rows x 8 columns]"
            ]
          },
          "metadata": {
            "tags": []
          },
          "execution_count": 31
        }
      ]
    },
    {
      "cell_type": "code",
      "metadata": {
        "colab": {
          "base_uri": "https://localhost:8080/",
          "height": 142
        },
        "id": "gb48DA5KA7N5",
        "outputId": "1494b420-49dd-4c07-cc5e-abb487a61b69"
      },
      "source": [
        "bonds_overview.head(3)"
      ],
      "execution_count": 32,
      "outputs": [
        {
          "output_type": "execute_result",
          "data": {
            "text/html": [
              "<div>\n",
              "<style scoped>\n",
              "    .dataframe tbody tr th:only-of-type {\n",
              "        vertical-align: middle;\n",
              "    }\n",
              "\n",
              "    .dataframe tbody tr th {\n",
              "        vertical-align: top;\n",
              "    }\n",
              "\n",
              "    .dataframe thead th {\n",
              "        text-align: right;\n",
              "    }\n",
              "</style>\n",
              "<table border=\"1\" class=\"dataframe\">\n",
              "  <thead>\n",
              "    <tr style=\"text-align: right;\">\n",
              "      <th></th>\n",
              "      <th>country</th>\n",
              "      <th>name</th>\n",
              "      <th>last</th>\n",
              "      <th>last_close</th>\n",
              "      <th>high</th>\n",
              "      <th>low</th>\n",
              "      <th>change</th>\n",
              "      <th>change_percentage</th>\n",
              "    </tr>\n",
              "  </thead>\n",
              "  <tbody>\n",
              "    <tr>\n",
              "      <th>0</th>\n",
              "      <td>brazil</td>\n",
              "      <td>Brazil 3M</td>\n",
              "      <td>3.845</td>\n",
              "      <td>3.764</td>\n",
              "      <td>3.782</td>\n",
              "      <td>3.757</td>\n",
              "      <td>+0.081</td>\n",
              "      <td>+2.14%</td>\n",
              "    </tr>\n",
              "    <tr>\n",
              "      <th>1</th>\n",
              "      <td>brazil</td>\n",
              "      <td>Brazil 6M</td>\n",
              "      <td>4.478</td>\n",
              "      <td>4.435</td>\n",
              "      <td>4.475</td>\n",
              "      <td>4.430</td>\n",
              "      <td>+0.043</td>\n",
              "      <td>+0.96%</td>\n",
              "    </tr>\n",
              "    <tr>\n",
              "      <th>2</th>\n",
              "      <td>brazil</td>\n",
              "      <td>Brazil 9M</td>\n",
              "      <td>5.148</td>\n",
              "      <td>5.115</td>\n",
              "      <td>5.100</td>\n",
              "      <td>5.060</td>\n",
              "      <td>+0.033</td>\n",
              "      <td>+0.64%</td>\n",
              "    </tr>\n",
              "  </tbody>\n",
              "</table>\n",
              "</div>"
            ],
            "text/plain": [
              "  country       name   last  last_close   high    low  change change_percentage\n",
              "0  brazil  Brazil 3M  3.845       3.764  3.782  3.757  +0.081            +2.14%\n",
              "1  brazil  Brazil 6M  4.478       4.435  4.475  4.430  +0.043            +0.96%\n",
              "2  brazil  Brazil 9M  5.148       5.115  5.100  5.060  +0.033            +0.64%"
            ]
          },
          "metadata": {
            "tags": []
          },
          "execution_count": 32
        }
      ]
    },
    {
      "cell_type": "code",
      "metadata": {
        "colab": {
          "base_uri": "https://localhost:8080/",
          "height": 339
        },
        "id": "SJopoEBNB_vv",
        "outputId": "79cbef40-9d9c-4b9d-ec90-7b6ac68b5600"
      },
      "source": [
        "plt.plot(bonds_br, bonds_overview['last_close'])"
      ],
      "execution_count": 35,
      "outputs": [
        {
          "output_type": "execute_result",
          "data": {
            "text/plain": [
              "[<matplotlib.lines.Line2D at 0x7f9d04155c50>]"
            ]
          },
          "metadata": {
            "tags": []
          },
          "execution_count": 35
        },
        {
          "output_type": "display_data",
          "data": {
            "image/png": "[encoded data removed]",
            "text/plain": [
              "<Figure size 1152x360 with 1 Axes>"
            ]
          },
          "metadata": {
            "tags": []
          }
        }
      ]
    },
    {
      "cell_type": "code",
      "metadata": {
        "id": "MT285MG3CSXd"
      },
      "source": [
        ""
      ],
      "execution_count": 33,
      "outputs": []
    }
  ]
}