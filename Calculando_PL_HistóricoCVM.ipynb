{
  "nbformat": 4,
  "nbformat_minor": 0,
  "metadata": {
    "colab": {
      "name": "Calculando PL HistóricoCVM.ipynb",
      "provenance": [],
      "authorship_tag": "ABX9TyMVqkxr3/pM66GEQEwF7/BB",
      "include_colab_link": true
    },
    "kernelspec": {
      "name": "python3",
      "display_name": "Python 3"
    },
    "language_info": {
      "name": "python"
    }
  },
  "cells": [
    {
      "cell_type": "markdown",
      "metadata": {
        "id": "view-in-github",
        "colab_type": "text"
      },
      "source": [
        "<a href=\"https://colab.research.google.com/github/rcarasek/Python-for-Investment/blob/main/Calculando_PL_Hist%C3%B3ricoCVM.ipynb\" target=\"_parent\"><img src=\"https://colab.research.google.com/assets/colab-badge.svg\" alt=\"Open In Colab\"/></a>"
      ]
    },
    {
      "cell_type": "markdown",
      "metadata": {
        "id": "01Nspb-em8Jc"
      },
      "source": [
        "### baixar dados CVM"
      ]
    },
    {
      "cell_type": "code",
      "metadata": {
        "id": "WkgLTssHmQ0n"
      },
      "source": [
        "!pip install wget\n",
        "\n",
        "import pandas as pd\n",
        "import wget \n",
        "from  zipfile import ZipFile "
      ],
      "execution_count": null,
      "outputs": []
    },
    {
      "cell_type": "code",
      "metadata": {
        "id": "F9cF6szgnj12"
      },
      "source": [
        "url = 'http://dados.cvm.gov.br/dados/CIA_ABERTA/DOC/ITR/DADOS'\n"
      ],
      "execution_count": null,
      "outputs": []
    }
  ]
}