{
  "nbformat": 4,
  "nbformat_minor": 0,
  "metadata": {
    "colab": {
      "name": "pandas000.ipynb",
      "provenance": [],
      "toc_visible": true,
      "authorship_tag": "ABX9TyNe2pA8iLmeoWQcvv8Gfmvg",
      "include_colab_link": true
    },
    "kernelspec": {
      "name": "python3",
      "display_name": "Python 3"
    },
    "language_info": {
      "name": "python"
    }
  },
  "cells": [
    {
      "cell_type": "markdown",
      "metadata": {
        "id": "view-in-github",
        "colab_type": "text"
      },
      "source": [
        "<a href=\"https://colab.research.google.com/github/rcarasek/Python-for-Investment/blob/main/pandas000.ipynb\" target=\"_parent\"><img src=\"https://colab.research.google.com/assets/colab-badge.svg\" alt=\"Open In Colab\"/></a>"
      ]
    },
    {
      "cell_type": "code",
      "metadata": {
        "id": "7BcxcCLXBFMp"
      },
      "source": [
        "pip install yfinance"
      ],
      "execution_count": null,
      "outputs": []
    },
    {
      "cell_type": "code",
      "metadata": {
        "id": "e74rvcjtAzSj"
      },
      "source": [
        "import yfinance as yf\n",
        "import pandas as pd"
      ],
      "execution_count": 18,
      "outputs": []
    },
    {
      "cell_type": "markdown",
      "metadata": {
        "id": "752c1lMmEiQI"
      },
      "source": [
        "## Tuple: Unchangeable ()"
      ]
    },
    {
      "cell_type": "code",
      "metadata": {
        "colab": {
          "base_uri": "https://localhost:8080/"
        },
        "id": "gOZrJZiZBQ2V",
        "outputId": "1ace6f2e-b9c6-49ba-defd-a4d4e55239c2"
      },
      "source": [
        "x = (\"apple\", \"banana\", \"cherry\")\n",
        "print(x)\n",
        "print(type(x)) "
      ],
      "execution_count": 19,
      "outputs": [
        {
          "output_type": "stream",
          "text": [
            "('apple', 'banana', 'cherry')\n",
            "<class 'tuple'>\n"
          ],
          "name": "stdout"
        }
      ]
    },
    {
      "cell_type": "markdown",
      "metadata": {
        "id": "Yy8MqcqIECxb"
      },
      "source": [
        "## Lists: Changeable []"
      ]
    },
    {
      "cell_type": "code",
      "metadata": {
        "colab": {
          "base_uri": "https://localhost:8080/"
        },
        "id": "AdvddUAwDknR",
        "outputId": "f8772954-ea11-4719-9c3a-0d534507431e"
      },
      "source": [
        "x = [\"apple\", \"banana\", \"cherry\"]\n",
        "print(x)\n",
        "print(type(x)) "
      ],
      "execution_count": 20,
      "outputs": [
        {
          "output_type": "stream",
          "text": [
            "['apple', 'banana', 'cherry']\n",
            "<class 'list'>\n"
          ],
          "name": "stdout"
        }
      ]
    },
    {
      "cell_type": "code",
      "metadata": {
        "colab": {
          "base_uri": "https://localhost:8080/"
        },
        "id": "KN43a5dKDptQ",
        "outputId": "4898b85a-b006-4796-d707-58d5025aaa93"
      },
      "source": [
        "aaa = 'BBSE3.SA'\n",
        "df_ativo = yf.download(aaa)"
      ],
      "execution_count": 21,
      "outputs": [
        {
          "output_type": "stream",
          "text": [
            "\r[*********************100%***********************]  1 of 1 completed\n"
          ],
          "name": "stdout"
        }
      ]
    },
    {
      "cell_type": "code",
      "metadata": {
        "colab": {
          "base_uri": "https://localhost:8080/",
          "height": 235
        },
        "id": "mnM0zisyFBdO",
        "outputId": "713d70c2-97c3-42e5-b6ed-ac712af4076c"
      },
      "source": [
        "df_ativo.tail(5)"
      ],
      "execution_count": 22,
      "outputs": [
        {
          "output_type": "execute_result",
          "data": {
            "text/html": [
              "<div>\n",
              "<style scoped>\n",
              "    .dataframe tbody tr th:only-of-type {\n",
              "        vertical-align: middle;\n",
              "    }\n",
              "\n",
              "    .dataframe tbody tr th {\n",
              "        vertical-align: top;\n",
              "    }\n",
              "\n",
              "    .dataframe thead th {\n",
              "        text-align: right;\n",
              "    }\n",
              "</style>\n",
              "<table border=\"1\" class=\"dataframe\">\n",
              "  <thead>\n",
              "    <tr style=\"text-align: right;\">\n",
              "      <th></th>\n",
              "      <th>Open</th>\n",
              "      <th>High</th>\n",
              "      <th>Low</th>\n",
              "      <th>Close</th>\n",
              "      <th>Adj Close</th>\n",
              "      <th>Volume</th>\n",
              "    </tr>\n",
              "    <tr>\n",
              "      <th>Date</th>\n",
              "      <th></th>\n",
              "      <th></th>\n",
              "      <th></th>\n",
              "      <th></th>\n",
              "      <th></th>\n",
              "      <th></th>\n",
              "    </tr>\n",
              "  </thead>\n",
              "  <tbody>\n",
              "    <tr>\n",
              "      <th>2021-05-24</th>\n",
              "      <td>23.700001</td>\n",
              "      <td>23.730000</td>\n",
              "      <td>23.510000</td>\n",
              "      <td>23.590000</td>\n",
              "      <td>23.590000</td>\n",
              "      <td>3855000</td>\n",
              "    </tr>\n",
              "    <tr>\n",
              "      <th>2021-05-25</th>\n",
              "      <td>23.490000</td>\n",
              "      <td>23.510000</td>\n",
              "      <td>23.209999</td>\n",
              "      <td>23.370001</td>\n",
              "      <td>23.370001</td>\n",
              "      <td>4848900</td>\n",
              "    </tr>\n",
              "    <tr>\n",
              "      <th>2021-05-26</th>\n",
              "      <td>23.450001</td>\n",
              "      <td>23.450001</td>\n",
              "      <td>23.170000</td>\n",
              "      <td>23.250000</td>\n",
              "      <td>23.250000</td>\n",
              "      <td>4656900</td>\n",
              "    </tr>\n",
              "    <tr>\n",
              "      <th>2021-05-27</th>\n",
              "      <td>23.250000</td>\n",
              "      <td>23.420000</td>\n",
              "      <td>23.180000</td>\n",
              "      <td>23.420000</td>\n",
              "      <td>23.420000</td>\n",
              "      <td>6368700</td>\n",
              "    </tr>\n",
              "    <tr>\n",
              "      <th>2021-05-28</th>\n",
              "      <td>23.410000</td>\n",
              "      <td>23.520000</td>\n",
              "      <td>23.320000</td>\n",
              "      <td>23.480000</td>\n",
              "      <td>23.480000</td>\n",
              "      <td>3012600</td>\n",
              "    </tr>\n",
              "  </tbody>\n",
              "</table>\n",
              "</div>"
            ],
            "text/plain": [
              "                 Open       High        Low      Close  Adj Close   Volume\n",
              "Date                                                                      \n",
              "2021-05-24  23.700001  23.730000  23.510000  23.590000  23.590000  3855000\n",
              "2021-05-25  23.490000  23.510000  23.209999  23.370001  23.370001  4848900\n",
              "2021-05-26  23.450001  23.450001  23.170000  23.250000  23.250000  4656900\n",
              "2021-05-27  23.250000  23.420000  23.180000  23.420000  23.420000  6368700\n",
              "2021-05-28  23.410000  23.520000  23.320000  23.480000  23.480000  3012600"
            ]
          },
          "metadata": {
            "tags": []
          },
          "execution_count": 22
        }
      ]
    },
    {
      "cell_type": "code",
      "metadata": {
        "id": "BBRXXtkJFZId"
      },
      "source": [
        "fechamento = df_ativo.Close"
      ],
      "execution_count": 23,
      "outputs": []
    },
    {
      "cell_type": "code",
      "metadata": {
        "id": "i1rkQrz9wR8Q"
      },
      "source": [
        "fechamento = df_ativo['Close']"
      ],
      "execution_count": 24,
      "outputs": []
    },
    {
      "cell_type": "code",
      "metadata": {
        "colab": {
          "base_uri": "https://localhost:8080/",
          "height": 332
        },
        "id": "Xtuy3tLoHv2b",
        "outputId": "783708f5-dc69-428c-e102-3bab9d826eb5"
      },
      "source": [
        "fechamento.plot(figsize=(22,7), label= aaa)\n",
        "df_ativo['Close'].rolling(21).mean().plot(label=\"MM21\")\n"
      ],
      "execution_count": 25,
      "outputs": [
        {
          "output_type": "execute_result",
          "data": {
            "text/plain": [
              "<matplotlib.axes._subplots.AxesSubplot at 0x7f9fa0703ed0>"
            ]
          },
          "metadata": {
            "tags": []
          },
          "execution_count": 25
        },
        {
          "output_type": "display_data",
          "data": {
            "image/png": "[encoded data removed]",
            "text/plain": [
              "<Figure size 1584x504 with 1 Axes>"
            ]
          },
          "metadata": {
            "tags": [],
            "needs_background": "light"
          }
        }
      ]
    },
    {
      "cell_type": "code",
      "metadata": {
        "id": "0dn-LFACzYqM"
      },
      "source": [
        "from datetime import datetime"
      ],
      "execution_count": 26,
      "outputs": []
    },
    {
      "cell_type": "code",
      "metadata": {
        "colab": {
          "base_uri": "https://localhost:8080/"
        },
        "id": "-eDK3FxkIG_7",
        "outputId": "2c3a99d0-fd19-4d35-9064-5c71f27e1ac3"
      },
      "source": [
        "today = datetime.today().strftime('%Y-%m-%d')\n",
        "print(today)"
      ],
      "execution_count": 27,
      "outputs": [
        {
          "output_type": "stream",
          "text": [
            "2021-05-31\n"
          ],
          "name": "stdout"
        }
      ]
    },
    {
      "cell_type": "code",
      "metadata": {
        "id": "t6pck2FGzy1V"
      },
      "source": [
        "cofrinho = pd.read_excel('/content/Ativos_Orders_Py.xlsx',sheet_name='ativo')"
      ],
      "execution_count": 28,
      "outputs": []
    },
    {
      "cell_type": "code",
      "metadata": {
        "id": "xRN1uQpe0a1s"
      },
      "source": [
        "cofrinho_codAtivo = cofrinho['CÓDIGO'] + '.SA'"
      ],
      "execution_count": 29,
      "outputs": []
    },
    {
      "cell_type": "code",
      "metadata": {
        "colab": {
          "base_uri": "https://localhost:8080/"
        },
        "id": "s3NDx9fc0b3l",
        "outputId": "7a715c26-118a-4310-d4cf-484d1bcae6a0"
      },
      "source": [
        "cofrinho_codAtivo"
      ],
      "execution_count": 30,
      "outputs": [
        {
          "output_type": "execute_result",
          "data": {
            "text/plain": [
              "0      BBAS3.SA\n",
              "1      BBSE3.SA\n",
              "2      CMIG4.SA\n",
              "3      COCE5.SA\n",
              "4      COGN3.SA\n",
              "5      CSAN3.SA\n",
              "6      DIRR3.SA\n",
              "7      ELET3.SA\n",
              "8      GGBR4.SA\n",
              "9      GGBR4.SA\n",
              "10     IRBR3.SA\n",
              "11     ITSA4.SA\n",
              "12     ITSA4.SA\n",
              "13     JPSA3.SA\n",
              "14     MTRE3.SA\n",
              "15     OIBR3.SA\n",
              "16     RRRP3.SA\n",
              "17    SAPR11.SA\n",
              "18     SAPR4.SA\n",
              "19     VALE3.SA\n",
              "Name: CÓDIGO, dtype: object"
            ]
          },
          "metadata": {
            "tags": []
          },
          "execution_count": 30
        }
      ]
    },
    {
      "cell_type": "code",
      "metadata": {
        "id": "OKxWfKjB4nvk",
        "colab": {
          "base_uri": "https://localhost:8080/",
          "height": 35
        },
        "outputId": "6889e318-ca98-4f61-c9a5-2dfa298e8e47"
      },
      "source": [
        "cofrinho_codAtivo[5]"
      ],
      "execution_count": 31,
      "outputs": [
        {
          "output_type": "execute_result",
          "data": {
            "application/vnd.google.colaboratory.intrinsic+json": {
              "type": "string"
            },
            "text/plain": [
              "'CSAN3.SA'"
            ]
          },
          "metadata": {
            "tags": []
          },
          "execution_count": 31
        }
      ]
    },
    {
      "cell_type": "markdown",
      "metadata": {
        "id": "FK-duWnmc1gG"
      },
      "source": [
        ""
      ]
    },
    {
      "cell_type": "code",
      "metadata": {
        "colab": {
          "base_uri": "https://localhost:8080/"
        },
        "id": "7YNYPwxBhtf1",
        "outputId": "be3c9246-09ab-4908-bd86-dfe1a7d173b7"
      },
      "source": [
        "price = 'R$ 1.999,99'\n",
        "parsed = float(    price    .replace('R$', '')    .strip()    .replace('.', '')    .replace(',', '.') ) \n",
        "parsed"
      ],
      "execution_count": 58,
      "outputs": [
        {
          "output_type": "execute_result",
          "data": {
            "text/plain": [
              "1999.99"
            ]
          },
          "metadata": {
            "tags": []
          },
          "execution_count": 58
        }
      ]
    },
    {
      "cell_type": "code",
      "metadata": {
        "colab": {
          "base_uri": "https://localhost:8080/"
        },
        "id": "sW7QPjP5IMQf",
        "outputId": "3f48a448-afb6-49a3-caba-d2bfa39ab56f"
      },
      "source": [
        "stock = yf.Ticker(\"BBSE3.SA\")\n",
        "fechamento= stock.info['regularMarketPrice']\n",
        "print(fechamento)"
      ],
      "execution_count": 42,
      "outputs": [
        {
          "output_type": "stream",
          "text": [
            "23.39\n"
          ],
          "name": "stdout"
        }
      ]
    },
    {
      "cell_type": "code",
      "metadata": {
        "colab": {
          "base_uri": "https://localhost:8080/"
        },
        "id": "dyAheL20cesp",
        "outputId": "ae59b572-8039-4f1b-a616-73714c6ccb25"
      },
      "source": [
        "ff = []\n",
        "for i in cofrinho_codAtivo:\n",
        "  # ativo = yf.Ticker(i)\n",
        "  fechamento = yf.Ticker(i).info['regularMarketPreviousClose']\n",
        "  print(i, fechamento)\n",
        "  ff.append(fechamento)"
      ],
      "execution_count": 67,
      "outputs": [
        {
          "output_type": "stream",
          "text": [
            "BBAS3.SA 33.54\n",
            "BBSE3.SA 23.39\n",
            "CMIG4.SA 13.7\n",
            "COCE5.SA 55.98\n",
            "COGN3.SA 4.26\n",
            "CSAN3.SA 21.92\n",
            "DIRR3.SA 13.24\n",
            "ELET3.SA 43.13\n",
            "GGBR4.SA 32.65\n",
            "GGBR4.SA 32.65\n",
            "IRBR3.SA 6\n",
            "ITSA4.SA 10.9\n",
            "ITSA4.SA 10.9\n",
            "JPSA3.SA 29.9\n",
            "MTRE3.SA 11.97\n",
            "OIBR3.SA 1.53\n",
            "RRRP3.SA 40.9\n",
            "SAPR11.SA 20.3\n",
            "SAPR4.SA 4.1\n",
            "VALE3.SA 111.59\n"
          ],
          "name": "stdout"
        }
      ]
    },
    {
      "cell_type": "code",
      "metadata": {
        "colab": {
          "base_uri": "https://localhost:8080/"
        },
        "id": "JE0MgOlZlYu_",
        "outputId": "e3cbbe41-28f6-4eb7-9cad-e90b93e7cc84"
      },
      "source": [
        "print(type(ff))"
      ],
      "execution_count": 70,
      "outputs": [
        {
          "output_type": "stream",
          "text": [
            "<class 'list'>\n"
          ],
          "name": "stdout"
        }
      ]
    },
    {
      "cell_type": "code",
      "metadata": {
        "colab": {
          "base_uri": "https://localhost:8080/"
        },
        "id": "r-fb5GYhlnQN",
        "outputId": "3e6074ba-1143-4c1d-f4d8-57e1e97e14fa"
      },
      "source": [
        "print(type(cofrinho_codAtivo))"
      ],
      "execution_count": 71,
      "outputs": [
        {
          "output_type": "stream",
          "text": [
            "<class 'pandas.core.series.Series'>\n"
          ],
          "name": "stdout"
        }
      ]
    },
    {
      "cell_type": "code",
      "metadata": {
        "id": "eeDvtMCylm40"
      },
      "source": [
        ""
      ],
      "execution_count": null,
      "outputs": []
    },
    {
      "cell_type": "code",
      "metadata": {
        "id": "TgkBzCjNlGC_"
      },
      "source": [
        "dados = {\n",
        "    'Ativo': cofrinho_codAtivo,\n",
        "    'ClosePrice' : ff     }\n",
        "df = pd.DataFrame(dados)"
      ],
      "execution_count": 74,
      "outputs": []
    },
    {
      "cell_type": "code",
      "metadata": {
        "colab": {
          "base_uri": "https://localhost:8080/",
          "height": 669
        },
        "id": "K7NBj6VEm4sN",
        "outputId": "f455eb3b-8b5c-4e79-96c3-f4a3fb2e8ece"
      },
      "source": [
        "df"
      ],
      "execution_count": 75,
      "outputs": [
        {
          "output_type": "execute_result",
          "data": {
            "text/html": [
              "<div>\n",
              "<style scoped>\n",
              "    .dataframe tbody tr th:only-of-type {\n",
              "        vertical-align: middle;\n",
              "    }\n",
              "\n",
              "    .dataframe tbody tr th {\n",
              "        vertical-align: top;\n",
              "    }\n",
              "\n",
              "    .dataframe thead th {\n",
              "        text-align: right;\n",
              "    }\n",
              "</style>\n",
              "<table border=\"1\" class=\"dataframe\">\n",
              "  <thead>\n",
              "    <tr style=\"text-align: right;\">\n",
              "      <th></th>\n",
              "      <th>Ativo</th>\n",
              "      <th>ClosePrice</th>\n",
              "    </tr>\n",
              "  </thead>\n",
              "  <tbody>\n",
              "    <tr>\n",
              "      <th>0</th>\n",
              "      <td>BBAS3.SA</td>\n",
              "      <td>33.54</td>\n",
              "    </tr>\n",
              "    <tr>\n",
              "      <th>1</th>\n",
              "      <td>BBSE3.SA</td>\n",
              "      <td>23.39</td>\n",
              "    </tr>\n",
              "    <tr>\n",
              "      <th>2</th>\n",
              "      <td>CMIG4.SA</td>\n",
              "      <td>13.70</td>\n",
              "    </tr>\n",
              "    <tr>\n",
              "      <th>3</th>\n",
              "      <td>COCE5.SA</td>\n",
              "      <td>55.98</td>\n",
              "    </tr>\n",
              "    <tr>\n",
              "      <th>4</th>\n",
              "      <td>COGN3.SA</td>\n",
              "      <td>4.26</td>\n",
              "    </tr>\n",
              "    <tr>\n",
              "      <th>5</th>\n",
              "      <td>CSAN3.SA</td>\n",
              "      <td>21.92</td>\n",
              "    </tr>\n",
              "    <tr>\n",
              "      <th>6</th>\n",
              "      <td>DIRR3.SA</td>\n",
              "      <td>13.24</td>\n",
              "    </tr>\n",
              "    <tr>\n",
              "      <th>7</th>\n",
              "      <td>ELET3.SA</td>\n",
              "      <td>43.13</td>\n",
              "    </tr>\n",
              "    <tr>\n",
              "      <th>8</th>\n",
              "      <td>GGBR4.SA</td>\n",
              "      <td>32.65</td>\n",
              "    </tr>\n",
              "    <tr>\n",
              "      <th>9</th>\n",
              "      <td>GGBR4.SA</td>\n",
              "      <td>32.65</td>\n",
              "    </tr>\n",
              "    <tr>\n",
              "      <th>10</th>\n",
              "      <td>IRBR3.SA</td>\n",
              "      <td>6.00</td>\n",
              "    </tr>\n",
              "    <tr>\n",
              "      <th>11</th>\n",
              "      <td>ITSA4.SA</td>\n",
              "      <td>10.90</td>\n",
              "    </tr>\n",
              "    <tr>\n",
              "      <th>12</th>\n",
              "      <td>ITSA4.SA</td>\n",
              "      <td>10.90</td>\n",
              "    </tr>\n",
              "    <tr>\n",
              "      <th>13</th>\n",
              "      <td>JPSA3.SA</td>\n",
              "      <td>29.90</td>\n",
              "    </tr>\n",
              "    <tr>\n",
              "      <th>14</th>\n",
              "      <td>MTRE3.SA</td>\n",
              "      <td>11.97</td>\n",
              "    </tr>\n",
              "    <tr>\n",
              "      <th>15</th>\n",
              "      <td>OIBR3.SA</td>\n",
              "      <td>1.53</td>\n",
              "    </tr>\n",
              "    <tr>\n",
              "      <th>16</th>\n",
              "      <td>RRRP3.SA</td>\n",
              "      <td>40.90</td>\n",
              "    </tr>\n",
              "    <tr>\n",
              "      <th>17</th>\n",
              "      <td>SAPR11.SA</td>\n",
              "      <td>20.30</td>\n",
              "    </tr>\n",
              "    <tr>\n",
              "      <th>18</th>\n",
              "      <td>SAPR4.SA</td>\n",
              "      <td>4.10</td>\n",
              "    </tr>\n",
              "    <tr>\n",
              "      <th>19</th>\n",
              "      <td>VALE3.SA</td>\n",
              "      <td>111.59</td>\n",
              "    </tr>\n",
              "  </tbody>\n",
              "</table>\n",
              "</div>"
            ],
            "text/plain": [
              "        Ativo  ClosePrice\n",
              "0    BBAS3.SA       33.54\n",
              "1    BBSE3.SA       23.39\n",
              "2    CMIG4.SA       13.70\n",
              "3    COCE5.SA       55.98\n",
              "4    COGN3.SA        4.26\n",
              "5    CSAN3.SA       21.92\n",
              "6    DIRR3.SA       13.24\n",
              "7    ELET3.SA       43.13\n",
              "8    GGBR4.SA       32.65\n",
              "9    GGBR4.SA       32.65\n",
              "10   IRBR3.SA        6.00\n",
              "11   ITSA4.SA       10.90\n",
              "12   ITSA4.SA       10.90\n",
              "13   JPSA3.SA       29.90\n",
              "14   MTRE3.SA       11.97\n",
              "15   OIBR3.SA        1.53\n",
              "16   RRRP3.SA       40.90\n",
              "17  SAPR11.SA       20.30\n",
              "18   SAPR4.SA        4.10\n",
              "19   VALE3.SA      111.59"
            ]
          },
          "metadata": {
            "tags": []
          },
          "execution_count": 75
        }
      ]
    },
    {
      "cell_type": "code",
      "metadata": {
        "id": "Hmdg_MFSnAkQ"
      },
      "source": [
        ""
      ],
      "execution_count": null,
      "outputs": []
    }
  ]
}