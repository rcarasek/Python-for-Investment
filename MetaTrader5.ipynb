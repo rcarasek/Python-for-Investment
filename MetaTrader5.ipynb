{
  "nbformat": 4,
  "nbformat_minor": 0,
  "metadata": {
    "colab": {
      "name": "MetaTrader5.ipynb",
      "provenance": [],
      "authorship_tag": "ABX9TyOZML9UhpuVPbXXC8SnZdoT",
      "include_colab_link": true
    },
    "kernelspec": {
      "name": "python3",
      "display_name": "Python 3"
    },
    "language_info": {
      "name": "python"
    }
  },
  "cells": [
    {
      "cell_type": "markdown",
      "metadata": {
        "id": "view-in-github",
        "colab_type": "text"
      },
      "source": [
        "<a href=\"https://colab.research.google.com/github/rcarasek/Python-for-Investment/blob/main/MetaTrader5.ipynb\" target=\"_parent\"><img src=\"https://colab.research.google.com/assets/colab-badge.svg\" alt=\"Open In Colab\"/></a>"
      ]
    },
    {
      "cell_type": "markdown",
      "metadata": {
        "id": "sg3I04L_2htS"
      },
      "source": [
        "https://www.mql5.com/pt/docs/integration/python_metatrader5\n"
      ]
    },
    {
      "cell_type": "code",
      "metadata": {
        "id": "nkFYVS7M18dN"
      },
      "source": [
        "import pandas as pd\n",
        "from datetime import datetime\n",
        "import time"
      ],
      "execution_count": null,
      "outputs": []
    },
    {
      "cell_type": "markdown",
      "metadata": {
        "id": "RYKaxkKI2ycl"
      },
      "source": [
        "Instalar suporte Python do MetaTrader 5"
      ]
    },
    {
      "cell_type": "code",
      "metadata": {
        "colab": {
          "base_uri": "https://localhost:8080/"
        },
        "id": "DlaPEcsP2xRc",
        "outputId": "c2c1adc9-532b-44c0-a06b-9f7c4772e590"
      },
      "source": [
        "!pip install MetaTrader5"
      ],
      "execution_count": null,
      "outputs": [
        {
          "output_type": "stream",
          "text": [
            "\u001b[31mERROR: Could not find a version that satisfies the requirement MetaTrader5 (from versions: none)\u001b[0m\n",
            "\u001b[31mERROR: No matching distribution found for MetaTrader5\u001b[0m\n"
          ],
          "name": "stdout"
        }
      ]
    },
    {
      "cell_type": "code",
      "metadata": {
        "id": "8DbcdqeJ2-5O"
      },
      "source": [
        "import MetaTrader5 as mt5"
      ],
      "execution_count": null,
      "outputs": []
    },
    {
      "cell_type": "code",
      "metadata": {
        "id": "nKnfSaHx54Nr"
      },
      "source": [
        ""
      ],
      "execution_count": null,
      "outputs": []
    }
  ]
}