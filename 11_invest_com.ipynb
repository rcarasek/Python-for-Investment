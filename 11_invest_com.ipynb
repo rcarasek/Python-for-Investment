{
  "nbformat": 4,
  "nbformat_minor": 0,
  "metadata": {
    "colab": {
      "name": "11 invest com.ipynb",
      "provenance": [],
      "authorship_tag": "ABX9TyOhLHW/WI6sMYQVkWI0sIy6",
      "include_colab_link": true
    },
    "kernelspec": {
      "name": "python3",
      "display_name": "Python 3"
    },
    "language_info": {
      "name": "python"
    }
  },
  "cells": [
    {
      "cell_type": "markdown",
      "metadata": {
        "id": "view-in-github",
        "colab_type": "text"
      },
      "source": [
        "<a href=\"https://colab.research.google.com/github/rcarasek/Python-for-Investment/blob/main/11_invest_com.ipynb\" target=\"_parent\"><img src=\"https://colab.research.google.com/assets/colab-badge.svg\" alt=\"Open In Colab\"/></a>"
      ]
    },
    {
      "cell_type": "code",
      "metadata": {
        "colab": {
          "base_uri": "https://localhost:8080/"
        },
        "id": "97xVNmgovUPy",
        "outputId": "43dcd2d9-197c-4a06-e551-41fe73896a85"
      },
      "source": [
        "!pip install investpy"
      ],
      "execution_count": 1,
      "outputs": [
        {
          "output_type": "stream",
          "text": [
            "Requirement already satisfied: investpy in /usr/local/lib/python3.7/dist-packages (1.0.6)\n",
            "Requirement already satisfied: lxml>=4.4.1 in /usr/local/lib/python3.7/dist-packages (from investpy) (4.6.3)\n",
            "Requirement already satisfied: pytz>=2019.3 in /usr/local/lib/python3.7/dist-packages (from investpy) (2021.1)\n",
            "Requirement already satisfied: numpy>=1.17.2 in /usr/local/lib/python3.7/dist-packages (from investpy) (1.19.5)\n",
            "Requirement already satisfied: requests>=2.22.0 in /usr/local/lib/python3.7/dist-packages (from investpy) (2.23.0)\n",
            "Requirement already satisfied: setuptools>=41.2.0 in /usr/local/lib/python3.7/dist-packages (from investpy) (56.1.0)\n",
            "Requirement already satisfied: pandas>=0.25.1 in /usr/local/lib/python3.7/dist-packages (from investpy) (1.1.5)\n",
            "Requirement already satisfied: Unidecode>=1.1.1 in /usr/local/lib/python3.7/dist-packages (from investpy) (1.2.0)\n",
            "Requirement already satisfied: idna<3,>=2.5 in /usr/local/lib/python3.7/dist-packages (from requests>=2.22.0->investpy) (2.10)\n",
            "Requirement already satisfied: certifi>=2017.4.17 in /usr/local/lib/python3.7/dist-packages (from requests>=2.22.0->investpy) (2020.12.5)\n",
            "Requirement already satisfied: chardet<4,>=3.0.2 in /usr/local/lib/python3.7/dist-packages (from requests>=2.22.0->investpy) (3.0.4)\n",
            "Requirement already satisfied: urllib3!=1.25.0,!=1.25.1,<1.26,>=1.21.1 in /usr/local/lib/python3.7/dist-packages (from requests>=2.22.0->investpy) (1.24.3)\n",
            "Requirement already satisfied: python-dateutil>=2.7.3 in /usr/local/lib/python3.7/dist-packages (from pandas>=0.25.1->investpy) (2.8.1)\n",
            "Requirement already satisfied: six>=1.5 in /usr/local/lib/python3.7/dist-packages (from python-dateutil>=2.7.3->pandas>=0.25.1->investpy) (1.15.0)\n"
          ],
          "name": "stdout"
        }
      ]
    },
    {
      "cell_type": "code",
      "metadata": {
        "id": "hYmbQKn8v9EF"
      },
      "source": [
        "import investpy as inv"
      ],
      "execution_count": 5,
      "outputs": []
    },
    {
      "cell_type": "code",
      "metadata": {
        "id": "Dr0CTz9FwOBN"
      },
      "source": [
        "import pandas as pd\n",
        "import matplotlib.pyplot as plt\n",
        "import seaborn as sns; sns.set()\n",
        "\n",
        "import matplotlib\n",
        "matplotlib.rcParams['figure.figsize'] = (16, 8)"
      ],
      "execution_count": 4,
      "outputs": []
    },
    {
      "cell_type": "markdown",
      "metadata": {
        "id": "Zfyb434Pwl0i"
      },
      "source": [
        "### fundos de investimento"
      ]
    },
    {
      "cell_type": "code",
      "metadata": {
        "id": "opBz1IwwwjL3"
      },
      "source": [
        "fundos_br = inv.get_funds_list(country='brazil')"
      ],
      "execution_count": 6,
      "outputs": []
    },
    {
      "cell_type": "code",
      "metadata": {
        "id": "It9ZzMy4w9g-"
      },
      "source": [
        "fundos_br"
      ],
      "execution_count": null,
      "outputs": []
    },
    {
      "cell_type": "code",
      "metadata": {
        "colab": {
          "base_uri": "https://localhost:8080/"
        },
        "id": "1Kz2o1wKw-qj",
        "outputId": "2bf77c8d-5048-4634-aa4f-22f6cfc8d785"
      },
      "source": [
        "len(fundos_br)"
      ],
      "execution_count": 8,
      "outputs": [
        {
          "output_type": "execute_result",
          "data": {
            "text/plain": [
              "5200"
            ]
          },
          "metadata": {
            "tags": []
          },
          "execution_count": 8
        }
      ]
    },
    {
      "cell_type": "code",
      "metadata": {
        "colab": {
          "base_uri": "https://localhost:8080/"
        },
        "id": "_9EJ1z4NxGJj",
        "outputId": "0a4952cc-f24a-49d9-9936-44461187fbb1"
      },
      "source": [
        "fundos_br[:5]"
      ],
      "execution_count": 9,
      "outputs": [
        {
          "output_type": "execute_result",
          "data": {
            "text/plain": [
              "['Fundo De Investimento Multimercado Bordeaux Iv Crédito Privado Investimento No Exterior',\n",
              " 'Cshg Warrior V Fundo De Investimento Multimercado - Crédito Privado Investimento No Exterior',\n",
              " 'A3 Viking Fi Em Quotas De Fi Multimercado Crédito Privado Investimento No Exterior',\n",
              " 'Bb Espelho Multimercado Lp J. Safra Absoluto 30 Private Fic Fi',\n",
              " 'Ctm Hedge Fundo De Investimento Multimercado - Longo Prazo']"
            ]
          },
          "metadata": {
            "tags": []
          },
          "execution_count": 9
        }
      ]
    },
    {
      "cell_type": "code",
      "metadata": {
        "colab": {
          "base_uri": "https://localhost:8080/"
        },
        "id": "MLk80KMGxLWC",
        "outputId": "e69edc08-6613-4732-a730-3124f97e7d74"
      },
      "source": [
        "type(fundos_br)"
      ],
      "execution_count": 11,
      "outputs": [
        {
          "output_type": "execute_result",
          "data": {
            "text/plain": [
              "list"
            ]
          },
          "metadata": {
            "tags": []
          },
          "execution_count": 11
        }
      ]
    },
    {
      "cell_type": "code",
      "metadata": {
        "colab": {
          "base_uri": "https://localhost:8080/",
          "height": 204
        },
        "id": "FOCSGjy4xOxT",
        "outputId": "8d3838b3-37ac-4eaa-d892-d1d2b6058753"
      },
      "source": [
        "pesq = inv.search_funds(by='name', value='alaska black')\n",
        "pesq"
      ],
      "execution_count": 13,
      "outputs": [
        {
          "output_type": "execute_result",
          "data": {
            "text/html": [
              "<div>\n",
              "<style scoped>\n",
              "    .dataframe tbody tr th:only-of-type {\n",
              "        vertical-align: middle;\n",
              "    }\n",
              "\n",
              "    .dataframe tbody tr th {\n",
              "        vertical-align: top;\n",
              "    }\n",
              "\n",
              "    .dataframe thead th {\n",
              "        text-align: right;\n",
              "    }\n",
              "</style>\n",
              "<table border=\"1\" class=\"dataframe\">\n",
              "  <thead>\n",
              "    <tr style=\"text-align: right;\">\n",
              "      <th></th>\n",
              "      <th>country</th>\n",
              "      <th>name</th>\n",
              "      <th>symbol</th>\n",
              "      <th>issuer</th>\n",
              "      <th>isin</th>\n",
              "      <th>asset_class</th>\n",
              "      <th>currency</th>\n",
              "      <th>underlying</th>\n",
              "    </tr>\n",
              "  </thead>\n",
              "  <tbody>\n",
              "    <tr>\n",
              "      <th>0</th>\n",
              "      <td>brazil</td>\n",
              "      <td>Alaska Black Fundo De Investimento Em Cotas De...</td>\n",
              "      <td>0P0000U9BK</td>\n",
              "      <td>Alaska Investimentos LTDA.</td>\n",
              "      <td>BRSKP7CTF008</td>\n",
              "      <td>other</td>\n",
              "      <td>BRL</td>\n",
              "      <td>NaN</td>\n",
              "    </tr>\n",
              "    <tr>\n",
              "      <th>1</th>\n",
              "      <td>brazil</td>\n",
              "      <td>Alaska Black Master Fundo De Investimento Em A...</td>\n",
              "      <td>0P0000U9BJ</td>\n",
              "      <td>Alaska Investimentos LTDA.</td>\n",
              "      <td>BRSKI1CTF000</td>\n",
              "      <td>other</td>\n",
              "      <td>BRL</td>\n",
              "      <td>NaN</td>\n",
              "    </tr>\n",
              "    <tr>\n",
              "      <th>2</th>\n",
              "      <td>brazil</td>\n",
              "      <td>Alaska Black Fundo De Investimento Em Cotas De...</td>\n",
              "      <td>0P00019LLR</td>\n",
              "      <td>Alaska Investimentos LTDA.</td>\n",
              "      <td>BRALK5CTF006</td>\n",
              "      <td>equity</td>\n",
              "      <td>BRL</td>\n",
              "      <td>NaN</td>\n",
              "    </tr>\n",
              "    <tr>\n",
              "      <th>3</th>\n",
              "      <td>brazil</td>\n",
              "      <td>Alaska Black Institucional Fundo De Investimen...</td>\n",
              "      <td>0P00019X6E</td>\n",
              "      <td>Alaska Investimentos LTDA.</td>\n",
              "      <td>BRASK4CTF002</td>\n",
              "      <td>equity</td>\n",
              "      <td>BRL</td>\n",
              "      <td>NaN</td>\n",
              "    </tr>\n",
              "    <tr>\n",
              "      <th>4</th>\n",
              "      <td>brazil</td>\n",
              "      <td>Alfa Alaska Black Institucional - Fundo De Inv...</td>\n",
              "      <td>0P0001CF6A</td>\n",
              "      <td>Banco Alfa Investimentos SA</td>\n",
              "      <td>BRLSK1CTF005</td>\n",
              "      <td>equity</td>\n",
              "      <td>BRL</td>\n",
              "      <td>NaN</td>\n",
              "    </tr>\n",
              "  </tbody>\n",
              "</table>\n",
              "</div>"
            ],
            "text/plain": [
              "  country  ... underlying\n",
              "0  brazil  ...        NaN\n",
              "1  brazil  ...        NaN\n",
              "2  brazil  ...        NaN\n",
              "3  brazil  ...        NaN\n",
              "4  brazil  ...        NaN\n",
              "\n",
              "[5 rows x 8 columns]"
            ]
          },
          "metadata": {
            "tags": []
          },
          "execution_count": 13
        }
      ]
    },
    {
      "cell_type": "code",
      "metadata": {
        "colab": {
          "base_uri": "https://localhost:8080/",
          "height": 35
        },
        "id": "rq1WfSVXxwhp",
        "outputId": "a48bcffd-b1c4-4cef-9d70-230b81d71846"
      },
      "source": [
        "pesq['name'][0]"
      ],
      "execution_count": 14,
      "outputs": [
        {
          "output_type": "execute_result",
          "data": {
            "application/vnd.google.colaboratory.intrinsic+json": {
              "type": "string"
            },
            "text/plain": [
              "'Alaska Black Fundo De Investimento Em Cotas De Fundos De Investimento Em Ações - Bdr Nível I'"
            ]
          },
          "metadata": {
            "tags": []
          },
          "execution_count": 14
        }
      ]
    },
    {
      "cell_type": "code",
      "metadata": {
        "colab": {
          "base_uri": "https://localhost:8080/",
          "height": 450
        },
        "id": "bci7Wn6Kx6iS",
        "outputId": "c5e6a691-528f-4e24-9abd-5975ed0d034b"
      },
      "source": [
        "fundo = 'Alaska Black Fundo De Investimento Em Cotas De Fundos De Investimento Em Ações - Bdr Nível I'\n",
        "alaska = inv.get_fund_historical_data(fundo, country='brazil', from_date='01/01/1990', to_date='01/01/2021')\n",
        "alaska"
      ],
      "execution_count": 15,
      "outputs": [
        {
          "output_type": "execute_result",
          "data": {
            "text/html": [
              "<div>\n",
              "<style scoped>\n",
              "    .dataframe tbody tr th:only-of-type {\n",
              "        vertical-align: middle;\n",
              "    }\n",
              "\n",
              "    .dataframe tbody tr th {\n",
              "        vertical-align: top;\n",
              "    }\n",
              "\n",
              "    .dataframe thead th {\n",
              "        text-align: right;\n",
              "    }\n",
              "</style>\n",
              "<table border=\"1\" class=\"dataframe\">\n",
              "  <thead>\n",
              "    <tr style=\"text-align: right;\">\n",
              "      <th></th>\n",
              "      <th>Open</th>\n",
              "      <th>High</th>\n",
              "      <th>Low</th>\n",
              "      <th>Close</th>\n",
              "      <th>Currency</th>\n",
              "    </tr>\n",
              "    <tr>\n",
              "      <th>Date</th>\n",
              "      <th></th>\n",
              "      <th></th>\n",
              "      <th></th>\n",
              "      <th></th>\n",
              "      <th></th>\n",
              "    </tr>\n",
              "  </thead>\n",
              "  <tbody>\n",
              "    <tr>\n",
              "      <th>2011-01-25</th>\n",
              "      <td>0.999</td>\n",
              "      <td>0.999</td>\n",
              "      <td>0.999</td>\n",
              "      <td>0.999</td>\n",
              "      <td>BRL</td>\n",
              "    </tr>\n",
              "    <tr>\n",
              "      <th>2011-01-26</th>\n",
              "      <td>0.991</td>\n",
              "      <td>0.991</td>\n",
              "      <td>0.991</td>\n",
              "      <td>0.991</td>\n",
              "      <td>BRL</td>\n",
              "    </tr>\n",
              "    <tr>\n",
              "      <th>2011-01-27</th>\n",
              "      <td>0.977</td>\n",
              "      <td>0.977</td>\n",
              "      <td>0.977</td>\n",
              "      <td>0.977</td>\n",
              "      <td>BRL</td>\n",
              "    </tr>\n",
              "    <tr>\n",
              "      <th>2011-01-28</th>\n",
              "      <td>0.956</td>\n",
              "      <td>0.956</td>\n",
              "      <td>0.956</td>\n",
              "      <td>0.956</td>\n",
              "      <td>BRL</td>\n",
              "    </tr>\n",
              "    <tr>\n",
              "      <th>2011-01-31</th>\n",
              "      <td>0.953</td>\n",
              "      <td>0.953</td>\n",
              "      <td>0.953</td>\n",
              "      <td>0.953</td>\n",
              "      <td>BRL</td>\n",
              "    </tr>\n",
              "    <tr>\n",
              "      <th>...</th>\n",
              "      <td>...</td>\n",
              "      <td>...</td>\n",
              "      <td>...</td>\n",
              "      <td>...</td>\n",
              "      <td>...</td>\n",
              "    </tr>\n",
              "    <tr>\n",
              "      <th>2020-12-24</th>\n",
              "      <td>2.583</td>\n",
              "      <td>2.583</td>\n",
              "      <td>2.583</td>\n",
              "      <td>2.583</td>\n",
              "      <td>BRL</td>\n",
              "    </tr>\n",
              "    <tr>\n",
              "      <th>2020-12-28</th>\n",
              "      <td>2.590</td>\n",
              "      <td>2.590</td>\n",
              "      <td>2.590</td>\n",
              "      <td>2.590</td>\n",
              "      <td>BRL</td>\n",
              "    </tr>\n",
              "    <tr>\n",
              "      <th>2020-12-29</th>\n",
              "      <td>2.631</td>\n",
              "      <td>2.631</td>\n",
              "      <td>2.631</td>\n",
              "      <td>2.631</td>\n",
              "      <td>BRL</td>\n",
              "    </tr>\n",
              "    <tr>\n",
              "      <th>2020-12-30</th>\n",
              "      <td>2.628</td>\n",
              "      <td>2.628</td>\n",
              "      <td>2.628</td>\n",
              "      <td>2.628</td>\n",
              "      <td>BRL</td>\n",
              "    </tr>\n",
              "    <tr>\n",
              "      <th>2020-12-31</th>\n",
              "      <td>2.629</td>\n",
              "      <td>2.629</td>\n",
              "      <td>2.629</td>\n",
              "      <td>2.629</td>\n",
              "      <td>BRL</td>\n",
              "    </tr>\n",
              "  </tbody>\n",
              "</table>\n",
              "<p>2483 rows × 5 columns</p>\n",
              "</div>"
            ],
            "text/plain": [
              "             Open   High    Low  Close Currency\n",
              "Date                                           \n",
              "2011-01-25  0.999  0.999  0.999  0.999      BRL\n",
              "2011-01-26  0.991  0.991  0.991  0.991      BRL\n",
              "2011-01-27  0.977  0.977  0.977  0.977      BRL\n",
              "2011-01-28  0.956  0.956  0.956  0.956      BRL\n",
              "2011-01-31  0.953  0.953  0.953  0.953      BRL\n",
              "...           ...    ...    ...    ...      ...\n",
              "2020-12-24  2.583  2.583  2.583  2.583      BRL\n",
              "2020-12-28  2.590  2.590  2.590  2.590      BRL\n",
              "2020-12-29  2.631  2.631  2.631  2.631      BRL\n",
              "2020-12-30  2.628  2.628  2.628  2.628      BRL\n",
              "2020-12-31  2.629  2.629  2.629  2.629      BRL\n",
              "\n",
              "[2483 rows x 5 columns]"
            ]
          },
          "metadata": {
            "tags": []
          },
          "execution_count": 15
        }
      ]
    },
    {
      "cell_type": "code",
      "metadata": {
        "colab": {
          "base_uri": "https://localhost:8080/"
        },
        "id": "2iDS3-pKyl3k",
        "outputId": "b7de5936-a57f-4322-af17-e4bfdd698967"
      },
      "source": [
        "alaska = inv.get_fund_historical_data(fundo, country='brazil', from_date='01/01/1990', to_date='01/01/2021')['Close']\n",
        "alaska"
      ],
      "execution_count": 16,
      "outputs": [
        {
          "output_type": "execute_result",
          "data": {
            "text/plain": [
              "Date\n",
              "2011-01-25    0.999\n",
              "2011-01-26    0.991\n",
              "2011-01-27    0.977\n",
              "2011-01-28    0.956\n",
              "2011-01-31    0.953\n",
              "              ...  \n",
              "2020-12-24    2.583\n",
              "2020-12-28    2.590\n",
              "2020-12-29    2.631\n",
              "2020-12-30    2.628\n",
              "2020-12-31    2.629\n",
              "Name: Close, Length: 2483, dtype: float64"
            ]
          },
          "metadata": {
            "tags": []
          },
          "execution_count": 16
        }
      ]
    },
    {
      "cell_type": "code",
      "metadata": {
        "colab": {
          "base_uri": "https://localhost:8080/",
          "height": 489
        },
        "id": "LEvLdf2UywWH",
        "outputId": "d2aa80f7-1fd1-4d40-9aeb-a7529bb7d4cc"
      },
      "source": [
        "alaska.plot()"
      ],
      "execution_count": 17,
      "outputs": [
        {
          "output_type": "execute_result",
          "data": {
            "text/plain": [
              "<matplotlib.axes._subplots.AxesSubplot at 0x7f986e49c350>"
            ]
          },
          "metadata": {
            "tags": []
          },
          "execution_count": 17
        },
        {
          "output_type": "display_data",
          "data": {
            "image/png": "[encoded data removed]",
            "text/plain": [
              "<Figure size 1152x576 with 1 Axes>"
            ]
          },
          "metadata": {
            "tags": []
          }
        }
      ]
    },
    {
      "cell_type": "code",
      "metadata": {
        "id": "1Fvmto9Iy3ff"
      },
      "source": [
        ""
      ],
      "execution_count": null,
      "outputs": []
    }
  ]
}